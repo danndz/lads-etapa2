{
 "cells": [
  {
   "cell_type": "markdown",
   "id": "2ba219a2-5490-4fdc-82b3-2fe53bec55af",
   "metadata": {},
   "source": [
    "# Introdução à Análise de Dados com Pandas\n",
    "## Processo Seletivo LADS - Etapa 2\n",
    "\n",
    "### Instruções:\n",
    "- Este notebook é um guia introdutório à análise de dados com Pandas\n",
    "- Cada seção contém exemplos explicativos e exercícios práticos\n",
    "- Complete todos os exercícios nas células marcadas com \"SEU CÓDIGO AQUI\"\n",
    "\n",
    "### O que será avaliado:\n",
    "- Compreensão dos conceitos apresentados\n",
    "- Capacidade de aplicar os conceitos em problemas práticos\n",
    "- Organização e clareza do código\n",
    "- Análise e interpretação dos resultados\n",
    "\n",
    "### Instruções importantes antes de começar:\n",
    "\n",
    "- **Execute todas as células de código em ordem sequencial** (de cima para baixo)\n",
    "- Não pule células de código, mesmo que pareçam não ter outputs visíveis\n",
    "- Isso garantirá que todas as variáveis necessárias estejam carregadas para os exercícios\n",
    "- Se encontrar erros do tipo \"variável não definida\", volte e verifique se todas as células anteriores foram executadas\n",
    "\n",
    "- Para executar uma célula de código, você pode:\n",
    "  - Pressionar **Ctrl + Enter** enquanto estiver na célula\n",
    "  - Ou clicar no botão ▶️ (play) na barra de ferramentas do seu editor de código\n",
    "\n",
    "---"
   ]
  },
  {
   "cell_type": "markdown",
   "id": "bea911ef",
   "metadata": {},
   "source": [
    "### Antes de começar, execute a célula abaixo e digite seu nome completo:"
   ]
  },
  {
   "cell_type": "code",
   "execution_count": 2,
   "id": "c2b400c4",
   "metadata": {},
   "outputs": [
    {
     "name": "stdout",
     "output_type": "stream",
     "text": [
      "Olá, Carlos Danilo Dias Da Silva! Estamos animados para iniciar essa jornada de análise de dados com você!\n"
     ]
    }
   ],
   "source": [
    "nome = input('Seu nome: ')\n",
    "print(f\"Olá, {nome.title()}! Estamos animados para iniciar essa jornada de análise de dados com você!\")"
   ]
  },
  {
   "cell_type": "markdown",
   "id": "42e9d289",
   "metadata": {},
   "source": [
    "---"
   ]
  },
  {
   "cell_type": "markdown",
   "id": "41f192ff",
   "metadata": {},
   "source": [
    "## 1. Primeiros Passos com Pandas\n",
    "\n",
    "### 1.1 O que é o Pandas?\n",
    "\n",
    "Pandas é uma biblioteca Python para análise e manipulação de dados. Ele oferece estruturas de dados flexíveis e ferramentas para trabalhar com dados estruturados de forma eficiente.\n",
    "\n",
    "As duas principais estruturas de dados do Pandas são:\n",
    "- **Series**: Array unidimensional rotulado\n",
    "- **DataFrame**: Estrutura bidimensional tabular com colunas rotuladas\n",
    "\n",
    "Vamos começar importando as bibliotecas necessárias:"
   ]
  },
  {
   "cell_type": "code",
   "execution_count": 3,
   "id": "eaeb79ee-ed63-4678-bedb-7ad7df36aabb",
   "metadata": {},
   "outputs": [],
   "source": [
    "# Importando as bibliotecas\n",
    "import pandas as pd\n",
    "import numpy as np\n",
    "import matplotlib.pyplot as plt\n",
    "\n",
    "# Configurando o matplotlib para mostrar gráficos no notebook\n",
    "%matplotlib inline\n",
    "\n",
    "# Para ignorar os avisos desnecessários\n",
    "import warnings\n",
    "warnings.filterwarnings('ignore')"
   ]
  },
  {
   "cell_type": "markdown",
   "id": "fd12538f-d0ac-4b37-83bf-7f436523c042",
   "metadata": {},
   "source": [
    "### 1.2 Criando um DataFrame\n",
    "\n",
    "Vamos criar um conjunto de dados de exemplo sobre vendas de uma loja virtual:"
   ]
  },
  {
   "cell_type": "code",
   "execution_count": 4,
   "id": "e76d0099-4d73-4d25-8923-3c0f3ab73bae",
   "metadata": {},
   "outputs": [
    {
     "data": {
      "text/html": [
       "<div>\n",
       "<style scoped>\n",
       "    .dataframe tbody tr th:only-of-type {\n",
       "        vertical-align: middle;\n",
       "    }\n",
       "\n",
       "    .dataframe tbody tr th {\n",
       "        vertical-align: top;\n",
       "    }\n",
       "\n",
       "    .dataframe thead th {\n",
       "        text-align: right;\n",
       "    }\n",
       "</style>\n",
       "<table border=\"1\" class=\"dataframe\">\n",
       "  <thead>\n",
       "    <tr style=\"text-align: right;\">\n",
       "      <th></th>\n",
       "      <th>data</th>\n",
       "      <th>categoria</th>\n",
       "      <th>produto</th>\n",
       "      <th>regiao</th>\n",
       "      <th>estado</th>\n",
       "      <th>canal_venda</th>\n",
       "      <th>valor_venda</th>\n",
       "      <th>quantidade</th>\n",
       "      <th>avaliacao</th>\n",
       "    </tr>\n",
       "  </thead>\n",
       "  <tbody>\n",
       "    <tr>\n",
       "      <th>0</th>\n",
       "      <td>2023-04-13 00:00:00</td>\n",
       "      <td>Casa</td>\n",
       "      <td>Armário</td>\n",
       "      <td>Centro-Oeste</td>\n",
       "      <td>MS</td>\n",
       "      <td>Online</td>\n",
       "      <td>2988.28</td>\n",
       "      <td>3</td>\n",
       "      <td>3</td>\n",
       "    </tr>\n",
       "    <tr>\n",
       "      <th>1</th>\n",
       "      <td>2023-03-29 00:00:00</td>\n",
       "      <td>Beleza</td>\n",
       "      <td>Perfume</td>\n",
       "      <td>Centro-Oeste</td>\n",
       "      <td>GO</td>\n",
       "      <td>Online</td>\n",
       "      <td>4849.85</td>\n",
       "      <td>6</td>\n",
       "      <td>2</td>\n",
       "    </tr>\n",
       "    <tr>\n",
       "      <th>2</th>\n",
       "      <td>2023-07-11 00:00:00</td>\n",
       "      <td>Casa</td>\n",
       "      <td>Armário</td>\n",
       "      <td>Norte</td>\n",
       "      <td>RR</td>\n",
       "      <td>Loja Física</td>\n",
       "      <td>2628.53</td>\n",
       "      <td>9</td>\n",
       "      <td>1</td>\n",
       "    </tr>\n",
       "    <tr>\n",
       "      <th>3</th>\n",
       "      <td>2023-02-28 00:00:00</td>\n",
       "      <td>Roupas</td>\n",
       "      <td>Sapato</td>\n",
       "      <td>Sudeste</td>\n",
       "      <td>ES</td>\n",
       "      <td>Aplicativo</td>\n",
       "      <td>2285.79</td>\n",
       "      <td>3</td>\n",
       "      <td>4</td>\n",
       "    </tr>\n",
       "    <tr>\n",
       "      <th>4</th>\n",
       "      <td>2023-02-24 00:00:00</td>\n",
       "      <td>Casa</td>\n",
       "      <td>Sofá</td>\n",
       "      <td>Centro-Oeste</td>\n",
       "      <td>DF</td>\n",
       "      <td>Aplicativo</td>\n",
       "      <td>3404.73</td>\n",
       "      <td>9</td>\n",
       "      <td>2</td>\n",
       "    </tr>\n",
       "  </tbody>\n",
       "</table>\n",
       "</div>"
      ],
      "text/plain": [
       "                  data categoria  produto        regiao estado  canal_venda  \\\n",
       "0  2023-04-13 00:00:00      Casa  Armário  Centro-Oeste     MS       Online   \n",
       "1  2023-03-29 00:00:00    Beleza  Perfume  Centro-Oeste     GO       Online   \n",
       "2  2023-07-11 00:00:00      Casa  Armário         Norte     RR  Loja Física   \n",
       "3  2023-02-28 00:00:00    Roupas   Sapato       Sudeste     ES   Aplicativo   \n",
       "4  2023-02-24 00:00:00      Casa     Sofá  Centro-Oeste     DF   Aplicativo   \n",
       "\n",
       "   valor_venda  quantidade  avaliacao  \n",
       "0      2988.28           3          3  \n",
       "1      4849.85           6          2  \n",
       "2      2628.53           9          1  \n",
       "3      2285.79           3          4  \n",
       "4      3404.73           9          2  "
      ]
     },
     "execution_count": 4,
     "metadata": {},
     "output_type": "execute_result"
    }
   ],
   "source": [
    "# Criando um dataset de exemplo\n",
    "np.random.seed(42)  # Para garantir reprodutibilidade\n",
    "\n",
    "# Criando dados de exemplo\n",
    "datas = pd.date_range(start='2023-01-01', end='2023-12-31', freq='D')\n",
    "categorias = ['Eletrônicos', 'Roupas', 'Alimentos', 'Casa', 'Beleza']\n",
    "produtos = {\n",
    "    'Eletrônicos': ['Smartphone', 'Laptop', 'Tablet', 'Fones de ouvido', 'Smart TV'],\n",
    "    'Roupas': ['Camiseta', 'Calça', 'Vestido', 'Sapato', 'Jaqueta'],\n",
    "    'Alimentos': ['Arroz', 'Feijão', 'Óleo', 'Açúcar', 'Café'],\n",
    "    'Casa': ['Sofá', 'Mesa', 'Cadeira', 'Cama', 'Armário'],\n",
    "    'Beleza': ['Shampoo', 'Condicionador', 'Sabonete', 'Perfume', 'Hidratante']\n",
    "}\n",
    "regioes = ['Norte', 'Nordeste', 'Centro-Oeste', 'Sudeste', 'Sul']\n",
    "estados = {\n",
    "    'Norte': ['AM', 'PA', 'RO', 'RR', 'AC'],\n",
    "    'Nordeste': ['BA', 'PE', 'CE', 'MA', 'PB'],\n",
    "    'Centro-Oeste': ['DF', 'GO', 'MT', 'MS'],\n",
    "    'Sudeste': ['SP', 'RJ', 'MG', 'ES'],\n",
    "    'Sul': ['PR', 'SC', 'RS']\n",
    "}\n",
    "canais = ['Online', 'Loja Física', 'Aplicativo', 'Telefone']\n",
    "\n",
    "# Gerando 1000 registros aleatórios\n",
    "n_registros = 1000\n",
    "data_vendas = []\n",
    "\n",
    "for _ in range(n_registros):\n",
    "    data = np.random.choice(datas)\n",
    "    categoria = np.random.choice(categorias)\n",
    "    produto = np.random.choice(produtos[categoria])\n",
    "    regiao = np.random.choice(regioes)\n",
    "    estado = np.random.choice(estados[regiao])\n",
    "    canal = np.random.choice(canais)\n",
    "    valor = round(np.random.uniform(10, 5000), 2)  # Valor entre R$10 e R$5000\n",
    "    quantidade = np.random.randint(1, 10)  # Entre 1 e 9 itens\n",
    "    avaliacao = np.random.randint(1, 6)  # Avaliação de 1 a 5 estrelas\n",
    "    \n",
    "    data_vendas.append({\n",
    "        'data': data,\n",
    "        'categoria': categoria,\n",
    "        'produto': produto,\n",
    "        'regiao': regiao,\n",
    "        'estado': estado,\n",
    "        'canal_venda': canal,\n",
    "        'valor_venda': valor,\n",
    "        'quantidade': quantidade,\n",
    "        'avaliacao': avaliacao\n",
    "    })\n",
    "\n",
    "# Criando o DataFrame\n",
    "df_vendas = pd.DataFrame(data_vendas)\n",
    "df_vendas['data'] = df_vendas['data'].astype('object')\n",
    "\n",
    "# Salvando como CSV para uso futuro\n",
    "df_vendas.to_csv('dados_vendas.csv', index=False)\n",
    "\n",
    "# Visualizando as primeiras linhas\n",
    "df_vendas.head()"
   ]
  },
  {
   "cell_type": "markdown",
   "id": "7c960ac0-7af4-4fe3-84dc-871c77fbb3e8",
   "metadata": {},
   "source": [
    "### 1.3 Explorando os Dados Básicos\n",
    "\n",
    "No Pandas, existem vários métodos para explorar e entender os dados:"
   ]
  },
  {
   "cell_type": "code",
   "execution_count": 5,
   "id": "740b23bd-74da-4a15-89f7-37957d4b4bcf",
   "metadata": {},
   "outputs": [
    {
     "name": "stdout",
     "output_type": "stream",
     "text": [
      "Primeiras 5 linhas do DataFrame:\n"
     ]
    },
    {
     "data": {
      "text/html": [
       "<div>\n",
       "<style scoped>\n",
       "    .dataframe tbody tr th:only-of-type {\n",
       "        vertical-align: middle;\n",
       "    }\n",
       "\n",
       "    .dataframe tbody tr th {\n",
       "        vertical-align: top;\n",
       "    }\n",
       "\n",
       "    .dataframe thead th {\n",
       "        text-align: right;\n",
       "    }\n",
       "</style>\n",
       "<table border=\"1\" class=\"dataframe\">\n",
       "  <thead>\n",
       "    <tr style=\"text-align: right;\">\n",
       "      <th></th>\n",
       "      <th>data</th>\n",
       "      <th>categoria</th>\n",
       "      <th>produto</th>\n",
       "      <th>regiao</th>\n",
       "      <th>estado</th>\n",
       "      <th>canal_venda</th>\n",
       "      <th>valor_venda</th>\n",
       "      <th>quantidade</th>\n",
       "      <th>avaliacao</th>\n",
       "    </tr>\n",
       "  </thead>\n",
       "  <tbody>\n",
       "    <tr>\n",
       "      <th>0</th>\n",
       "      <td>2023-04-13 00:00:00</td>\n",
       "      <td>Casa</td>\n",
       "      <td>Armário</td>\n",
       "      <td>Centro-Oeste</td>\n",
       "      <td>MS</td>\n",
       "      <td>Online</td>\n",
       "      <td>2988.28</td>\n",
       "      <td>3</td>\n",
       "      <td>3</td>\n",
       "    </tr>\n",
       "    <tr>\n",
       "      <th>1</th>\n",
       "      <td>2023-03-29 00:00:00</td>\n",
       "      <td>Beleza</td>\n",
       "      <td>Perfume</td>\n",
       "      <td>Centro-Oeste</td>\n",
       "      <td>GO</td>\n",
       "      <td>Online</td>\n",
       "      <td>4849.85</td>\n",
       "      <td>6</td>\n",
       "      <td>2</td>\n",
       "    </tr>\n",
       "    <tr>\n",
       "      <th>2</th>\n",
       "      <td>2023-07-11 00:00:00</td>\n",
       "      <td>Casa</td>\n",
       "      <td>Armário</td>\n",
       "      <td>Norte</td>\n",
       "      <td>RR</td>\n",
       "      <td>Loja Física</td>\n",
       "      <td>2628.53</td>\n",
       "      <td>9</td>\n",
       "      <td>1</td>\n",
       "    </tr>\n",
       "    <tr>\n",
       "      <th>3</th>\n",
       "      <td>2023-02-28 00:00:00</td>\n",
       "      <td>Roupas</td>\n",
       "      <td>Sapato</td>\n",
       "      <td>Sudeste</td>\n",
       "      <td>ES</td>\n",
       "      <td>Aplicativo</td>\n",
       "      <td>2285.79</td>\n",
       "      <td>3</td>\n",
       "      <td>4</td>\n",
       "    </tr>\n",
       "    <tr>\n",
       "      <th>4</th>\n",
       "      <td>2023-02-24 00:00:00</td>\n",
       "      <td>Casa</td>\n",
       "      <td>Sofá</td>\n",
       "      <td>Centro-Oeste</td>\n",
       "      <td>DF</td>\n",
       "      <td>Aplicativo</td>\n",
       "      <td>3404.73</td>\n",
       "      <td>9</td>\n",
       "      <td>2</td>\n",
       "    </tr>\n",
       "  </tbody>\n",
       "</table>\n",
       "</div>"
      ],
      "text/plain": [
       "                  data categoria  produto        regiao estado  canal_venda  \\\n",
       "0  2023-04-13 00:00:00      Casa  Armário  Centro-Oeste     MS       Online   \n",
       "1  2023-03-29 00:00:00    Beleza  Perfume  Centro-Oeste     GO       Online   \n",
       "2  2023-07-11 00:00:00      Casa  Armário         Norte     RR  Loja Física   \n",
       "3  2023-02-28 00:00:00    Roupas   Sapato       Sudeste     ES   Aplicativo   \n",
       "4  2023-02-24 00:00:00      Casa     Sofá  Centro-Oeste     DF   Aplicativo   \n",
       "\n",
       "   valor_venda  quantidade  avaliacao  \n",
       "0      2988.28           3          3  \n",
       "1      4849.85           6          2  \n",
       "2      2628.53           9          1  \n",
       "3      2285.79           3          4  \n",
       "4      3404.73           9          2  "
      ]
     },
     "execution_count": 5,
     "metadata": {},
     "output_type": "execute_result"
    }
   ],
   "source": [
    "# Visualizando as primeiras linhas com head()\n",
    "print(\"Primeiras 5 linhas do DataFrame:\")\n",
    "df_vendas.head()"
   ]
  },
  {
   "cell_type": "code",
   "execution_count": 6,
   "id": "15da4a91-b9fa-4251-ba6a-78eac4b38854",
   "metadata": {},
   "outputs": [
    {
     "name": "stdout",
     "output_type": "stream",
     "text": [
      "Últimas 5 linhas do DataFrame:\n"
     ]
    },
    {
     "data": {
      "text/html": [
       "<div>\n",
       "<style scoped>\n",
       "    .dataframe tbody tr th:only-of-type {\n",
       "        vertical-align: middle;\n",
       "    }\n",
       "\n",
       "    .dataframe tbody tr th {\n",
       "        vertical-align: top;\n",
       "    }\n",
       "\n",
       "    .dataframe thead th {\n",
       "        text-align: right;\n",
       "    }\n",
       "</style>\n",
       "<table border=\"1\" class=\"dataframe\">\n",
       "  <thead>\n",
       "    <tr style=\"text-align: right;\">\n",
       "      <th></th>\n",
       "      <th>data</th>\n",
       "      <th>categoria</th>\n",
       "      <th>produto</th>\n",
       "      <th>regiao</th>\n",
       "      <th>estado</th>\n",
       "      <th>canal_venda</th>\n",
       "      <th>valor_venda</th>\n",
       "      <th>quantidade</th>\n",
       "      <th>avaliacao</th>\n",
       "    </tr>\n",
       "  </thead>\n",
       "  <tbody>\n",
       "    <tr>\n",
       "      <th>995</th>\n",
       "      <td>2023-11-11 00:00:00</td>\n",
       "      <td>Eletrônicos</td>\n",
       "      <td>Laptop</td>\n",
       "      <td>Nordeste</td>\n",
       "      <td>MA</td>\n",
       "      <td>Online</td>\n",
       "      <td>3838.49</td>\n",
       "      <td>9</td>\n",
       "      <td>2</td>\n",
       "    </tr>\n",
       "    <tr>\n",
       "      <th>996</th>\n",
       "      <td>2023-05-12 00:00:00</td>\n",
       "      <td>Alimentos</td>\n",
       "      <td>Feijão</td>\n",
       "      <td>Centro-Oeste</td>\n",
       "      <td>GO</td>\n",
       "      <td>Loja Física</td>\n",
       "      <td>540.33</td>\n",
       "      <td>1</td>\n",
       "      <td>3</td>\n",
       "    </tr>\n",
       "    <tr>\n",
       "      <th>997</th>\n",
       "      <td>2023-11-27 00:00:00</td>\n",
       "      <td>Beleza</td>\n",
       "      <td>Shampoo</td>\n",
       "      <td>Centro-Oeste</td>\n",
       "      <td>DF</td>\n",
       "      <td>Loja Física</td>\n",
       "      <td>4176.15</td>\n",
       "      <td>2</td>\n",
       "      <td>1</td>\n",
       "    </tr>\n",
       "    <tr>\n",
       "      <th>998</th>\n",
       "      <td>2023-11-06 00:00:00</td>\n",
       "      <td>Roupas</td>\n",
       "      <td>Calça</td>\n",
       "      <td>Nordeste</td>\n",
       "      <td>PE</td>\n",
       "      <td>Loja Física</td>\n",
       "      <td>2413.13</td>\n",
       "      <td>3</td>\n",
       "      <td>4</td>\n",
       "    </tr>\n",
       "    <tr>\n",
       "      <th>999</th>\n",
       "      <td>2023-05-16 00:00:00</td>\n",
       "      <td>Alimentos</td>\n",
       "      <td>Óleo</td>\n",
       "      <td>Sudeste</td>\n",
       "      <td>MG</td>\n",
       "      <td>Loja Física</td>\n",
       "      <td>1162.59</td>\n",
       "      <td>1</td>\n",
       "      <td>3</td>\n",
       "    </tr>\n",
       "  </tbody>\n",
       "</table>\n",
       "</div>"
      ],
      "text/plain": [
       "                    data    categoria  produto        regiao estado  \\\n",
       "995  2023-11-11 00:00:00  Eletrônicos   Laptop      Nordeste     MA   \n",
       "996  2023-05-12 00:00:00    Alimentos   Feijão  Centro-Oeste     GO   \n",
       "997  2023-11-27 00:00:00       Beleza  Shampoo  Centro-Oeste     DF   \n",
       "998  2023-11-06 00:00:00       Roupas    Calça      Nordeste     PE   \n",
       "999  2023-05-16 00:00:00    Alimentos     Óleo       Sudeste     MG   \n",
       "\n",
       "     canal_venda  valor_venda  quantidade  avaliacao  \n",
       "995       Online      3838.49           9          2  \n",
       "996  Loja Física       540.33           1          3  \n",
       "997  Loja Física      4176.15           2          1  \n",
       "998  Loja Física      2413.13           3          4  \n",
       "999  Loja Física      1162.59           1          3  "
      ]
     },
     "execution_count": 6,
     "metadata": {},
     "output_type": "execute_result"
    }
   ],
   "source": [
    "# Visualizando as últimas linhas com tail()\n",
    "print(\"Últimas 5 linhas do DataFrame:\")\n",
    "df_vendas.tail()"
   ]
  },
  {
   "cell_type": "code",
   "execution_count": 7,
   "id": "75a1d4ad-31c3-4b1f-8cef-bc98045cce50",
   "metadata": {},
   "outputs": [
    {
     "name": "stdout",
     "output_type": "stream",
     "text": [
      "Formato do DataFrame: (1000, 9)\n",
      "Número de linhas: 1000\n",
      "Número de colunas: 9\n"
     ]
    }
   ],
   "source": [
    "# Verificando o formato do DataFrame (linhas, colunas) com shape\n",
    "print(f\"Formato do DataFrame: {df_vendas.shape}\")\n",
    "print(f\"Número de linhas: {df_vendas.shape[0]}\")\n",
    "print(f\"Número de colunas: {df_vendas.shape[1]}\")"
   ]
  },
  {
   "cell_type": "code",
   "execution_count": 8,
   "id": "9aa6b1fe-bb56-41b8-8956-42603d818966",
   "metadata": {},
   "outputs": [
    {
     "name": "stdout",
     "output_type": "stream",
     "text": [
      "Nomes das colunas:\n",
      "['data', 'categoria', 'produto', 'regiao', 'estado', 'canal_venda', 'valor_venda', 'quantidade', 'avaliacao']\n"
     ]
    }
   ],
   "source": [
    "print(\"Nomes das colunas:\")\n",
    "print(df_vendas.columns.tolist())"
   ]
  },
  {
   "cell_type": "markdown",
   "id": "65ffe237-0163-4e30-b25e-6db54a151bf4",
   "metadata": {},
   "source": [
    "### 1.4 Informações e Estatísticas do DataFrame\n",
    "\n",
    "Pandas oferece métodos para obter informações detalhadas e estatísticas do DataFrame:"
   ]
  },
  {
   "cell_type": "code",
   "execution_count": 9,
   "id": "401922e3-8c23-4cfa-a9fa-b03eeb0f02d7",
   "metadata": {},
   "outputs": [
    {
     "name": "stdout",
     "output_type": "stream",
     "text": [
      "Informações do DataFrame:\n",
      "<class 'pandas.core.frame.DataFrame'>\n",
      "RangeIndex: 1000 entries, 0 to 999\n",
      "Data columns (total 9 columns):\n",
      " #   Column       Non-Null Count  Dtype  \n",
      "---  ------       --------------  -----  \n",
      " 0   data         1000 non-null   object \n",
      " 1   categoria    1000 non-null   object \n",
      " 2   produto      1000 non-null   object \n",
      " 3   regiao       1000 non-null   object \n",
      " 4   estado       1000 non-null   object \n",
      " 5   canal_venda  1000 non-null   object \n",
      " 6   valor_venda  1000 non-null   float64\n",
      " 7   quantidade   1000 non-null   int64  \n",
      " 8   avaliacao    1000 non-null   int64  \n",
      "dtypes: float64(1), int64(2), object(6)\n",
      "memory usage: 70.4+ KB\n"
     ]
    }
   ],
   "source": [
    "# Verificando informações sobre o DataFrame com info()\n",
    "print(\"Informações do DataFrame:\")\n",
    "df_vendas.info()"
   ]
  },
  {
   "cell_type": "code",
   "execution_count": 10,
   "id": "bff05bb9-6648-40ca-a23a-f5cd14337042",
   "metadata": {},
   "outputs": [
    {
     "name": "stdout",
     "output_type": "stream",
     "text": [
      "Estatísticas descritivas:\n"
     ]
    },
    {
     "data": {
      "text/html": [
       "<div>\n",
       "<style scoped>\n",
       "    .dataframe tbody tr th:only-of-type {\n",
       "        vertical-align: middle;\n",
       "    }\n",
       "\n",
       "    .dataframe tbody tr th {\n",
       "        vertical-align: top;\n",
       "    }\n",
       "\n",
       "    .dataframe thead th {\n",
       "        text-align: right;\n",
       "    }\n",
       "</style>\n",
       "<table border=\"1\" class=\"dataframe\">\n",
       "  <thead>\n",
       "    <tr style=\"text-align: right;\">\n",
       "      <th></th>\n",
       "      <th>valor_venda</th>\n",
       "      <th>quantidade</th>\n",
       "      <th>avaliacao</th>\n",
       "    </tr>\n",
       "  </thead>\n",
       "  <tbody>\n",
       "    <tr>\n",
       "      <th>count</th>\n",
       "      <td>1000.00000</td>\n",
       "      <td>1000.00000</td>\n",
       "      <td>1000.000000</td>\n",
       "    </tr>\n",
       "    <tr>\n",
       "      <th>mean</th>\n",
       "      <td>2436.61369</td>\n",
       "      <td>5.02400</td>\n",
       "      <td>3.065000</td>\n",
       "    </tr>\n",
       "    <tr>\n",
       "      <th>std</th>\n",
       "      <td>1459.09861</td>\n",
       "      <td>2.60196</td>\n",
       "      <td>1.413072</td>\n",
       "    </tr>\n",
       "    <tr>\n",
       "      <th>min</th>\n",
       "      <td>11.13000</td>\n",
       "      <td>1.00000</td>\n",
       "      <td>1.000000</td>\n",
       "    </tr>\n",
       "    <tr>\n",
       "      <th>25%</th>\n",
       "      <td>1168.71000</td>\n",
       "      <td>3.00000</td>\n",
       "      <td>2.000000</td>\n",
       "    </tr>\n",
       "    <tr>\n",
       "      <th>50%</th>\n",
       "      <td>2418.67000</td>\n",
       "      <td>5.00000</td>\n",
       "      <td>3.000000</td>\n",
       "    </tr>\n",
       "    <tr>\n",
       "      <th>75%</th>\n",
       "      <td>3702.18000</td>\n",
       "      <td>7.00000</td>\n",
       "      <td>4.000000</td>\n",
       "    </tr>\n",
       "    <tr>\n",
       "      <th>max</th>\n",
       "      <td>4997.31000</td>\n",
       "      <td>9.00000</td>\n",
       "      <td>5.000000</td>\n",
       "    </tr>\n",
       "  </tbody>\n",
       "</table>\n",
       "</div>"
      ],
      "text/plain": [
       "       valor_venda  quantidade    avaliacao\n",
       "count   1000.00000  1000.00000  1000.000000\n",
       "mean    2436.61369     5.02400     3.065000\n",
       "std     1459.09861     2.60196     1.413072\n",
       "min       11.13000     1.00000     1.000000\n",
       "25%     1168.71000     3.00000     2.000000\n",
       "50%     2418.67000     5.00000     3.000000\n",
       "75%     3702.18000     7.00000     4.000000\n",
       "max     4997.31000     9.00000     5.000000"
      ]
     },
     "execution_count": 10,
     "metadata": {},
     "output_type": "execute_result"
    }
   ],
   "source": [
    "# Estatísticas descritivas com describe()\n",
    "print(\"Estatísticas descritivas:\")\n",
    "df_vendas.describe()"
   ]
  },
  {
   "cell_type": "code",
   "execution_count": 11,
   "id": "1672db09-c440-4619-9982-ba2adce64355",
   "metadata": {},
   "outputs": [
    {
     "name": "stdout",
     "output_type": "stream",
     "text": [
      "Número de valores únicos em cada coluna:\n"
     ]
    },
    {
     "data": {
      "text/plain": [
       "data            338\n",
       "categoria         5\n",
       "produto          25\n",
       "regiao            5\n",
       "estado           21\n",
       "canal_venda       4\n",
       "valor_venda    1000\n",
       "quantidade        9\n",
       "avaliacao         5\n",
       "dtype: int64"
      ]
     },
     "execution_count": 11,
     "metadata": {},
     "output_type": "execute_result"
    }
   ],
   "source": [
    "# Contagem de valores únicos com nunique()\n",
    "print(\"Número de valores únicos em cada coluna:\")\n",
    "df_vendas.nunique()"
   ]
  },
  {
   "cell_type": "markdown",
   "id": "078e72c1-61d3-4abe-b70c-768f7a02f405",
   "metadata": {},
   "source": [
    "### 1.5 Verificando Valores Únicos e Nulos"
   ]
  },
  {
   "cell_type": "code",
   "execution_count": 12,
   "id": "9121fa51-6b20-42f0-9b8b-93b2471bd048",
   "metadata": {},
   "outputs": [
    {
     "name": "stdout",
     "output_type": "stream",
     "text": [
      "Categorias únicas:\n"
     ]
    },
    {
     "data": {
      "text/plain": [
       "array([np.str_('Casa'), np.str_('Beleza'), np.str_('Roupas'),\n",
       "       np.str_('Alimentos'), np.str_('Eletrônicos')], dtype=object)"
      ]
     },
     "execution_count": 12,
     "metadata": {},
     "output_type": "execute_result"
    }
   ],
   "source": [
    "# Verificando valores únicos em uma coluna categórica\n",
    "print(\"Categorias únicas:\")\n",
    "df_vendas['categoria'].unique()"
   ]
  },
  {
   "cell_type": "code",
   "execution_count": 13,
   "id": "0612d4ac-f5fc-4321-a7fa-b79091f1ae8b",
   "metadata": {},
   "outputs": [
    {
     "name": "stdout",
     "output_type": "stream",
     "text": [
      "Contagem de cada categoria:\n"
     ]
    },
    {
     "data": {
      "text/plain": [
       "categoria\n",
       "Alimentos      212\n",
       "Beleza         209\n",
       "Roupas         200\n",
       "Eletrônicos    191\n",
       "Casa           188\n",
       "Name: count, dtype: int64"
      ]
     },
     "execution_count": 13,
     "metadata": {},
     "output_type": "execute_result"
    }
   ],
   "source": [
    "# Contando ocorrências de cada valor\n",
    "print(\"Contagem de cada categoria:\")\n",
    "df_vendas['categoria'].value_counts()"
   ]
  },
  {
   "cell_type": "code",
   "execution_count": 14,
   "id": "36929d88-7a67-480a-afab-206ae6f7695d",
   "metadata": {},
   "outputs": [
    {
     "name": "stdout",
     "output_type": "stream",
     "text": [
      "Valores nulos em cada coluna:\n"
     ]
    },
    {
     "data": {
      "text/plain": [
       "data           0\n",
       "categoria      0\n",
       "produto        0\n",
       "regiao         0\n",
       "estado         0\n",
       "canal_venda    0\n",
       "valor_venda    0\n",
       "quantidade     0\n",
       "avaliacao      0\n",
       "dtype: int64"
      ]
     },
     "execution_count": 14,
     "metadata": {},
     "output_type": "execute_result"
    }
   ],
   "source": [
    "print(\"Valores nulos em cada coluna:\")\n",
    "df_vendas.isnull().sum()"
   ]
  },
  {
   "cell_type": "markdown",
   "id": "9285b71b-fc90-4f53-a6ab-e902ebffd607",
   "metadata": {},
   "source": [
    "#### Exercício 1: Exploração Básica de Dados\n",
    "Agora é sua vez de aplicar o que aprendeu para explorar o DataFrame:"
   ]
  },
  {
   "cell_type": "markdown",
   "id": "bd96e512-c2ea-4be0-ac2d-f4f87cf1e722",
   "metadata": {},
   "source": [
    "##### 1.1 Use o método head() para mostrar as 10 primeiras linhas do DataFrame"
   ]
  },
  {
   "cell_type": "code",
   "execution_count": 15,
   "id": "7eb94998-51f3-46c0-8cab-58ffac14be2a",
   "metadata": {},
   "outputs": [
    {
     "name": "stdout",
     "output_type": "stream",
     "text": [
      "As 10 primeiras linhas do DataFrame: \n"
     ]
    },
    {
     "data": {
      "text/html": [
       "<div>\n",
       "<style scoped>\n",
       "    .dataframe tbody tr th:only-of-type {\n",
       "        vertical-align: middle;\n",
       "    }\n",
       "\n",
       "    .dataframe tbody tr th {\n",
       "        vertical-align: top;\n",
       "    }\n",
       "\n",
       "    .dataframe thead th {\n",
       "        text-align: right;\n",
       "    }\n",
       "</style>\n",
       "<table border=\"1\" class=\"dataframe\">\n",
       "  <thead>\n",
       "    <tr style=\"text-align: right;\">\n",
       "      <th></th>\n",
       "      <th>data</th>\n",
       "      <th>categoria</th>\n",
       "      <th>produto</th>\n",
       "      <th>regiao</th>\n",
       "      <th>estado</th>\n",
       "      <th>canal_venda</th>\n",
       "      <th>valor_venda</th>\n",
       "      <th>quantidade</th>\n",
       "      <th>avaliacao</th>\n",
       "    </tr>\n",
       "  </thead>\n",
       "  <tbody>\n",
       "    <tr>\n",
       "      <th>0</th>\n",
       "      <td>2023-04-13 00:00:00</td>\n",
       "      <td>Casa</td>\n",
       "      <td>Armário</td>\n",
       "      <td>Centro-Oeste</td>\n",
       "      <td>MS</td>\n",
       "      <td>Online</td>\n",
       "      <td>2988.28</td>\n",
       "      <td>3</td>\n",
       "      <td>3</td>\n",
       "    </tr>\n",
       "    <tr>\n",
       "      <th>1</th>\n",
       "      <td>2023-03-29 00:00:00</td>\n",
       "      <td>Beleza</td>\n",
       "      <td>Perfume</td>\n",
       "      <td>Centro-Oeste</td>\n",
       "      <td>GO</td>\n",
       "      <td>Online</td>\n",
       "      <td>4849.85</td>\n",
       "      <td>6</td>\n",
       "      <td>2</td>\n",
       "    </tr>\n",
       "    <tr>\n",
       "      <th>2</th>\n",
       "      <td>2023-07-11 00:00:00</td>\n",
       "      <td>Casa</td>\n",
       "      <td>Armário</td>\n",
       "      <td>Norte</td>\n",
       "      <td>RR</td>\n",
       "      <td>Loja Física</td>\n",
       "      <td>2628.53</td>\n",
       "      <td>9</td>\n",
       "      <td>1</td>\n",
       "    </tr>\n",
       "    <tr>\n",
       "      <th>3</th>\n",
       "      <td>2023-02-28 00:00:00</td>\n",
       "      <td>Roupas</td>\n",
       "      <td>Sapato</td>\n",
       "      <td>Sudeste</td>\n",
       "      <td>ES</td>\n",
       "      <td>Aplicativo</td>\n",
       "      <td>2285.79</td>\n",
       "      <td>3</td>\n",
       "      <td>4</td>\n",
       "    </tr>\n",
       "    <tr>\n",
       "      <th>4</th>\n",
       "      <td>2023-02-24 00:00:00</td>\n",
       "      <td>Casa</td>\n",
       "      <td>Sofá</td>\n",
       "      <td>Centro-Oeste</td>\n",
       "      <td>DF</td>\n",
       "      <td>Aplicativo</td>\n",
       "      <td>3404.73</td>\n",
       "      <td>9</td>\n",
       "      <td>2</td>\n",
       "    </tr>\n",
       "    <tr>\n",
       "      <th>5</th>\n",
       "      <td>2023-03-30 00:00:00</td>\n",
       "      <td>Casa</td>\n",
       "      <td>Mesa</td>\n",
       "      <td>Nordeste</td>\n",
       "      <td>BA</td>\n",
       "      <td>Loja Física</td>\n",
       "      <td>497.38</td>\n",
       "      <td>4</td>\n",
       "      <td>4</td>\n",
       "    </tr>\n",
       "    <tr>\n",
       "      <th>6</th>\n",
       "      <td>2023-09-21 00:00:00</td>\n",
       "      <td>Alimentos</td>\n",
       "      <td>Arroz</td>\n",
       "      <td>Sudeste</td>\n",
       "      <td>RJ</td>\n",
       "      <td>Telefone</td>\n",
       "      <td>3779.25</td>\n",
       "      <td>6</td>\n",
       "      <td>2</td>\n",
       "    </tr>\n",
       "    <tr>\n",
       "      <th>7</th>\n",
       "      <td>2023-09-17 00:00:00</td>\n",
       "      <td>Beleza</td>\n",
       "      <td>Condicionador</td>\n",
       "      <td>Nordeste</td>\n",
       "      <td>MA</td>\n",
       "      <td>Loja Física</td>\n",
       "      <td>1981.80</td>\n",
       "      <td>4</td>\n",
       "      <td>4</td>\n",
       "    </tr>\n",
       "    <tr>\n",
       "      <th>8</th>\n",
       "      <td>2023-07-09 00:00:00</td>\n",
       "      <td>Beleza</td>\n",
       "      <td>Hidratante</td>\n",
       "      <td>Nordeste</td>\n",
       "      <td>PB</td>\n",
       "      <td>Telefone</td>\n",
       "      <td>1790.20</td>\n",
       "      <td>9</td>\n",
       "      <td>5</td>\n",
       "    </tr>\n",
       "    <tr>\n",
       "      <th>9</th>\n",
       "      <td>2023-01-15 00:00:00</td>\n",
       "      <td>Beleza</td>\n",
       "      <td>Shampoo</td>\n",
       "      <td>Norte</td>\n",
       "      <td>AM</td>\n",
       "      <td>Telefone</td>\n",
       "      <td>1980.46</td>\n",
       "      <td>8</td>\n",
       "      <td>3</td>\n",
       "    </tr>\n",
       "  </tbody>\n",
       "</table>\n",
       "</div>"
      ],
      "text/plain": [
       "                  data  categoria        produto        regiao estado  \\\n",
       "0  2023-04-13 00:00:00       Casa        Armário  Centro-Oeste     MS   \n",
       "1  2023-03-29 00:00:00     Beleza        Perfume  Centro-Oeste     GO   \n",
       "2  2023-07-11 00:00:00       Casa        Armário         Norte     RR   \n",
       "3  2023-02-28 00:00:00     Roupas         Sapato       Sudeste     ES   \n",
       "4  2023-02-24 00:00:00       Casa           Sofá  Centro-Oeste     DF   \n",
       "5  2023-03-30 00:00:00       Casa           Mesa      Nordeste     BA   \n",
       "6  2023-09-21 00:00:00  Alimentos          Arroz       Sudeste     RJ   \n",
       "7  2023-09-17 00:00:00     Beleza  Condicionador      Nordeste     MA   \n",
       "8  2023-07-09 00:00:00     Beleza     Hidratante      Nordeste     PB   \n",
       "9  2023-01-15 00:00:00     Beleza        Shampoo         Norte     AM   \n",
       "\n",
       "   canal_venda  valor_venda  quantidade  avaliacao  \n",
       "0       Online      2988.28           3          3  \n",
       "1       Online      4849.85           6          2  \n",
       "2  Loja Física      2628.53           9          1  \n",
       "3   Aplicativo      2285.79           3          4  \n",
       "4   Aplicativo      3404.73           9          2  \n",
       "5  Loja Física       497.38           4          4  \n",
       "6     Telefone      3779.25           6          2  \n",
       "7  Loja Física      1981.80           4          4  \n",
       "8     Telefone      1790.20           9          5  \n",
       "9     Telefone      1980.46           8          3  "
      ]
     },
     "execution_count": 15,
     "metadata": {},
     "output_type": "execute_result"
    }
   ],
   "source": [
    "# SEU CÓDIGO AQUI\n",
    "print(\"As 10 primeiras linhas do DataFrame: \")\n",
    "df_vendas.head(10)"
   ]
  },
  {
   "cell_type": "markdown",
   "id": "7de1e69a-6782-4c0b-93af-f1b1a13ade76",
   "metadata": {},
   "source": [
    "##### 1.2 Use shape para verificar quantas linhas e colunas tem o DataFrame"
   ]
  },
  {
   "cell_type": "code",
   "execution_count": 16,
   "id": "c55f285e-d241-4cd8-8bb4-3ac3b8b61f8d",
   "metadata": {},
   "outputs": [
    {
     "name": "stdout",
     "output_type": "stream",
     "text": [
      "Quantidade de linhas: 1000\n",
      "Quantidade de colunas: 9\n"
     ]
    }
   ],
   "source": [
    "# SEU CÓDIGO AQUI\n",
    "print(f\"Quantidade de linhas: {df_vendas.shape[0]}\")\n",
    "print(f\"Quantidade de colunas: {df_vendas.shape[1]}\")"
   ]
  },
  {
   "cell_type": "markdown",
   "id": "1754157e-abee-4ee2-b1c6-407eb209bc92",
   "metadata": {},
   "source": [
    "##### 1.3 Use o método unique() para listar todas as regiões no DataFrame"
   ]
  },
  {
   "cell_type": "code",
   "execution_count": 17,
   "id": "1cd1bc77-75a1-4b01-94b4-08c6ce4753fb",
   "metadata": {},
   "outputs": [
    {
     "name": "stdout",
     "output_type": "stream",
     "text": [
      "Regiões no DataFrame: \n"
     ]
    },
    {
     "data": {
      "text/plain": [
       "array([np.str_('Centro-Oeste'), np.str_('Norte'), np.str_('Sudeste'),\n",
       "       np.str_('Nordeste'), np.str_('Sul')], dtype=object)"
      ]
     },
     "execution_count": 17,
     "metadata": {},
     "output_type": "execute_result"
    }
   ],
   "source": [
    "# SEU CÓDIGO AQUI\n",
    "print(\"Regiões no DataFrame: \")\n",
    "df_vendas['regiao'].unique()"
   ]
  },
  {
   "cell_type": "markdown",
   "id": "5ee1f697-0a93-426b-a64d-68f0c9624ce2",
   "metadata": {},
   "source": [
    "##### 1.4 Use o método value_counts() para contar quantas vendas existem por canal_venda"
   ]
  },
  {
   "cell_type": "code",
   "execution_count": 18,
   "id": "ddf6f0b6-5dc3-488b-a60c-2ae55e9e705c",
   "metadata": {},
   "outputs": [
    {
     "name": "stdout",
     "output_type": "stream",
     "text": [
      "Quantidade de vendas: \n"
     ]
    },
    {
     "data": {
      "text/plain": [
       "canal_venda\n",
       "Loja Física    267\n",
       "Telefone       251\n",
       "Online         247\n",
       "Aplicativo     235\n",
       "Name: count, dtype: int64"
      ]
     },
     "execution_count": 18,
     "metadata": {},
     "output_type": "execute_result"
    }
   ],
   "source": [
    "# SEU CÓDIGO AQUI\n",
    "print(\"Quantidade de vendas: \")\n",
    "df_vendas['canal_venda'].value_counts()"
   ]
  },
  {
   "attachments": {},
   "cell_type": "markdown",
   "id": "e9c7a025-eb5c-4b13-9ede-499bed43630e",
   "metadata": {},
   "source": [
    "##### 1.5 Use o método describe() para obter estatísticas da coluna 'valor_venda'"
   ]
  },
  {
   "cell_type": "code",
   "execution_count": 19,
   "id": "de1e0c33-8499-40e8-946e-3209c3251513",
   "metadata": {},
   "outputs": [
    {
     "name": "stdout",
     "output_type": "stream",
     "text": [
      "Estatísticas da coluna 'valor_venda':\n"
     ]
    },
    {
     "data": {
      "text/plain": [
       "count    1000.00000\n",
       "mean     2436.61369\n",
       "std      1459.09861\n",
       "min        11.13000\n",
       "25%      1168.71000\n",
       "50%      2418.67000\n",
       "75%      3702.18000\n",
       "max      4997.31000\n",
       "Name: valor_venda, dtype: float64"
      ]
     },
     "execution_count": 19,
     "metadata": {},
     "output_type": "execute_result"
    }
   ],
   "source": [
    "# SEU CÓDIGO AQUI\n",
    "print(\"Estatísticas da coluna 'valor_venda':\")\n",
    "df_vendas['valor_venda'].describe()"
   ]
  },
  {
   "cell_type": "markdown",
   "id": "d596b6aa-a19d-4f64-ace2-b93464a40c25",
   "metadata": {},
   "source": [
    "---"
   ]
  },
  {
   "cell_type": "markdown",
   "id": "494ec1e1-f350-405e-9f10-c0192f560746",
   "metadata": {},
   "source": [
    "## 2. Seleção e Filtragem de Dados\n",
    "\n",
    "### 2.1 Selecionando Colunas\n",
    "\n",
    "O Pandas oferece várias maneiras de selecionar colunas em um DataFrame:"
   ]
  },
  {
   "cell_type": "code",
   "execution_count": 20,
   "id": "dead5a75-1d6f-48d4-9400-e3e6ca374216",
   "metadata": {},
   "outputs": [
    {
     "name": "stdout",
     "output_type": "stream",
     "text": [
      "Primeiros 5 valores da coluna 'valor_venda':\n"
     ]
    },
    {
     "data": {
      "text/plain": [
       "0    2988.28\n",
       "1    4849.85\n",
       "2    2628.53\n",
       "3    2285.79\n",
       "4    3404.73\n",
       "Name: valor_venda, dtype: float64"
      ]
     },
     "execution_count": 20,
     "metadata": {},
     "output_type": "execute_result"
    }
   ],
   "source": [
    "# Selecionando uma única coluna (retorna uma Series)\n",
    "valores_venda = df_vendas['valor_venda']\n",
    "print(\"Primeiros 5 valores da coluna 'valor_venda':\")\n",
    "valores_venda.head()"
   ]
  },
  {
   "cell_type": "code",
   "execution_count": 21,
   "id": "be226245-60ec-4547-8fc6-fe0e81228903",
   "metadata": {},
   "outputs": [
    {
     "name": "stdout",
     "output_type": "stream",
     "text": [
      "Tipo de dados: <class 'pandas.core.series.Series'>\n"
     ]
    }
   ],
   "source": [
    "print(f\"Tipo de dados: {type(valores_venda)}\")"
   ]
  },
  {
   "cell_type": "code",
   "execution_count": 22,
   "id": "c6dd0bde-dc15-458f-8c5c-fc8af20b8755",
   "metadata": {},
   "outputs": [
    {
     "name": "stdout",
     "output_type": "stream",
     "text": [
      "Primeiras 5 linhas das colunas selecionadas:\n"
     ]
    },
    {
     "data": {
      "text/html": [
       "<div>\n",
       "<style scoped>\n",
       "    .dataframe tbody tr th:only-of-type {\n",
       "        vertical-align: middle;\n",
       "    }\n",
       "\n",
       "    .dataframe tbody tr th {\n",
       "        vertical-align: top;\n",
       "    }\n",
       "\n",
       "    .dataframe thead th {\n",
       "        text-align: right;\n",
       "    }\n",
       "</style>\n",
       "<table border=\"1\" class=\"dataframe\">\n",
       "  <thead>\n",
       "    <tr style=\"text-align: right;\">\n",
       "      <th></th>\n",
       "      <th>produto</th>\n",
       "      <th>valor_venda</th>\n",
       "      <th>quantidade</th>\n",
       "    </tr>\n",
       "  </thead>\n",
       "  <tbody>\n",
       "    <tr>\n",
       "      <th>0</th>\n",
       "      <td>Armário</td>\n",
       "      <td>2988.28</td>\n",
       "      <td>3</td>\n",
       "    </tr>\n",
       "    <tr>\n",
       "      <th>1</th>\n",
       "      <td>Perfume</td>\n",
       "      <td>4849.85</td>\n",
       "      <td>6</td>\n",
       "    </tr>\n",
       "    <tr>\n",
       "      <th>2</th>\n",
       "      <td>Armário</td>\n",
       "      <td>2628.53</td>\n",
       "      <td>9</td>\n",
       "    </tr>\n",
       "    <tr>\n",
       "      <th>3</th>\n",
       "      <td>Sapato</td>\n",
       "      <td>2285.79</td>\n",
       "      <td>3</td>\n",
       "    </tr>\n",
       "    <tr>\n",
       "      <th>4</th>\n",
       "      <td>Sofá</td>\n",
       "      <td>3404.73</td>\n",
       "      <td>9</td>\n",
       "    </tr>\n",
       "  </tbody>\n",
       "</table>\n",
       "</div>"
      ],
      "text/plain": [
       "   produto  valor_venda  quantidade\n",
       "0  Armário      2988.28           3\n",
       "1  Perfume      4849.85           6\n",
       "2  Armário      2628.53           9\n",
       "3   Sapato      2285.79           3\n",
       "4     Sofá      3404.73           9"
      ]
     },
     "execution_count": 22,
     "metadata": {},
     "output_type": "execute_result"
    }
   ],
   "source": [
    "# Selecionando múltiplas colunas (retorna um DataFrame)\n",
    "selecao = df_vendas[['produto', 'valor_venda', 'quantidade']]\n",
    "\n",
    "print(\"Primeiras 5 linhas das colunas selecionadas:\")\n",
    "selecao.head()"
   ]
  },
  {
   "cell_type": "code",
   "execution_count": 23,
   "id": "7b8473b8-bda5-42c1-b0b7-1eac4653d9e0",
   "metadata": {},
   "outputs": [
    {
     "name": "stdout",
     "output_type": "stream",
     "text": [
      "Tipo de dados: <class 'pandas.core.frame.DataFrame'>\n"
     ]
    }
   ],
   "source": [
    "print(f\"Tipo de dados: {type(selecao)}\")"
   ]
  },
  {
   "cell_type": "markdown",
   "id": "311d65ad-411c-4bf8-b4dd-7fb882d09728",
   "metadata": {},
   "source": [
    "### 2.2 Filtrando Linhas com Condições\n",
    "\n",
    "Podemos filtrar linhas do DataFrame usando condições lógicas:"
   ]
  },
  {
   "cell_type": "code",
   "execution_count": 24,
   "id": "cce589f6-c3c8-49b8-be6e-31d962d74b6a",
   "metadata": {},
   "outputs": [
    {
     "name": "stdout",
     "output_type": "stream",
     "text": [
      "Número de vendas com valor acima de R$1000: 785\n",
      "Primeiras 5 vendas com valor acima de R$1000:\n"
     ]
    },
    {
     "data": {
      "text/html": [
       "<div>\n",
       "<style scoped>\n",
       "    .dataframe tbody tr th:only-of-type {\n",
       "        vertical-align: middle;\n",
       "    }\n",
       "\n",
       "    .dataframe tbody tr th {\n",
       "        vertical-align: top;\n",
       "    }\n",
       "\n",
       "    .dataframe thead th {\n",
       "        text-align: right;\n",
       "    }\n",
       "</style>\n",
       "<table border=\"1\" class=\"dataframe\">\n",
       "  <thead>\n",
       "    <tr style=\"text-align: right;\">\n",
       "      <th></th>\n",
       "      <th>data</th>\n",
       "      <th>categoria</th>\n",
       "      <th>produto</th>\n",
       "      <th>regiao</th>\n",
       "      <th>estado</th>\n",
       "      <th>canal_venda</th>\n",
       "      <th>valor_venda</th>\n",
       "      <th>quantidade</th>\n",
       "      <th>avaliacao</th>\n",
       "    </tr>\n",
       "  </thead>\n",
       "  <tbody>\n",
       "    <tr>\n",
       "      <th>0</th>\n",
       "      <td>2023-04-13 00:00:00</td>\n",
       "      <td>Casa</td>\n",
       "      <td>Armário</td>\n",
       "      <td>Centro-Oeste</td>\n",
       "      <td>MS</td>\n",
       "      <td>Online</td>\n",
       "      <td>2988.28</td>\n",
       "      <td>3</td>\n",
       "      <td>3</td>\n",
       "    </tr>\n",
       "    <tr>\n",
       "      <th>1</th>\n",
       "      <td>2023-03-29 00:00:00</td>\n",
       "      <td>Beleza</td>\n",
       "      <td>Perfume</td>\n",
       "      <td>Centro-Oeste</td>\n",
       "      <td>GO</td>\n",
       "      <td>Online</td>\n",
       "      <td>4849.85</td>\n",
       "      <td>6</td>\n",
       "      <td>2</td>\n",
       "    </tr>\n",
       "    <tr>\n",
       "      <th>2</th>\n",
       "      <td>2023-07-11 00:00:00</td>\n",
       "      <td>Casa</td>\n",
       "      <td>Armário</td>\n",
       "      <td>Norte</td>\n",
       "      <td>RR</td>\n",
       "      <td>Loja Física</td>\n",
       "      <td>2628.53</td>\n",
       "      <td>9</td>\n",
       "      <td>1</td>\n",
       "    </tr>\n",
       "    <tr>\n",
       "      <th>3</th>\n",
       "      <td>2023-02-28 00:00:00</td>\n",
       "      <td>Roupas</td>\n",
       "      <td>Sapato</td>\n",
       "      <td>Sudeste</td>\n",
       "      <td>ES</td>\n",
       "      <td>Aplicativo</td>\n",
       "      <td>2285.79</td>\n",
       "      <td>3</td>\n",
       "      <td>4</td>\n",
       "    </tr>\n",
       "    <tr>\n",
       "      <th>4</th>\n",
       "      <td>2023-02-24 00:00:00</td>\n",
       "      <td>Casa</td>\n",
       "      <td>Sofá</td>\n",
       "      <td>Centro-Oeste</td>\n",
       "      <td>DF</td>\n",
       "      <td>Aplicativo</td>\n",
       "      <td>3404.73</td>\n",
       "      <td>9</td>\n",
       "      <td>2</td>\n",
       "    </tr>\n",
       "  </tbody>\n",
       "</table>\n",
       "</div>"
      ],
      "text/plain": [
       "                  data categoria  produto        regiao estado  canal_venda  \\\n",
       "0  2023-04-13 00:00:00      Casa  Armário  Centro-Oeste     MS       Online   \n",
       "1  2023-03-29 00:00:00    Beleza  Perfume  Centro-Oeste     GO       Online   \n",
       "2  2023-07-11 00:00:00      Casa  Armário         Norte     RR  Loja Física   \n",
       "3  2023-02-28 00:00:00    Roupas   Sapato       Sudeste     ES   Aplicativo   \n",
       "4  2023-02-24 00:00:00      Casa     Sofá  Centro-Oeste     DF   Aplicativo   \n",
       "\n",
       "   valor_venda  quantidade  avaliacao  \n",
       "0      2988.28           3          3  \n",
       "1      4849.85           6          2  \n",
       "2      2628.53           9          1  \n",
       "3      2285.79           3          4  \n",
       "4      3404.73           9          2  "
      ]
     },
     "execution_count": 24,
     "metadata": {},
     "output_type": "execute_result"
    }
   ],
   "source": [
    "# Filtragem básica: vendas com valor acima de 1000\n",
    "vendas_altas = df_vendas[df_vendas['valor_venda'] > 1000]\n",
    "print(f\"Número de vendas com valor acima de R$1000: {len(vendas_altas)}\")\n",
    "\n",
    "print(\"Primeiras 5 vendas com valor acima de R$1000:\")\n",
    "vendas_altas.head()"
   ]
  },
  {
   "cell_type": "code",
   "execution_count": 25,
   "id": "8ddbe0fb-4378-44c3-a3f5-fa8daea2f0c1",
   "metadata": {},
   "outputs": [
    {
     "name": "stdout",
     "output_type": "stream",
     "text": [
      "Número de vendas de Eletrônicos na região Sul: 46\n",
      "Primeiras 5 vendas de Eletrônicos na região Sul:\n"
     ]
    },
    {
     "data": {
      "text/html": [
       "<div>\n",
       "<style scoped>\n",
       "    .dataframe tbody tr th:only-of-type {\n",
       "        vertical-align: middle;\n",
       "    }\n",
       "\n",
       "    .dataframe tbody tr th {\n",
       "        vertical-align: top;\n",
       "    }\n",
       "\n",
       "    .dataframe thead th {\n",
       "        text-align: right;\n",
       "    }\n",
       "</style>\n",
       "<table border=\"1\" class=\"dataframe\">\n",
       "  <thead>\n",
       "    <tr style=\"text-align: right;\">\n",
       "      <th></th>\n",
       "      <th>data</th>\n",
       "      <th>categoria</th>\n",
       "      <th>produto</th>\n",
       "      <th>regiao</th>\n",
       "      <th>estado</th>\n",
       "      <th>canal_venda</th>\n",
       "      <th>valor_venda</th>\n",
       "      <th>quantidade</th>\n",
       "      <th>avaliacao</th>\n",
       "    </tr>\n",
       "  </thead>\n",
       "  <tbody>\n",
       "    <tr>\n",
       "      <th>43</th>\n",
       "      <td>2023-04-27 00:00:00</td>\n",
       "      <td>Eletrônicos</td>\n",
       "      <td>Fones de ouvido</td>\n",
       "      <td>Sul</td>\n",
       "      <td>PR</td>\n",
       "      <td>Loja Física</td>\n",
       "      <td>4576.92</td>\n",
       "      <td>2</td>\n",
       "      <td>1</td>\n",
       "    </tr>\n",
       "    <tr>\n",
       "      <th>48</th>\n",
       "      <td>2023-04-06 00:00:00</td>\n",
       "      <td>Eletrônicos</td>\n",
       "      <td>Smart TV</td>\n",
       "      <td>Sul</td>\n",
       "      <td>RS</td>\n",
       "      <td>Loja Física</td>\n",
       "      <td>142.29</td>\n",
       "      <td>4</td>\n",
       "      <td>4</td>\n",
       "    </tr>\n",
       "    <tr>\n",
       "      <th>65</th>\n",
       "      <td>2023-12-27 00:00:00</td>\n",
       "      <td>Eletrônicos</td>\n",
       "      <td>Tablet</td>\n",
       "      <td>Sul</td>\n",
       "      <td>SC</td>\n",
       "      <td>Online</td>\n",
       "      <td>1880.60</td>\n",
       "      <td>1</td>\n",
       "      <td>1</td>\n",
       "    </tr>\n",
       "    <tr>\n",
       "      <th>107</th>\n",
       "      <td>2023-05-25 00:00:00</td>\n",
       "      <td>Eletrônicos</td>\n",
       "      <td>Laptop</td>\n",
       "      <td>Sul</td>\n",
       "      <td>RS</td>\n",
       "      <td>Aplicativo</td>\n",
       "      <td>593.32</td>\n",
       "      <td>6</td>\n",
       "      <td>3</td>\n",
       "    </tr>\n",
       "    <tr>\n",
       "      <th>109</th>\n",
       "      <td>2023-02-07 00:00:00</td>\n",
       "      <td>Eletrônicos</td>\n",
       "      <td>Smartphone</td>\n",
       "      <td>Sul</td>\n",
       "      <td>PR</td>\n",
       "      <td>Aplicativo</td>\n",
       "      <td>3722.29</td>\n",
       "      <td>4</td>\n",
       "      <td>2</td>\n",
       "    </tr>\n",
       "  </tbody>\n",
       "</table>\n",
       "</div>"
      ],
      "text/plain": [
       "                    data    categoria          produto regiao estado  \\\n",
       "43   2023-04-27 00:00:00  Eletrônicos  Fones de ouvido    Sul     PR   \n",
       "48   2023-04-06 00:00:00  Eletrônicos         Smart TV    Sul     RS   \n",
       "65   2023-12-27 00:00:00  Eletrônicos           Tablet    Sul     SC   \n",
       "107  2023-05-25 00:00:00  Eletrônicos           Laptop    Sul     RS   \n",
       "109  2023-02-07 00:00:00  Eletrônicos       Smartphone    Sul     PR   \n",
       "\n",
       "     canal_venda  valor_venda  quantidade  avaliacao  \n",
       "43   Loja Física      4576.92           2          1  \n",
       "48   Loja Física       142.29           4          4  \n",
       "65        Online      1880.60           1          1  \n",
       "107   Aplicativo       593.32           6          3  \n",
       "109   Aplicativo      3722.29           4          2  "
      ]
     },
     "execution_count": 25,
     "metadata": {},
     "output_type": "execute_result"
    }
   ],
   "source": [
    "# Filtrando com múltiplas condições usando operadores lógicos & (AND) e | (OR)\n",
    "\n",
    "# Vendas de Eletrônicos na região Sul\n",
    "vendas_eletronicos_sul = df_vendas[(df_vendas['categoria'] == 'Eletrônicos') & \n",
    "                                   (df_vendas['regiao'] == 'Sul')]\n",
    "print(f\"Número de vendas de Eletrônicos na região Sul: {len(vendas_eletronicos_sul)}\")\n",
    "\n",
    "print(\"Primeiras 5 vendas de Eletrônicos na região Sul:\")\n",
    "vendas_eletronicos_sul.head()"
   ]
  },
  {
   "cell_type": "code",
   "execution_count": 26,
   "id": "d641c266-be6c-4fed-9afd-0ac5b22407a4",
   "metadata": {},
   "outputs": [
    {
     "name": "stdout",
     "output_type": "stream",
     "text": [
      "Número de vendas premium: 519\n",
      "Primeiras 5 vendas premium:\n"
     ]
    },
    {
     "data": {
      "text/html": [
       "<div>\n",
       "<style scoped>\n",
       "    .dataframe tbody tr th:only-of-type {\n",
       "        vertical-align: middle;\n",
       "    }\n",
       "\n",
       "    .dataframe tbody tr th {\n",
       "        vertical-align: top;\n",
       "    }\n",
       "\n",
       "    .dataframe thead th {\n",
       "        text-align: right;\n",
       "    }\n",
       "</style>\n",
       "<table border=\"1\" class=\"dataframe\">\n",
       "  <thead>\n",
       "    <tr style=\"text-align: right;\">\n",
       "      <th></th>\n",
       "      <th>data</th>\n",
       "      <th>categoria</th>\n",
       "      <th>produto</th>\n",
       "      <th>regiao</th>\n",
       "      <th>estado</th>\n",
       "      <th>canal_venda</th>\n",
       "      <th>valor_venda</th>\n",
       "      <th>quantidade</th>\n",
       "      <th>avaliacao</th>\n",
       "    </tr>\n",
       "  </thead>\n",
       "  <tbody>\n",
       "    <tr>\n",
       "      <th>1</th>\n",
       "      <td>2023-03-29 00:00:00</td>\n",
       "      <td>Beleza</td>\n",
       "      <td>Perfume</td>\n",
       "      <td>Centro-Oeste</td>\n",
       "      <td>GO</td>\n",
       "      <td>Online</td>\n",
       "      <td>4849.85</td>\n",
       "      <td>6</td>\n",
       "      <td>2</td>\n",
       "    </tr>\n",
       "    <tr>\n",
       "      <th>4</th>\n",
       "      <td>2023-02-24 00:00:00</td>\n",
       "      <td>Casa</td>\n",
       "      <td>Sofá</td>\n",
       "      <td>Centro-Oeste</td>\n",
       "      <td>DF</td>\n",
       "      <td>Aplicativo</td>\n",
       "      <td>3404.73</td>\n",
       "      <td>9</td>\n",
       "      <td>2</td>\n",
       "    </tr>\n",
       "    <tr>\n",
       "      <th>6</th>\n",
       "      <td>2023-09-21 00:00:00</td>\n",
       "      <td>Alimentos</td>\n",
       "      <td>Arroz</td>\n",
       "      <td>Sudeste</td>\n",
       "      <td>RJ</td>\n",
       "      <td>Telefone</td>\n",
       "      <td>3779.25</td>\n",
       "      <td>6</td>\n",
       "      <td>2</td>\n",
       "    </tr>\n",
       "    <tr>\n",
       "      <th>8</th>\n",
       "      <td>2023-07-09 00:00:00</td>\n",
       "      <td>Beleza</td>\n",
       "      <td>Hidratante</td>\n",
       "      <td>Nordeste</td>\n",
       "      <td>PB</td>\n",
       "      <td>Telefone</td>\n",
       "      <td>1790.20</td>\n",
       "      <td>9</td>\n",
       "      <td>5</td>\n",
       "    </tr>\n",
       "    <tr>\n",
       "      <th>10</th>\n",
       "      <td>2023-03-22 00:00:00</td>\n",
       "      <td>Alimentos</td>\n",
       "      <td>Óleo</td>\n",
       "      <td>Norte</td>\n",
       "      <td>RO</td>\n",
       "      <td>Online</td>\n",
       "      <td>4632.24</td>\n",
       "      <td>9</td>\n",
       "      <td>4</td>\n",
       "    </tr>\n",
       "  </tbody>\n",
       "</table>\n",
       "</div>"
      ],
      "text/plain": [
       "                   data  categoria     produto        regiao estado  \\\n",
       "1   2023-03-29 00:00:00     Beleza     Perfume  Centro-Oeste     GO   \n",
       "4   2023-02-24 00:00:00       Casa        Sofá  Centro-Oeste     DF   \n",
       "6   2023-09-21 00:00:00  Alimentos       Arroz       Sudeste     RJ   \n",
       "8   2023-07-09 00:00:00     Beleza  Hidratante      Nordeste     PB   \n",
       "10  2023-03-22 00:00:00  Alimentos        Óleo         Norte     RO   \n",
       "\n",
       "   canal_venda  valor_venda  quantidade  avaliacao  \n",
       "1       Online      4849.85           6          2  \n",
       "4   Aplicativo      3404.73           9          2  \n",
       "6     Telefone      3779.25           6          2  \n",
       "8     Telefone      1790.20           9          5  \n",
       "10      Online      4632.24           9          4  "
      ]
     },
     "execution_count": 26,
     "metadata": {},
     "output_type": "execute_result"
    }
   ],
   "source": [
    "# Filtrando com OR lógico\n",
    "\n",
    "# Vendas muito altas (>3000) ou com avaliação máxima (5)\n",
    "vendas_premium = df_vendas[(df_vendas['valor_venda'] > 3000) | \n",
    "                          (df_vendas['avaliacao'] == 5)]\n",
    "\n",
    "print(f\"Número de vendas premium: {len(vendas_premium)}\")\n",
    "\n",
    "print(\"Primeiras 5 vendas premium:\")\n",
    "vendas_premium.head()"
   ]
  },
  {
   "cell_type": "markdown",
   "id": "b8f13735-38d4-4c73-8232-de0d542c3235",
   "metadata": {},
   "source": [
    "### 2.3 Filtragem com isin() e between()\n",
    "\n",
    "Pandas oferece métodos especiais para filtragens mais específicas:"
   ]
  },
  {
   "cell_type": "code",
   "execution_count": 27,
   "id": "93865da9-3c70-4cfb-8a5b-2ccb9db742db",
   "metadata": {},
   "outputs": [
    {
     "name": "stdout",
     "output_type": "stream",
     "text": [
      "Número de vendas nas regiões Sul e Sudeste: 413\n",
      "Primeiras 5 vendas nas regiões Sul e Sudeste:\n"
     ]
    },
    {
     "data": {
      "text/html": [
       "<div>\n",
       "<style scoped>\n",
       "    .dataframe tbody tr th:only-of-type {\n",
       "        vertical-align: middle;\n",
       "    }\n",
       "\n",
       "    .dataframe tbody tr th {\n",
       "        vertical-align: top;\n",
       "    }\n",
       "\n",
       "    .dataframe thead th {\n",
       "        text-align: right;\n",
       "    }\n",
       "</style>\n",
       "<table border=\"1\" class=\"dataframe\">\n",
       "  <thead>\n",
       "    <tr style=\"text-align: right;\">\n",
       "      <th></th>\n",
       "      <th>data</th>\n",
       "      <th>categoria</th>\n",
       "      <th>produto</th>\n",
       "      <th>regiao</th>\n",
       "      <th>estado</th>\n",
       "      <th>canal_venda</th>\n",
       "      <th>valor_venda</th>\n",
       "      <th>quantidade</th>\n",
       "      <th>avaliacao</th>\n",
       "    </tr>\n",
       "  </thead>\n",
       "  <tbody>\n",
       "    <tr>\n",
       "      <th>3</th>\n",
       "      <td>2023-02-28 00:00:00</td>\n",
       "      <td>Roupas</td>\n",
       "      <td>Sapato</td>\n",
       "      <td>Sudeste</td>\n",
       "      <td>ES</td>\n",
       "      <td>Aplicativo</td>\n",
       "      <td>2285.79</td>\n",
       "      <td>3</td>\n",
       "      <td>4</td>\n",
       "    </tr>\n",
       "    <tr>\n",
       "      <th>6</th>\n",
       "      <td>2023-09-21 00:00:00</td>\n",
       "      <td>Alimentos</td>\n",
       "      <td>Arroz</td>\n",
       "      <td>Sudeste</td>\n",
       "      <td>RJ</td>\n",
       "      <td>Telefone</td>\n",
       "      <td>3779.25</td>\n",
       "      <td>6</td>\n",
       "      <td>2</td>\n",
       "    </tr>\n",
       "    <tr>\n",
       "      <th>14</th>\n",
       "      <td>2023-02-21 00:00:00</td>\n",
       "      <td>Beleza</td>\n",
       "      <td>Perfume</td>\n",
       "      <td>Sul</td>\n",
       "      <td>RS</td>\n",
       "      <td>Aplicativo</td>\n",
       "      <td>2057.81</td>\n",
       "      <td>4</td>\n",
       "      <td>5</td>\n",
       "    </tr>\n",
       "    <tr>\n",
       "      <th>15</th>\n",
       "      <td>2023-06-09 00:00:00</td>\n",
       "      <td>Alimentos</td>\n",
       "      <td>Óleo</td>\n",
       "      <td>Sudeste</td>\n",
       "      <td>RJ</td>\n",
       "      <td>Loja Física</td>\n",
       "      <td>4042.52</td>\n",
       "      <td>9</td>\n",
       "      <td>5</td>\n",
       "    </tr>\n",
       "    <tr>\n",
       "      <th>16</th>\n",
       "      <td>2023-05-14 00:00:00</td>\n",
       "      <td>Casa</td>\n",
       "      <td>Cama</td>\n",
       "      <td>Sudeste</td>\n",
       "      <td>ES</td>\n",
       "      <td>Telefone</td>\n",
       "      <td>4463.87</td>\n",
       "      <td>7</td>\n",
       "      <td>4</td>\n",
       "    </tr>\n",
       "  </tbody>\n",
       "</table>\n",
       "</div>"
      ],
      "text/plain": [
       "                   data  categoria  produto   regiao estado  canal_venda  \\\n",
       "3   2023-02-28 00:00:00     Roupas   Sapato  Sudeste     ES   Aplicativo   \n",
       "6   2023-09-21 00:00:00  Alimentos    Arroz  Sudeste     RJ     Telefone   \n",
       "14  2023-02-21 00:00:00     Beleza  Perfume      Sul     RS   Aplicativo   \n",
       "15  2023-06-09 00:00:00  Alimentos     Óleo  Sudeste     RJ  Loja Física   \n",
       "16  2023-05-14 00:00:00       Casa     Cama  Sudeste     ES     Telefone   \n",
       "\n",
       "    valor_venda  quantidade  avaliacao  \n",
       "3       2285.79           3          4  \n",
       "6       3779.25           6          2  \n",
       "14      2057.81           4          5  \n",
       "15      4042.52           9          5  \n",
       "16      4463.87           7          4  "
      ]
     },
     "execution_count": 27,
     "metadata": {},
     "output_type": "execute_result"
    }
   ],
   "source": [
    "# Usando isin() para filtrar com uma lista de valores\n",
    "\n",
    "# Vendas nas regiões Sul e Sudeste\n",
    "regioes_sul_sudeste = ['Sul', 'Sudeste']\n",
    "vendas_sul_sudeste = df_vendas[df_vendas['regiao'].isin(regioes_sul_sudeste)]\n",
    "\n",
    "print(f\"Número de vendas nas regiões Sul e Sudeste: {len(vendas_sul_sudeste)}\")\n",
    "\n",
    "print(\"Primeiras 5 vendas nas regiões Sul e Sudeste:\")\n",
    "vendas_sul_sudeste.head()"
   ]
  },
  {
   "cell_type": "code",
   "execution_count": 28,
   "id": "77fe577e-0a3d-4c05-bc7c-23652452a24a",
   "metadata": {},
   "outputs": [
    {
     "name": "stdout",
     "output_type": "stream",
     "text": [
      "Número de vendas entre R$1000 e R$2000: 209\n",
      "Primeiras 5 vendas entre R$1000 e R$2000:\n"
     ]
    },
    {
     "data": {
      "text/html": [
       "<div>\n",
       "<style scoped>\n",
       "    .dataframe tbody tr th:only-of-type {\n",
       "        vertical-align: middle;\n",
       "    }\n",
       "\n",
       "    .dataframe tbody tr th {\n",
       "        vertical-align: top;\n",
       "    }\n",
       "\n",
       "    .dataframe thead th {\n",
       "        text-align: right;\n",
       "    }\n",
       "</style>\n",
       "<table border=\"1\" class=\"dataframe\">\n",
       "  <thead>\n",
       "    <tr style=\"text-align: right;\">\n",
       "      <th></th>\n",
       "      <th>data</th>\n",
       "      <th>categoria</th>\n",
       "      <th>produto</th>\n",
       "      <th>regiao</th>\n",
       "      <th>estado</th>\n",
       "      <th>canal_venda</th>\n",
       "      <th>valor_venda</th>\n",
       "      <th>quantidade</th>\n",
       "      <th>avaliacao</th>\n",
       "    </tr>\n",
       "  </thead>\n",
       "  <tbody>\n",
       "    <tr>\n",
       "      <th>7</th>\n",
       "      <td>2023-09-17 00:00:00</td>\n",
       "      <td>Beleza</td>\n",
       "      <td>Condicionador</td>\n",
       "      <td>Nordeste</td>\n",
       "      <td>MA</td>\n",
       "      <td>Loja Física</td>\n",
       "      <td>1981.80</td>\n",
       "      <td>4</td>\n",
       "      <td>4</td>\n",
       "    </tr>\n",
       "    <tr>\n",
       "      <th>8</th>\n",
       "      <td>2023-07-09 00:00:00</td>\n",
       "      <td>Beleza</td>\n",
       "      <td>Hidratante</td>\n",
       "      <td>Nordeste</td>\n",
       "      <td>PB</td>\n",
       "      <td>Telefone</td>\n",
       "      <td>1790.20</td>\n",
       "      <td>9</td>\n",
       "      <td>5</td>\n",
       "    </tr>\n",
       "    <tr>\n",
       "      <th>9</th>\n",
       "      <td>2023-01-15 00:00:00</td>\n",
       "      <td>Beleza</td>\n",
       "      <td>Shampoo</td>\n",
       "      <td>Norte</td>\n",
       "      <td>AM</td>\n",
       "      <td>Telefone</td>\n",
       "      <td>1980.46</td>\n",
       "      <td>8</td>\n",
       "      <td>3</td>\n",
       "    </tr>\n",
       "    <tr>\n",
       "      <th>11</th>\n",
       "      <td>2023-05-15 00:00:00</td>\n",
       "      <td>Eletrônicos</td>\n",
       "      <td>Fones de ouvido</td>\n",
       "      <td>Nordeste</td>\n",
       "      <td>BA</td>\n",
       "      <td>Telefone</td>\n",
       "      <td>1860.38</td>\n",
       "      <td>8</td>\n",
       "      <td>5</td>\n",
       "    </tr>\n",
       "    <tr>\n",
       "      <th>18</th>\n",
       "      <td>2023-12-25 00:00:00</td>\n",
       "      <td>Alimentos</td>\n",
       "      <td>Arroz</td>\n",
       "      <td>Sul</td>\n",
       "      <td>PR</td>\n",
       "      <td>Aplicativo</td>\n",
       "      <td>1354.37</td>\n",
       "      <td>8</td>\n",
       "      <td>3</td>\n",
       "    </tr>\n",
       "  </tbody>\n",
       "</table>\n",
       "</div>"
      ],
      "text/plain": [
       "                   data    categoria          produto    regiao estado  \\\n",
       "7   2023-09-17 00:00:00       Beleza    Condicionador  Nordeste     MA   \n",
       "8   2023-07-09 00:00:00       Beleza       Hidratante  Nordeste     PB   \n",
       "9   2023-01-15 00:00:00       Beleza          Shampoo     Norte     AM   \n",
       "11  2023-05-15 00:00:00  Eletrônicos  Fones de ouvido  Nordeste     BA   \n",
       "18  2023-12-25 00:00:00    Alimentos            Arroz       Sul     PR   \n",
       "\n",
       "    canal_venda  valor_venda  quantidade  avaliacao  \n",
       "7   Loja Física      1981.80           4          4  \n",
       "8      Telefone      1790.20           9          5  \n",
       "9      Telefone      1980.46           8          3  \n",
       "11     Telefone      1860.38           8          5  \n",
       "18   Aplicativo      1354.37           8          3  "
      ]
     },
     "execution_count": 28,
     "metadata": {},
     "output_type": "execute_result"
    }
   ],
   "source": [
    "# Usando between() para filtrar valores em um intervalo\n",
    "\n",
    "# Vendas com valor entre 1000 e 2000\n",
    "vendas_1000_2000 = df_vendas[df_vendas['valor_venda'].between(1000, 2000)]\n",
    "\n",
    "print(f\"Número de vendas entre R$1000 e R$2000: {len(vendas_1000_2000)}\")\n",
    "\n",
    "print(\"Primeiras 5 vendas entre R$1000 e R$2000:\")\n",
    "vendas_1000_2000.head()"
   ]
  },
  {
   "cell_type": "markdown",
   "id": "892239e3-ce34-454c-b883-9b9de92430eb",
   "metadata": {},
   "source": [
    "#### Exercício 2: Seleção e Filtragem de Dados\n",
    "Agora, pratique a seleção e filtragem de dados com os seguintes exercícios:"
   ]
  },
  {
   "cell_type": "markdown",
   "id": "e3188264-cfdd-44f7-8d68-47c1a4e45026",
   "metadata": {},
   "source": [
    "##### 2.1 Selecione apenas as colunas 'data', 'produto' e 'valor_venda' do DataFrame"
   ]
  },
  {
   "cell_type": "code",
   "execution_count": 29,
   "id": "b1b8911b-11fc-441c-9ca4-992e3544652c",
   "metadata": {},
   "outputs": [
    {
     "name": "stdout",
     "output_type": "stream",
     "text": [
      "5 primeiras linhas das colunas selecionadas: \n"
     ]
    },
    {
     "data": {
      "text/html": [
       "<div>\n",
       "<style scoped>\n",
       "    .dataframe tbody tr th:only-of-type {\n",
       "        vertical-align: middle;\n",
       "    }\n",
       "\n",
       "    .dataframe tbody tr th {\n",
       "        vertical-align: top;\n",
       "    }\n",
       "\n",
       "    .dataframe thead th {\n",
       "        text-align: right;\n",
       "    }\n",
       "</style>\n",
       "<table border=\"1\" class=\"dataframe\">\n",
       "  <thead>\n",
       "    <tr style=\"text-align: right;\">\n",
       "      <th></th>\n",
       "      <th>data</th>\n",
       "      <th>produto</th>\n",
       "      <th>valor_venda</th>\n",
       "    </tr>\n",
       "  </thead>\n",
       "  <tbody>\n",
       "    <tr>\n",
       "      <th>0</th>\n",
       "      <td>2023-04-13 00:00:00</td>\n",
       "      <td>Armário</td>\n",
       "      <td>2988.28</td>\n",
       "    </tr>\n",
       "    <tr>\n",
       "      <th>1</th>\n",
       "      <td>2023-03-29 00:00:00</td>\n",
       "      <td>Perfume</td>\n",
       "      <td>4849.85</td>\n",
       "    </tr>\n",
       "    <tr>\n",
       "      <th>2</th>\n",
       "      <td>2023-07-11 00:00:00</td>\n",
       "      <td>Armário</td>\n",
       "      <td>2628.53</td>\n",
       "    </tr>\n",
       "    <tr>\n",
       "      <th>3</th>\n",
       "      <td>2023-02-28 00:00:00</td>\n",
       "      <td>Sapato</td>\n",
       "      <td>2285.79</td>\n",
       "    </tr>\n",
       "    <tr>\n",
       "      <th>4</th>\n",
       "      <td>2023-02-24 00:00:00</td>\n",
       "      <td>Sofá</td>\n",
       "      <td>3404.73</td>\n",
       "    </tr>\n",
       "  </tbody>\n",
       "</table>\n",
       "</div>"
      ],
      "text/plain": [
       "                  data  produto  valor_venda\n",
       "0  2023-04-13 00:00:00  Armário      2988.28\n",
       "1  2023-03-29 00:00:00  Perfume      4849.85\n",
       "2  2023-07-11 00:00:00  Armário      2628.53\n",
       "3  2023-02-28 00:00:00   Sapato      2285.79\n",
       "4  2023-02-24 00:00:00     Sofá      3404.73"
      ]
     },
     "execution_count": 29,
     "metadata": {},
     "output_type": "execute_result"
    }
   ],
   "source": [
    "# SEU CÓDIGO AQUI\n",
    "selecao = df_vendas[['data', 'produto', 'valor_venda']]\n",
    "\n",
    "print(\"5 primeiras linhas das colunas selecionadas: \")\n",
    "selecao.head()"
   ]
  },
  {
   "cell_type": "markdown",
   "id": "5143f5af-6f5d-44cf-8582-99e31e75620f",
   "metadata": {},
   "source": [
    "##### 2.2 Filtre o DataFrame para mostrar apenas as vendas do canal 'Online'"
   ]
  },
  {
   "cell_type": "code",
   "execution_count": 30,
   "id": "adcc0cfe-8adf-4001-a520-c89e93f999fe",
   "metadata": {},
   "outputs": [
    {
     "name": "stdout",
     "output_type": "stream",
     "text": [
      "Quantidade de vendas do canal 'Online' do DataFrame: 247\n",
      "5 primeiras vendas do canal 'Online': \n"
     ]
    },
    {
     "data": {
      "text/html": [
       "<div>\n",
       "<style scoped>\n",
       "    .dataframe tbody tr th:only-of-type {\n",
       "        vertical-align: middle;\n",
       "    }\n",
       "\n",
       "    .dataframe tbody tr th {\n",
       "        vertical-align: top;\n",
       "    }\n",
       "\n",
       "    .dataframe thead th {\n",
       "        text-align: right;\n",
       "    }\n",
       "</style>\n",
       "<table border=\"1\" class=\"dataframe\">\n",
       "  <thead>\n",
       "    <tr style=\"text-align: right;\">\n",
       "      <th></th>\n",
       "      <th>data</th>\n",
       "      <th>categoria</th>\n",
       "      <th>produto</th>\n",
       "      <th>regiao</th>\n",
       "      <th>estado</th>\n",
       "      <th>canal_venda</th>\n",
       "      <th>valor_venda</th>\n",
       "      <th>quantidade</th>\n",
       "      <th>avaliacao</th>\n",
       "    </tr>\n",
       "  </thead>\n",
       "  <tbody>\n",
       "    <tr>\n",
       "      <th>0</th>\n",
       "      <td>2023-04-13 00:00:00</td>\n",
       "      <td>Casa</td>\n",
       "      <td>Armário</td>\n",
       "      <td>Centro-Oeste</td>\n",
       "      <td>MS</td>\n",
       "      <td>Online</td>\n",
       "      <td>2988.28</td>\n",
       "      <td>3</td>\n",
       "      <td>3</td>\n",
       "    </tr>\n",
       "    <tr>\n",
       "      <th>1</th>\n",
       "      <td>2023-03-29 00:00:00</td>\n",
       "      <td>Beleza</td>\n",
       "      <td>Perfume</td>\n",
       "      <td>Centro-Oeste</td>\n",
       "      <td>GO</td>\n",
       "      <td>Online</td>\n",
       "      <td>4849.85</td>\n",
       "      <td>6</td>\n",
       "      <td>2</td>\n",
       "    </tr>\n",
       "    <tr>\n",
       "      <th>10</th>\n",
       "      <td>2023-03-22 00:00:00</td>\n",
       "      <td>Alimentos</td>\n",
       "      <td>Óleo</td>\n",
       "      <td>Norte</td>\n",
       "      <td>RO</td>\n",
       "      <td>Online</td>\n",
       "      <td>4632.24</td>\n",
       "      <td>9</td>\n",
       "      <td>4</td>\n",
       "    </tr>\n",
       "    <tr>\n",
       "      <th>20</th>\n",
       "      <td>2023-04-23 00:00:00</td>\n",
       "      <td>Beleza</td>\n",
       "      <td>Shampoo</td>\n",
       "      <td>Norte</td>\n",
       "      <td>RO</td>\n",
       "      <td>Online</td>\n",
       "      <td>4883.31</td>\n",
       "      <td>6</td>\n",
       "      <td>5</td>\n",
       "    </tr>\n",
       "    <tr>\n",
       "      <th>26</th>\n",
       "      <td>2023-05-24 00:00:00</td>\n",
       "      <td>Roupas</td>\n",
       "      <td>Camiseta</td>\n",
       "      <td>Sudeste</td>\n",
       "      <td>ES</td>\n",
       "      <td>Online</td>\n",
       "      <td>1216.84</td>\n",
       "      <td>5</td>\n",
       "      <td>5</td>\n",
       "    </tr>\n",
       "  </tbody>\n",
       "</table>\n",
       "</div>"
      ],
      "text/plain": [
       "                   data  categoria   produto        regiao estado canal_venda  \\\n",
       "0   2023-04-13 00:00:00       Casa   Armário  Centro-Oeste     MS      Online   \n",
       "1   2023-03-29 00:00:00     Beleza   Perfume  Centro-Oeste     GO      Online   \n",
       "10  2023-03-22 00:00:00  Alimentos      Óleo         Norte     RO      Online   \n",
       "20  2023-04-23 00:00:00     Beleza   Shampoo         Norte     RO      Online   \n",
       "26  2023-05-24 00:00:00     Roupas  Camiseta       Sudeste     ES      Online   \n",
       "\n",
       "    valor_venda  quantidade  avaliacao  \n",
       "0       2988.28           3          3  \n",
       "1       4849.85           6          2  \n",
       "10      4632.24           9          4  \n",
       "20      4883.31           6          5  \n",
       "26      1216.84           5          5  "
      ]
     },
     "execution_count": 30,
     "metadata": {},
     "output_type": "execute_result"
    }
   ],
   "source": [
    "# SEU CÓDIGO AQUI\n",
    "vendas_canal_online = df_vendas[(df_vendas['canal_venda'] == 'Online')]\n",
    "\n",
    "print(f\"Quantidade de vendas do canal 'Online' do DataFrame: {len(vendas_canal_online)}\")\n",
    "\n",
    "print(\"5 primeiras vendas do canal 'Online': \")\n",
    "vendas_canal_online.head()"
   ]
  },
  {
   "cell_type": "markdown",
   "id": "fc7bbc2e-55af-470b-a827-ab3630807818",
   "metadata": {},
   "source": [
    "##### 2.3 Filtre o DataFrame para mostrar vendas de 'Roupas' com valor acima de 500"
   ]
  },
  {
   "cell_type": "code",
   "execution_count": 31,
   "id": "9136f68a-0b68-4c25-9359-26504fc3ee3d",
   "metadata": {},
   "outputs": [
    {
     "name": "stdout",
     "output_type": "stream",
     "text": [
      "Número de vendas de 'Roupas' com valor acima de R$500: 178\n",
      "5 primeiras vendas de 'Roupas' com valor acima de R$500: \n"
     ]
    },
    {
     "data": {
      "text/html": [
       "<div>\n",
       "<style scoped>\n",
       "    .dataframe tbody tr th:only-of-type {\n",
       "        vertical-align: middle;\n",
       "    }\n",
       "\n",
       "    .dataframe tbody tr th {\n",
       "        vertical-align: top;\n",
       "    }\n",
       "\n",
       "    .dataframe thead th {\n",
       "        text-align: right;\n",
       "    }\n",
       "</style>\n",
       "<table border=\"1\" class=\"dataframe\">\n",
       "  <thead>\n",
       "    <tr style=\"text-align: right;\">\n",
       "      <th></th>\n",
       "      <th>data</th>\n",
       "      <th>categoria</th>\n",
       "      <th>produto</th>\n",
       "      <th>regiao</th>\n",
       "      <th>estado</th>\n",
       "      <th>canal_venda</th>\n",
       "      <th>valor_venda</th>\n",
       "      <th>quantidade</th>\n",
       "      <th>avaliacao</th>\n",
       "    </tr>\n",
       "  </thead>\n",
       "  <tbody>\n",
       "    <tr>\n",
       "      <th>3</th>\n",
       "      <td>2023-02-28 00:00:00</td>\n",
       "      <td>Roupas</td>\n",
       "      <td>Sapato</td>\n",
       "      <td>Sudeste</td>\n",
       "      <td>ES</td>\n",
       "      <td>Aplicativo</td>\n",
       "      <td>2285.79</td>\n",
       "      <td>3</td>\n",
       "      <td>4</td>\n",
       "    </tr>\n",
       "    <tr>\n",
       "      <th>13</th>\n",
       "      <td>2023-01-05 00:00:00</td>\n",
       "      <td>Roupas</td>\n",
       "      <td>Vestido</td>\n",
       "      <td>Norte</td>\n",
       "      <td>PA</td>\n",
       "      <td>Loja Física</td>\n",
       "      <td>2202.29</td>\n",
       "      <td>3</td>\n",
       "      <td>1</td>\n",
       "    </tr>\n",
       "    <tr>\n",
       "      <th>26</th>\n",
       "      <td>2023-05-24 00:00:00</td>\n",
       "      <td>Roupas</td>\n",
       "      <td>Camiseta</td>\n",
       "      <td>Sudeste</td>\n",
       "      <td>ES</td>\n",
       "      <td>Online</td>\n",
       "      <td>1216.84</td>\n",
       "      <td>5</td>\n",
       "      <td>5</td>\n",
       "    </tr>\n",
       "    <tr>\n",
       "      <th>36</th>\n",
       "      <td>2023-11-19 00:00:00</td>\n",
       "      <td>Roupas</td>\n",
       "      <td>Calça</td>\n",
       "      <td>Centro-Oeste</td>\n",
       "      <td>GO</td>\n",
       "      <td>Loja Física</td>\n",
       "      <td>1619.53</td>\n",
       "      <td>8</td>\n",
       "      <td>1</td>\n",
       "    </tr>\n",
       "    <tr>\n",
       "      <th>40</th>\n",
       "      <td>2023-06-29 00:00:00</td>\n",
       "      <td>Roupas</td>\n",
       "      <td>Vestido</td>\n",
       "      <td>Sudeste</td>\n",
       "      <td>SP</td>\n",
       "      <td>Online</td>\n",
       "      <td>4141.07</td>\n",
       "      <td>5</td>\n",
       "      <td>4</td>\n",
       "    </tr>\n",
       "  </tbody>\n",
       "</table>\n",
       "</div>"
      ],
      "text/plain": [
       "                   data categoria   produto        regiao estado  canal_venda  \\\n",
       "3   2023-02-28 00:00:00    Roupas    Sapato       Sudeste     ES   Aplicativo   \n",
       "13  2023-01-05 00:00:00    Roupas   Vestido         Norte     PA  Loja Física   \n",
       "26  2023-05-24 00:00:00    Roupas  Camiseta       Sudeste     ES       Online   \n",
       "36  2023-11-19 00:00:00    Roupas     Calça  Centro-Oeste     GO  Loja Física   \n",
       "40  2023-06-29 00:00:00    Roupas   Vestido       Sudeste     SP       Online   \n",
       "\n",
       "    valor_venda  quantidade  avaliacao  \n",
       "3       2285.79           3          4  \n",
       "13      2202.29           3          1  \n",
       "26      1216.84           5          5  \n",
       "36      1619.53           8          1  \n",
       "40      4141.07           5          4  "
      ]
     },
     "execution_count": 31,
     "metadata": {},
     "output_type": "execute_result"
    }
   ],
   "source": [
    "# SEU CÓDIGO AQUI\n",
    "vendas_roupas = df_vendas[(df_vendas['categoria'] == 'Roupas') &\n",
    "                          (df_vendas['valor_venda'] > 500)]\n",
    "print(f\"Número de vendas de 'Roupas' com valor acima de R$500: {len(vendas_roupas)}\")\n",
    "\n",
    "print(\"5 primeiras vendas de 'Roupas' com valor acima de R$500: \")\n",
    "vendas_roupas.head()"
   ]
  },
  {
   "cell_type": "markdown",
   "id": "103a25ca-19ae-4bb7-831c-19984c3eb6f0",
   "metadata": {},
   "source": [
    "##### 2.4 Use o método isin() para filtrar vendas dos produtos 'Smartphone' e 'Laptop'"
   ]
  },
  {
   "cell_type": "code",
   "execution_count": 32,
   "id": "7d01e9b9-ae9a-4907-9c3f-f42b49d97a33",
   "metadata": {},
   "outputs": [
    {
     "name": "stdout",
     "output_type": "stream",
     "text": [
      "Quantidade de vendas dos produtos 'Smartphone' e 'Laptop': 76\n",
      "5 primeiras vendas dos produtos 'Smartphone' e 'Laptop': \n"
     ]
    },
    {
     "data": {
      "text/html": [
       "<div>\n",
       "<style scoped>\n",
       "    .dataframe tbody tr th:only-of-type {\n",
       "        vertical-align: middle;\n",
       "    }\n",
       "\n",
       "    .dataframe tbody tr th {\n",
       "        vertical-align: top;\n",
       "    }\n",
       "\n",
       "    .dataframe thead th {\n",
       "        text-align: right;\n",
       "    }\n",
       "</style>\n",
       "<table border=\"1\" class=\"dataframe\">\n",
       "  <thead>\n",
       "    <tr style=\"text-align: right;\">\n",
       "      <th></th>\n",
       "      <th>data</th>\n",
       "      <th>categoria</th>\n",
       "      <th>produto</th>\n",
       "      <th>regiao</th>\n",
       "      <th>estado</th>\n",
       "      <th>canal_venda</th>\n",
       "      <th>valor_venda</th>\n",
       "      <th>quantidade</th>\n",
       "      <th>avaliacao</th>\n",
       "    </tr>\n",
       "  </thead>\n",
       "  <tbody>\n",
       "    <tr>\n",
       "      <th>17</th>\n",
       "      <td>2023-08-19 00:00:00</td>\n",
       "      <td>Eletrônicos</td>\n",
       "      <td>Smartphone</td>\n",
       "      <td>Norte</td>\n",
       "      <td>RO</td>\n",
       "      <td>Loja Física</td>\n",
       "      <td>12.60</td>\n",
       "      <td>9</td>\n",
       "      <td>3</td>\n",
       "    </tr>\n",
       "    <tr>\n",
       "      <th>21</th>\n",
       "      <td>2023-08-12 00:00:00</td>\n",
       "      <td>Eletrônicos</td>\n",
       "      <td>Smartphone</td>\n",
       "      <td>Centro-Oeste</td>\n",
       "      <td>GO</td>\n",
       "      <td>Loja Física</td>\n",
       "      <td>2659.36</td>\n",
       "      <td>6</td>\n",
       "      <td>4</td>\n",
       "    </tr>\n",
       "    <tr>\n",
       "      <th>50</th>\n",
       "      <td>2023-11-19 00:00:00</td>\n",
       "      <td>Eletrônicos</td>\n",
       "      <td>Smartphone</td>\n",
       "      <td>Nordeste</td>\n",
       "      <td>CE</td>\n",
       "      <td>Telefone</td>\n",
       "      <td>1377.07</td>\n",
       "      <td>2</td>\n",
       "      <td>5</td>\n",
       "    </tr>\n",
       "    <tr>\n",
       "      <th>82</th>\n",
       "      <td>2023-07-03 00:00:00</td>\n",
       "      <td>Eletrônicos</td>\n",
       "      <td>Laptop</td>\n",
       "      <td>Norte</td>\n",
       "      <td>RR</td>\n",
       "      <td>Telefone</td>\n",
       "      <td>2301.09</td>\n",
       "      <td>2</td>\n",
       "      <td>5</td>\n",
       "    </tr>\n",
       "    <tr>\n",
       "      <th>106</th>\n",
       "      <td>2023-02-11 00:00:00</td>\n",
       "      <td>Eletrônicos</td>\n",
       "      <td>Laptop</td>\n",
       "      <td>Centro-Oeste</td>\n",
       "      <td>DF</td>\n",
       "      <td>Loja Física</td>\n",
       "      <td>2703.51</td>\n",
       "      <td>1</td>\n",
       "      <td>1</td>\n",
       "    </tr>\n",
       "  </tbody>\n",
       "</table>\n",
       "</div>"
      ],
      "text/plain": [
       "                    data    categoria     produto        regiao estado  \\\n",
       "17   2023-08-19 00:00:00  Eletrônicos  Smartphone         Norte     RO   \n",
       "21   2023-08-12 00:00:00  Eletrônicos  Smartphone  Centro-Oeste     GO   \n",
       "50   2023-11-19 00:00:00  Eletrônicos  Smartphone      Nordeste     CE   \n",
       "82   2023-07-03 00:00:00  Eletrônicos      Laptop         Norte     RR   \n",
       "106  2023-02-11 00:00:00  Eletrônicos      Laptop  Centro-Oeste     DF   \n",
       "\n",
       "     canal_venda  valor_venda  quantidade  avaliacao  \n",
       "17   Loja Física        12.60           9          3  \n",
       "21   Loja Física      2659.36           6          4  \n",
       "50      Telefone      1377.07           2          5  \n",
       "82      Telefone      2301.09           2          5  \n",
       "106  Loja Física      2703.51           1          1  "
      ]
     },
     "execution_count": 32,
     "metadata": {},
     "output_type": "execute_result"
    }
   ],
   "source": [
    "# SEU CÓDIGO AQUI\n",
    "produtos_smartphone_laptop = ['Smartphone', 'Laptop']\n",
    "vendas_smartphone_laptop = df_vendas[df_vendas['produto'].isin(produtos_smartphone_laptop)]\n",
    "\n",
    "print(f\"Quantidade de vendas dos produtos 'Smartphone' e 'Laptop': {len(vendas_smartphone_laptop)}\")\n",
    "\n",
    "print(\"5 primeiras vendas dos produtos 'Smartphone' e 'Laptop': \")\n",
    "vendas_smartphone_laptop.head()"
   ]
  },
  {
   "cell_type": "markdown",
   "id": "7a7eddde-e487-44ef-b471-d0e2b17e963b",
   "metadata": {},
   "source": [
    "##### 2.5 Use o método between() para encontrar vendas com quantidades entre 3 e 5 unidades"
   ]
  },
  {
   "cell_type": "code",
   "execution_count": 33,
   "id": "d9f9a6c5-1b42-45c0-82f2-490814e18a7f",
   "metadata": {},
   "outputs": [
    {
     "name": "stdout",
     "output_type": "stream",
     "text": [
      "Quantidade de vendas entre 3 e 5 unidades: 306\n",
      "5 primeiras vendas entre 3 e 5 unidades: \n"
     ]
    },
    {
     "data": {
      "text/html": [
       "<div>\n",
       "<style scoped>\n",
       "    .dataframe tbody tr th:only-of-type {\n",
       "        vertical-align: middle;\n",
       "    }\n",
       "\n",
       "    .dataframe tbody tr th {\n",
       "        vertical-align: top;\n",
       "    }\n",
       "\n",
       "    .dataframe thead th {\n",
       "        text-align: right;\n",
       "    }\n",
       "</style>\n",
       "<table border=\"1\" class=\"dataframe\">\n",
       "  <thead>\n",
       "    <tr style=\"text-align: right;\">\n",
       "      <th></th>\n",
       "      <th>data</th>\n",
       "      <th>categoria</th>\n",
       "      <th>produto</th>\n",
       "      <th>regiao</th>\n",
       "      <th>estado</th>\n",
       "      <th>canal_venda</th>\n",
       "      <th>valor_venda</th>\n",
       "      <th>quantidade</th>\n",
       "      <th>avaliacao</th>\n",
       "    </tr>\n",
       "  </thead>\n",
       "  <tbody>\n",
       "    <tr>\n",
       "      <th>0</th>\n",
       "      <td>2023-04-13 00:00:00</td>\n",
       "      <td>Casa</td>\n",
       "      <td>Armário</td>\n",
       "      <td>Centro-Oeste</td>\n",
       "      <td>MS</td>\n",
       "      <td>Online</td>\n",
       "      <td>2988.28</td>\n",
       "      <td>3</td>\n",
       "      <td>3</td>\n",
       "    </tr>\n",
       "    <tr>\n",
       "      <th>3</th>\n",
       "      <td>2023-02-28 00:00:00</td>\n",
       "      <td>Roupas</td>\n",
       "      <td>Sapato</td>\n",
       "      <td>Sudeste</td>\n",
       "      <td>ES</td>\n",
       "      <td>Aplicativo</td>\n",
       "      <td>2285.79</td>\n",
       "      <td>3</td>\n",
       "      <td>4</td>\n",
       "    </tr>\n",
       "    <tr>\n",
       "      <th>5</th>\n",
       "      <td>2023-03-30 00:00:00</td>\n",
       "      <td>Casa</td>\n",
       "      <td>Mesa</td>\n",
       "      <td>Nordeste</td>\n",
       "      <td>BA</td>\n",
       "      <td>Loja Física</td>\n",
       "      <td>497.38</td>\n",
       "      <td>4</td>\n",
       "      <td>4</td>\n",
       "    </tr>\n",
       "    <tr>\n",
       "      <th>7</th>\n",
       "      <td>2023-09-17 00:00:00</td>\n",
       "      <td>Beleza</td>\n",
       "      <td>Condicionador</td>\n",
       "      <td>Nordeste</td>\n",
       "      <td>MA</td>\n",
       "      <td>Loja Física</td>\n",
       "      <td>1981.80</td>\n",
       "      <td>4</td>\n",
       "      <td>4</td>\n",
       "    </tr>\n",
       "    <tr>\n",
       "      <th>12</th>\n",
       "      <td>2023-04-09 00:00:00</td>\n",
       "      <td>Casa</td>\n",
       "      <td>Cadeira</td>\n",
       "      <td>Centro-Oeste</td>\n",
       "      <td>DF</td>\n",
       "      <td>Aplicativo</td>\n",
       "      <td>606.78</td>\n",
       "      <td>3</td>\n",
       "      <td>1</td>\n",
       "    </tr>\n",
       "  </tbody>\n",
       "</table>\n",
       "</div>"
      ],
      "text/plain": [
       "                   data categoria        produto        regiao estado  \\\n",
       "0   2023-04-13 00:00:00      Casa        Armário  Centro-Oeste     MS   \n",
       "3   2023-02-28 00:00:00    Roupas         Sapato       Sudeste     ES   \n",
       "5   2023-03-30 00:00:00      Casa           Mesa      Nordeste     BA   \n",
       "7   2023-09-17 00:00:00    Beleza  Condicionador      Nordeste     MA   \n",
       "12  2023-04-09 00:00:00      Casa        Cadeira  Centro-Oeste     DF   \n",
       "\n",
       "    canal_venda  valor_venda  quantidade  avaliacao  \n",
       "0        Online      2988.28           3          3  \n",
       "3    Aplicativo      2285.79           3          4  \n",
       "5   Loja Física       497.38           4          4  \n",
       "7   Loja Física      1981.80           4          4  \n",
       "12   Aplicativo       606.78           3          1  "
      ]
     },
     "execution_count": 33,
     "metadata": {},
     "output_type": "execute_result"
    }
   ],
   "source": [
    "# SEU CÓDIGO AQUI\n",
    "vendas_3_5 = df_vendas[df_vendas['quantidade'].between(3, 5)]\n",
    "print(f\"Quantidade de vendas entre 3 e 5 unidades: {len(vendas_3_5)}\")\n",
    "\n",
    "print(\"5 primeiras vendas entre 3 e 5 unidades: \")\n",
    "vendas_3_5.head()"
   ]
  },
  {
   "cell_type": "markdown",
   "id": "899dfc6e-13e1-4c66-9d74-e60096f3a1bb",
   "metadata": {},
   "source": [
    "## 3. Ordenação e Indexação\n",
    "\n",
    "### 3.1 Ordenando Dados\n",
    "\n",
    "O método `sort_values()` permite ordenar o DataFrame por uma ou mais colunas:"
   ]
  },
  {
   "cell_type": "code",
   "execution_count": 34,
   "id": "9eb379ce-5e2e-4c83-9c82-dbbeac637f12",
   "metadata": {},
   "outputs": [
    {
     "name": "stdout",
     "output_type": "stream",
     "text": [
      "5 vendas com os menores valores:\n"
     ]
    },
    {
     "data": {
      "text/html": [
       "<div>\n",
       "<style scoped>\n",
       "    .dataframe tbody tr th:only-of-type {\n",
       "        vertical-align: middle;\n",
       "    }\n",
       "\n",
       "    .dataframe tbody tr th {\n",
       "        vertical-align: top;\n",
       "    }\n",
       "\n",
       "    .dataframe thead th {\n",
       "        text-align: right;\n",
       "    }\n",
       "</style>\n",
       "<table border=\"1\" class=\"dataframe\">\n",
       "  <thead>\n",
       "    <tr style=\"text-align: right;\">\n",
       "      <th></th>\n",
       "      <th>data</th>\n",
       "      <th>categoria</th>\n",
       "      <th>produto</th>\n",
       "      <th>regiao</th>\n",
       "      <th>estado</th>\n",
       "      <th>canal_venda</th>\n",
       "      <th>valor_venda</th>\n",
       "      <th>quantidade</th>\n",
       "      <th>avaliacao</th>\n",
       "    </tr>\n",
       "  </thead>\n",
       "  <tbody>\n",
       "    <tr>\n",
       "      <th>684</th>\n",
       "      <td>2023-06-14 00:00:00</td>\n",
       "      <td>Eletrônicos</td>\n",
       "      <td>Smart TV</td>\n",
       "      <td>Nordeste</td>\n",
       "      <td>BA</td>\n",
       "      <td>Loja Física</td>\n",
       "      <td>11.13</td>\n",
       "      <td>4</td>\n",
       "      <td>2</td>\n",
       "    </tr>\n",
       "    <tr>\n",
       "      <th>17</th>\n",
       "      <td>2023-08-19 00:00:00</td>\n",
       "      <td>Eletrônicos</td>\n",
       "      <td>Smartphone</td>\n",
       "      <td>Norte</td>\n",
       "      <td>RO</td>\n",
       "      <td>Loja Física</td>\n",
       "      <td>12.60</td>\n",
       "      <td>9</td>\n",
       "      <td>3</td>\n",
       "    </tr>\n",
       "    <tr>\n",
       "      <th>450</th>\n",
       "      <td>2023-12-18 00:00:00</td>\n",
       "      <td>Eletrônicos</td>\n",
       "      <td>Tablet</td>\n",
       "      <td>Sudeste</td>\n",
       "      <td>MG</td>\n",
       "      <td>Telefone</td>\n",
       "      <td>20.07</td>\n",
       "      <td>4</td>\n",
       "      <td>1</td>\n",
       "    </tr>\n",
       "    <tr>\n",
       "      <th>339</th>\n",
       "      <td>2023-03-31 00:00:00</td>\n",
       "      <td>Casa</td>\n",
       "      <td>Mesa</td>\n",
       "      <td>Sul</td>\n",
       "      <td>PR</td>\n",
       "      <td>Aplicativo</td>\n",
       "      <td>20.50</td>\n",
       "      <td>7</td>\n",
       "      <td>1</td>\n",
       "    </tr>\n",
       "    <tr>\n",
       "      <th>316</th>\n",
       "      <td>2023-07-31 00:00:00</td>\n",
       "      <td>Beleza</td>\n",
       "      <td>Condicionador</td>\n",
       "      <td>Nordeste</td>\n",
       "      <td>CE</td>\n",
       "      <td>Telefone</td>\n",
       "      <td>29.05</td>\n",
       "      <td>7</td>\n",
       "      <td>1</td>\n",
       "    </tr>\n",
       "  </tbody>\n",
       "</table>\n",
       "</div>"
      ],
      "text/plain": [
       "                    data    categoria        produto    regiao estado  \\\n",
       "684  2023-06-14 00:00:00  Eletrônicos       Smart TV  Nordeste     BA   \n",
       "17   2023-08-19 00:00:00  Eletrônicos     Smartphone     Norte     RO   \n",
       "450  2023-12-18 00:00:00  Eletrônicos         Tablet   Sudeste     MG   \n",
       "339  2023-03-31 00:00:00         Casa           Mesa       Sul     PR   \n",
       "316  2023-07-31 00:00:00       Beleza  Condicionador  Nordeste     CE   \n",
       "\n",
       "     canal_venda  valor_venda  quantidade  avaliacao  \n",
       "684  Loja Física        11.13           4          2  \n",
       "17   Loja Física        12.60           9          3  \n",
       "450     Telefone        20.07           4          1  \n",
       "339   Aplicativo        20.50           7          1  \n",
       "316     Telefone        29.05           7          1  "
      ]
     },
     "execution_count": 34,
     "metadata": {},
     "output_type": "execute_result"
    }
   ],
   "source": [
    "# Ordenando por uma coluna em ordem crescente (padrão)\n",
    "df_ordenado_crescente = df_vendas.sort_values('valor_venda')\n",
    "\n",
    "print(\"5 vendas com os menores valores:\")\n",
    "df_ordenado_crescente.head()"
   ]
  },
  {
   "cell_type": "code",
   "execution_count": 35,
   "id": "209ce2a6-49f1-4483-bfea-27a180f6e066",
   "metadata": {},
   "outputs": [
    {
     "name": "stdout",
     "output_type": "stream",
     "text": [
      "5 vendas com os maiores valores:\n"
     ]
    },
    {
     "data": {
      "text/html": [
       "<div>\n",
       "<style scoped>\n",
       "    .dataframe tbody tr th:only-of-type {\n",
       "        vertical-align: middle;\n",
       "    }\n",
       "\n",
       "    .dataframe tbody tr th {\n",
       "        vertical-align: top;\n",
       "    }\n",
       "\n",
       "    .dataframe thead th {\n",
       "        text-align: right;\n",
       "    }\n",
       "</style>\n",
       "<table border=\"1\" class=\"dataframe\">\n",
       "  <thead>\n",
       "    <tr style=\"text-align: right;\">\n",
       "      <th></th>\n",
       "      <th>data</th>\n",
       "      <th>categoria</th>\n",
       "      <th>produto</th>\n",
       "      <th>regiao</th>\n",
       "      <th>estado</th>\n",
       "      <th>canal_venda</th>\n",
       "      <th>valor_venda</th>\n",
       "      <th>quantidade</th>\n",
       "      <th>avaliacao</th>\n",
       "    </tr>\n",
       "  </thead>\n",
       "  <tbody>\n",
       "    <tr>\n",
       "      <th>887</th>\n",
       "      <td>2023-03-27 00:00:00</td>\n",
       "      <td>Alimentos</td>\n",
       "      <td>Café</td>\n",
       "      <td>Sudeste</td>\n",
       "      <td>MG</td>\n",
       "      <td>Aplicativo</td>\n",
       "      <td>4997.31</td>\n",
       "      <td>1</td>\n",
       "      <td>4</td>\n",
       "    </tr>\n",
       "    <tr>\n",
       "      <th>152</th>\n",
       "      <td>2023-09-04 00:00:00</td>\n",
       "      <td>Beleza</td>\n",
       "      <td>Hidratante</td>\n",
       "      <td>Nordeste</td>\n",
       "      <td>CE</td>\n",
       "      <td>Aplicativo</td>\n",
       "      <td>4989.69</td>\n",
       "      <td>4</td>\n",
       "      <td>5</td>\n",
       "    </tr>\n",
       "    <tr>\n",
       "      <th>806</th>\n",
       "      <td>2023-03-05 00:00:00</td>\n",
       "      <td>Beleza</td>\n",
       "      <td>Hidratante</td>\n",
       "      <td>Nordeste</td>\n",
       "      <td>CE</td>\n",
       "      <td>Aplicativo</td>\n",
       "      <td>4988.38</td>\n",
       "      <td>3</td>\n",
       "      <td>5</td>\n",
       "    </tr>\n",
       "    <tr>\n",
       "      <th>75</th>\n",
       "      <td>2023-11-07 00:00:00</td>\n",
       "      <td>Casa</td>\n",
       "      <td>Sofá</td>\n",
       "      <td>Sul</td>\n",
       "      <td>RS</td>\n",
       "      <td>Online</td>\n",
       "      <td>4983.22</td>\n",
       "      <td>5</td>\n",
       "      <td>5</td>\n",
       "    </tr>\n",
       "    <tr>\n",
       "      <th>59</th>\n",
       "      <td>2023-02-08 00:00:00</td>\n",
       "      <td>Beleza</td>\n",
       "      <td>Hidratante</td>\n",
       "      <td>Nordeste</td>\n",
       "      <td>PE</td>\n",
       "      <td>Aplicativo</td>\n",
       "      <td>4979.70</td>\n",
       "      <td>5</td>\n",
       "      <td>3</td>\n",
       "    </tr>\n",
       "  </tbody>\n",
       "</table>\n",
       "</div>"
      ],
      "text/plain": [
       "                    data  categoria     produto    regiao estado canal_venda  \\\n",
       "887  2023-03-27 00:00:00  Alimentos        Café   Sudeste     MG  Aplicativo   \n",
       "152  2023-09-04 00:00:00     Beleza  Hidratante  Nordeste     CE  Aplicativo   \n",
       "806  2023-03-05 00:00:00     Beleza  Hidratante  Nordeste     CE  Aplicativo   \n",
       "75   2023-11-07 00:00:00       Casa        Sofá       Sul     RS      Online   \n",
       "59   2023-02-08 00:00:00     Beleza  Hidratante  Nordeste     PE  Aplicativo   \n",
       "\n",
       "     valor_venda  quantidade  avaliacao  \n",
       "887      4997.31           1          4  \n",
       "152      4989.69           4          5  \n",
       "806      4988.38           3          5  \n",
       "75       4983.22           5          5  \n",
       "59       4979.70           5          3  "
      ]
     },
     "execution_count": 35,
     "metadata": {},
     "output_type": "execute_result"
    }
   ],
   "source": [
    "# Ordenando por uma coluna em ordem decrescente\n",
    "df_ordenado_decrescente = df_vendas.sort_values('valor_venda', ascending=False)\n",
    "\n",
    "print(\"5 vendas com os maiores valores:\")\n",
    "df_ordenado_decrescente.head()"
   ]
  },
  {
   "cell_type": "code",
   "execution_count": 36,
   "id": "745f707f-a548-428d-9c74-35c2b92e1d8e",
   "metadata": {},
   "outputs": [
    {
     "name": "stdout",
     "output_type": "stream",
     "text": [
      "Ordenação por categoria e depois por valor (decrescente):\n"
     ]
    },
    {
     "data": {
      "text/html": [
       "<div>\n",
       "<style scoped>\n",
       "    .dataframe tbody tr th:only-of-type {\n",
       "        vertical-align: middle;\n",
       "    }\n",
       "\n",
       "    .dataframe tbody tr th {\n",
       "        vertical-align: top;\n",
       "    }\n",
       "\n",
       "    .dataframe thead th {\n",
       "        text-align: right;\n",
       "    }\n",
       "</style>\n",
       "<table border=\"1\" class=\"dataframe\">\n",
       "  <thead>\n",
       "    <tr style=\"text-align: right;\">\n",
       "      <th></th>\n",
       "      <th>data</th>\n",
       "      <th>categoria</th>\n",
       "      <th>produto</th>\n",
       "      <th>regiao</th>\n",
       "      <th>estado</th>\n",
       "      <th>canal_venda</th>\n",
       "      <th>valor_venda</th>\n",
       "      <th>quantidade</th>\n",
       "      <th>avaliacao</th>\n",
       "    </tr>\n",
       "  </thead>\n",
       "  <tbody>\n",
       "    <tr>\n",
       "      <th>887</th>\n",
       "      <td>2023-03-27 00:00:00</td>\n",
       "      <td>Alimentos</td>\n",
       "      <td>Café</td>\n",
       "      <td>Sudeste</td>\n",
       "      <td>MG</td>\n",
       "      <td>Aplicativo</td>\n",
       "      <td>4997.31</td>\n",
       "      <td>1</td>\n",
       "      <td>4</td>\n",
       "    </tr>\n",
       "    <tr>\n",
       "      <th>673</th>\n",
       "      <td>2023-11-24 00:00:00</td>\n",
       "      <td>Alimentos</td>\n",
       "      <td>Açúcar</td>\n",
       "      <td>Centro-Oeste</td>\n",
       "      <td>MT</td>\n",
       "      <td>Online</td>\n",
       "      <td>4932.95</td>\n",
       "      <td>8</td>\n",
       "      <td>4</td>\n",
       "    </tr>\n",
       "    <tr>\n",
       "      <th>826</th>\n",
       "      <td>2023-11-21 00:00:00</td>\n",
       "      <td>Alimentos</td>\n",
       "      <td>Café</td>\n",
       "      <td>Nordeste</td>\n",
       "      <td>CE</td>\n",
       "      <td>Loja Física</td>\n",
       "      <td>4919.82</td>\n",
       "      <td>9</td>\n",
       "      <td>2</td>\n",
       "    </tr>\n",
       "    <tr>\n",
       "      <th>553</th>\n",
       "      <td>2023-07-24 00:00:00</td>\n",
       "      <td>Alimentos</td>\n",
       "      <td>Café</td>\n",
       "      <td>Sul</td>\n",
       "      <td>SC</td>\n",
       "      <td>Telefone</td>\n",
       "      <td>4918.00</td>\n",
       "      <td>9</td>\n",
       "      <td>2</td>\n",
       "    </tr>\n",
       "    <tr>\n",
       "      <th>753</th>\n",
       "      <td>2023-08-09 00:00:00</td>\n",
       "      <td>Alimentos</td>\n",
       "      <td>Óleo</td>\n",
       "      <td>Nordeste</td>\n",
       "      <td>MA</td>\n",
       "      <td>Loja Física</td>\n",
       "      <td>4914.90</td>\n",
       "      <td>2</td>\n",
       "      <td>4</td>\n",
       "    </tr>\n",
       "    <tr>\n",
       "      <th>735</th>\n",
       "      <td>2023-05-25 00:00:00</td>\n",
       "      <td>Alimentos</td>\n",
       "      <td>Feijão</td>\n",
       "      <td>Centro-Oeste</td>\n",
       "      <td>GO</td>\n",
       "      <td>Telefone</td>\n",
       "      <td>4862.58</td>\n",
       "      <td>8</td>\n",
       "      <td>5</td>\n",
       "    </tr>\n",
       "    <tr>\n",
       "      <th>308</th>\n",
       "      <td>2023-06-25 00:00:00</td>\n",
       "      <td>Alimentos</td>\n",
       "      <td>Café</td>\n",
       "      <td>Sudeste</td>\n",
       "      <td>RJ</td>\n",
       "      <td>Loja Física</td>\n",
       "      <td>4839.10</td>\n",
       "      <td>3</td>\n",
       "      <td>1</td>\n",
       "    </tr>\n",
       "    <tr>\n",
       "      <th>295</th>\n",
       "      <td>2023-11-01 00:00:00</td>\n",
       "      <td>Alimentos</td>\n",
       "      <td>Óleo</td>\n",
       "      <td>Norte</td>\n",
       "      <td>AC</td>\n",
       "      <td>Telefone</td>\n",
       "      <td>4837.11</td>\n",
       "      <td>9</td>\n",
       "      <td>1</td>\n",
       "    </tr>\n",
       "    <tr>\n",
       "      <th>164</th>\n",
       "      <td>2023-02-07 00:00:00</td>\n",
       "      <td>Alimentos</td>\n",
       "      <td>Café</td>\n",
       "      <td>Nordeste</td>\n",
       "      <td>PE</td>\n",
       "      <td>Loja Física</td>\n",
       "      <td>4810.99</td>\n",
       "      <td>5</td>\n",
       "      <td>5</td>\n",
       "    </tr>\n",
       "    <tr>\n",
       "      <th>674</th>\n",
       "      <td>2023-02-04 00:00:00</td>\n",
       "      <td>Alimentos</td>\n",
       "      <td>Óleo</td>\n",
       "      <td>Sul</td>\n",
       "      <td>RS</td>\n",
       "      <td>Aplicativo</td>\n",
       "      <td>4797.77</td>\n",
       "      <td>6</td>\n",
       "      <td>4</td>\n",
       "    </tr>\n",
       "  </tbody>\n",
       "</table>\n",
       "</div>"
      ],
      "text/plain": [
       "                    data  categoria produto        regiao estado  canal_venda  \\\n",
       "887  2023-03-27 00:00:00  Alimentos    Café       Sudeste     MG   Aplicativo   \n",
       "673  2023-11-24 00:00:00  Alimentos  Açúcar  Centro-Oeste     MT       Online   \n",
       "826  2023-11-21 00:00:00  Alimentos    Café      Nordeste     CE  Loja Física   \n",
       "553  2023-07-24 00:00:00  Alimentos    Café           Sul     SC     Telefone   \n",
       "753  2023-08-09 00:00:00  Alimentos    Óleo      Nordeste     MA  Loja Física   \n",
       "735  2023-05-25 00:00:00  Alimentos  Feijão  Centro-Oeste     GO     Telefone   \n",
       "308  2023-06-25 00:00:00  Alimentos    Café       Sudeste     RJ  Loja Física   \n",
       "295  2023-11-01 00:00:00  Alimentos    Óleo         Norte     AC     Telefone   \n",
       "164  2023-02-07 00:00:00  Alimentos    Café      Nordeste     PE  Loja Física   \n",
       "674  2023-02-04 00:00:00  Alimentos    Óleo           Sul     RS   Aplicativo   \n",
       "\n",
       "     valor_venda  quantidade  avaliacao  \n",
       "887      4997.31           1          4  \n",
       "673      4932.95           8          4  \n",
       "826      4919.82           9          2  \n",
       "553      4918.00           9          2  \n",
       "753      4914.90           2          4  \n",
       "735      4862.58           8          5  \n",
       "308      4839.10           3          1  \n",
       "295      4837.11           9          1  \n",
       "164      4810.99           5          5  \n",
       "674      4797.77           6          4  "
      ]
     },
     "execution_count": 36,
     "metadata": {},
     "output_type": "execute_result"
    }
   ],
   "source": [
    "# Ordenando por múltiplas colunas\n",
    "\n",
    "# Primeiro por categoria (A-Z) e depois por valor_venda (maior para menor)\n",
    "df_ordenado_multi = df_vendas.sort_values(['categoria', 'valor_venda'], \n",
    "                                         ascending=[True, False])\n",
    "\n",
    "print(\"Ordenação por categoria e depois por valor (decrescente):\")\n",
    "df_ordenado_multi.head(10)"
   ]
  },
  {
   "cell_type": "markdown",
   "id": "29a83671-6ceb-4ec0-8779-ebbc21a0be35",
   "metadata": {},
   "source": [
    "### 3.2 Redefinindo e Usando Índices"
   ]
  },
  {
   "cell_type": "code",
   "execution_count": 37,
   "id": "2a05e6c3-648f-480e-b95b-93f1e452e576",
   "metadata": {},
   "outputs": [
    {
     "name": "stdout",
     "output_type": "stream",
     "text": [
      "DataFrame com 'data' como índice:\n"
     ]
    },
    {
     "data": {
      "text/html": [
       "<div>\n",
       "<style scoped>\n",
       "    .dataframe tbody tr th:only-of-type {\n",
       "        vertical-align: middle;\n",
       "    }\n",
       "\n",
       "    .dataframe tbody tr th {\n",
       "        vertical-align: top;\n",
       "    }\n",
       "\n",
       "    .dataframe thead th {\n",
       "        text-align: right;\n",
       "    }\n",
       "</style>\n",
       "<table border=\"1\" class=\"dataframe\">\n",
       "  <thead>\n",
       "    <tr style=\"text-align: right;\">\n",
       "      <th></th>\n",
       "      <th>categoria</th>\n",
       "      <th>produto</th>\n",
       "      <th>regiao</th>\n",
       "      <th>estado</th>\n",
       "      <th>canal_venda</th>\n",
       "      <th>valor_venda</th>\n",
       "      <th>quantidade</th>\n",
       "      <th>avaliacao</th>\n",
       "    </tr>\n",
       "    <tr>\n",
       "      <th>data</th>\n",
       "      <th></th>\n",
       "      <th></th>\n",
       "      <th></th>\n",
       "      <th></th>\n",
       "      <th></th>\n",
       "      <th></th>\n",
       "      <th></th>\n",
       "      <th></th>\n",
       "    </tr>\n",
       "  </thead>\n",
       "  <tbody>\n",
       "    <tr>\n",
       "      <th>2023-04-13</th>\n",
       "      <td>Casa</td>\n",
       "      <td>Armário</td>\n",
       "      <td>Centro-Oeste</td>\n",
       "      <td>MS</td>\n",
       "      <td>Online</td>\n",
       "      <td>2988.28</td>\n",
       "      <td>3</td>\n",
       "      <td>3</td>\n",
       "    </tr>\n",
       "    <tr>\n",
       "      <th>2023-03-29</th>\n",
       "      <td>Beleza</td>\n",
       "      <td>Perfume</td>\n",
       "      <td>Centro-Oeste</td>\n",
       "      <td>GO</td>\n",
       "      <td>Online</td>\n",
       "      <td>4849.85</td>\n",
       "      <td>6</td>\n",
       "      <td>2</td>\n",
       "    </tr>\n",
       "    <tr>\n",
       "      <th>2023-07-11</th>\n",
       "      <td>Casa</td>\n",
       "      <td>Armário</td>\n",
       "      <td>Norte</td>\n",
       "      <td>RR</td>\n",
       "      <td>Loja Física</td>\n",
       "      <td>2628.53</td>\n",
       "      <td>9</td>\n",
       "      <td>1</td>\n",
       "    </tr>\n",
       "    <tr>\n",
       "      <th>2023-02-28</th>\n",
       "      <td>Roupas</td>\n",
       "      <td>Sapato</td>\n",
       "      <td>Sudeste</td>\n",
       "      <td>ES</td>\n",
       "      <td>Aplicativo</td>\n",
       "      <td>2285.79</td>\n",
       "      <td>3</td>\n",
       "      <td>4</td>\n",
       "    </tr>\n",
       "    <tr>\n",
       "      <th>2023-02-24</th>\n",
       "      <td>Casa</td>\n",
       "      <td>Sofá</td>\n",
       "      <td>Centro-Oeste</td>\n",
       "      <td>DF</td>\n",
       "      <td>Aplicativo</td>\n",
       "      <td>3404.73</td>\n",
       "      <td>9</td>\n",
       "      <td>2</td>\n",
       "    </tr>\n",
       "  </tbody>\n",
       "</table>\n",
       "</div>"
      ],
      "text/plain": [
       "           categoria  produto        regiao estado  canal_venda  valor_venda  \\\n",
       "data                                                                           \n",
       "2023-04-13      Casa  Armário  Centro-Oeste     MS       Online      2988.28   \n",
       "2023-03-29    Beleza  Perfume  Centro-Oeste     GO       Online      4849.85   \n",
       "2023-07-11      Casa  Armário         Norte     RR  Loja Física      2628.53   \n",
       "2023-02-28    Roupas   Sapato       Sudeste     ES   Aplicativo      2285.79   \n",
       "2023-02-24      Casa     Sofá  Centro-Oeste     DF   Aplicativo      3404.73   \n",
       "\n",
       "            quantidade  avaliacao  \n",
       "data                               \n",
       "2023-04-13           3          3  \n",
       "2023-03-29           6          2  \n",
       "2023-07-11           9          1  \n",
       "2023-02-28           3          4  \n",
       "2023-02-24           9          2  "
      ]
     },
     "execution_count": 37,
     "metadata": {},
     "output_type": "execute_result"
    }
   ],
   "source": [
    "# Definindo uma coluna como índice\n",
    "df_indexado = df_vendas.set_index('data')\n",
    "\n",
    "print(\"DataFrame com 'data' como índice:\")\n",
    "df_indexado.head()"
   ]
  },
  {
   "cell_type": "code",
   "execution_count": 38,
   "id": "f6f34ddc-46d7-48fd-abb8-c7ba4b747b82",
   "metadata": {},
   "outputs": [
    {
     "name": "stdout",
     "output_type": "stream",
     "text": [
      "DataFrame após reset do índice:\n"
     ]
    },
    {
     "data": {
      "text/html": [
       "<div>\n",
       "<style scoped>\n",
       "    .dataframe tbody tr th:only-of-type {\n",
       "        vertical-align: middle;\n",
       "    }\n",
       "\n",
       "    .dataframe tbody tr th {\n",
       "        vertical-align: top;\n",
       "    }\n",
       "\n",
       "    .dataframe thead th {\n",
       "        text-align: right;\n",
       "    }\n",
       "</style>\n",
       "<table border=\"1\" class=\"dataframe\">\n",
       "  <thead>\n",
       "    <tr style=\"text-align: right;\">\n",
       "      <th></th>\n",
       "      <th>data</th>\n",
       "      <th>categoria</th>\n",
       "      <th>produto</th>\n",
       "      <th>regiao</th>\n",
       "      <th>estado</th>\n",
       "      <th>canal_venda</th>\n",
       "      <th>valor_venda</th>\n",
       "      <th>quantidade</th>\n",
       "      <th>avaliacao</th>\n",
       "    </tr>\n",
       "  </thead>\n",
       "  <tbody>\n",
       "    <tr>\n",
       "      <th>0</th>\n",
       "      <td>2023-04-13</td>\n",
       "      <td>Casa</td>\n",
       "      <td>Armário</td>\n",
       "      <td>Centro-Oeste</td>\n",
       "      <td>MS</td>\n",
       "      <td>Online</td>\n",
       "      <td>2988.28</td>\n",
       "      <td>3</td>\n",
       "      <td>3</td>\n",
       "    </tr>\n",
       "    <tr>\n",
       "      <th>1</th>\n",
       "      <td>2023-03-29</td>\n",
       "      <td>Beleza</td>\n",
       "      <td>Perfume</td>\n",
       "      <td>Centro-Oeste</td>\n",
       "      <td>GO</td>\n",
       "      <td>Online</td>\n",
       "      <td>4849.85</td>\n",
       "      <td>6</td>\n",
       "      <td>2</td>\n",
       "    </tr>\n",
       "    <tr>\n",
       "      <th>2</th>\n",
       "      <td>2023-07-11</td>\n",
       "      <td>Casa</td>\n",
       "      <td>Armário</td>\n",
       "      <td>Norte</td>\n",
       "      <td>RR</td>\n",
       "      <td>Loja Física</td>\n",
       "      <td>2628.53</td>\n",
       "      <td>9</td>\n",
       "      <td>1</td>\n",
       "    </tr>\n",
       "    <tr>\n",
       "      <th>3</th>\n",
       "      <td>2023-02-28</td>\n",
       "      <td>Roupas</td>\n",
       "      <td>Sapato</td>\n",
       "      <td>Sudeste</td>\n",
       "      <td>ES</td>\n",
       "      <td>Aplicativo</td>\n",
       "      <td>2285.79</td>\n",
       "      <td>3</td>\n",
       "      <td>4</td>\n",
       "    </tr>\n",
       "    <tr>\n",
       "      <th>4</th>\n",
       "      <td>2023-02-24</td>\n",
       "      <td>Casa</td>\n",
       "      <td>Sofá</td>\n",
       "      <td>Centro-Oeste</td>\n",
       "      <td>DF</td>\n",
       "      <td>Aplicativo</td>\n",
       "      <td>3404.73</td>\n",
       "      <td>9</td>\n",
       "      <td>2</td>\n",
       "    </tr>\n",
       "  </tbody>\n",
       "</table>\n",
       "</div>"
      ],
      "text/plain": [
       "        data categoria  produto        regiao estado  canal_venda  \\\n",
       "0 2023-04-13      Casa  Armário  Centro-Oeste     MS       Online   \n",
       "1 2023-03-29    Beleza  Perfume  Centro-Oeste     GO       Online   \n",
       "2 2023-07-11      Casa  Armário         Norte     RR  Loja Física   \n",
       "3 2023-02-28    Roupas   Sapato       Sudeste     ES   Aplicativo   \n",
       "4 2023-02-24      Casa     Sofá  Centro-Oeste     DF   Aplicativo   \n",
       "\n",
       "   valor_venda  quantidade  avaliacao  \n",
       "0      2988.28           3          3  \n",
       "1      4849.85           6          2  \n",
       "2      2628.53           9          1  \n",
       "3      2285.79           3          4  \n",
       "4      3404.73           9          2  "
      ]
     },
     "execution_count": 38,
     "metadata": {},
     "output_type": "execute_result"
    }
   ],
   "source": [
    "# Resetando o índice para voltar ao formato original\n",
    "df_reset = df_indexado.reset_index()\n",
    "\n",
    "print(\"DataFrame após reset do índice:\")\n",
    "df_reset.head()"
   ]
  },
  {
   "cell_type": "code",
   "execution_count": 39,
   "id": "1f7ab412-30d4-4584-8dec-f9ad1850ab93",
   "metadata": {},
   "outputs": [
    {
     "name": "stdout",
     "output_type": "stream",
     "text": [
      "Vendas em uma data específica:\n",
      "Vendas em 2023-04-13 00:00:00:\n"
     ]
    },
    {
     "data": {
      "text/html": [
       "<div>\n",
       "<style scoped>\n",
       "    .dataframe tbody tr th:only-of-type {\n",
       "        vertical-align: middle;\n",
       "    }\n",
       "\n",
       "    .dataframe tbody tr th {\n",
       "        vertical-align: top;\n",
       "    }\n",
       "\n",
       "    .dataframe thead th {\n",
       "        text-align: right;\n",
       "    }\n",
       "</style>\n",
       "<table border=\"1\" class=\"dataframe\">\n",
       "  <thead>\n",
       "    <tr style=\"text-align: right;\">\n",
       "      <th></th>\n",
       "      <th>categoria</th>\n",
       "      <th>produto</th>\n",
       "      <th>regiao</th>\n",
       "      <th>estado</th>\n",
       "      <th>canal_venda</th>\n",
       "      <th>valor_venda</th>\n",
       "      <th>quantidade</th>\n",
       "      <th>avaliacao</th>\n",
       "    </tr>\n",
       "    <tr>\n",
       "      <th>data</th>\n",
       "      <th></th>\n",
       "      <th></th>\n",
       "      <th></th>\n",
       "      <th></th>\n",
       "      <th></th>\n",
       "      <th></th>\n",
       "      <th></th>\n",
       "      <th></th>\n",
       "    </tr>\n",
       "  </thead>\n",
       "  <tbody>\n",
       "    <tr>\n",
       "      <th>2023-04-13</th>\n",
       "      <td>Casa</td>\n",
       "      <td>Armário</td>\n",
       "      <td>Centro-Oeste</td>\n",
       "      <td>MS</td>\n",
       "      <td>Online</td>\n",
       "      <td>2988.28</td>\n",
       "      <td>3</td>\n",
       "      <td>3</td>\n",
       "    </tr>\n",
       "    <tr>\n",
       "      <th>2023-04-13</th>\n",
       "      <td>Alimentos</td>\n",
       "      <td>Arroz</td>\n",
       "      <td>Norte</td>\n",
       "      <td>PA</td>\n",
       "      <td>Online</td>\n",
       "      <td>4283.90</td>\n",
       "      <td>8</td>\n",
       "      <td>2</td>\n",
       "    </tr>\n",
       "    <tr>\n",
       "      <th>2023-04-13</th>\n",
       "      <td>Eletrônicos</td>\n",
       "      <td>Smartphone</td>\n",
       "      <td>Centro-Oeste</td>\n",
       "      <td>GO</td>\n",
       "      <td>Telefone</td>\n",
       "      <td>209.34</td>\n",
       "      <td>3</td>\n",
       "      <td>2</td>\n",
       "    </tr>\n",
       "    <tr>\n",
       "      <th>2023-04-13</th>\n",
       "      <td>Eletrônicos</td>\n",
       "      <td>Smartphone</td>\n",
       "      <td>Sul</td>\n",
       "      <td>SC</td>\n",
       "      <td>Online</td>\n",
       "      <td>3712.56</td>\n",
       "      <td>9</td>\n",
       "      <td>2</td>\n",
       "    </tr>\n",
       "  </tbody>\n",
       "</table>\n",
       "</div>"
      ],
      "text/plain": [
       "              categoria     produto        regiao estado canal_venda  \\\n",
       "data                                                                   \n",
       "2023-04-13         Casa     Armário  Centro-Oeste     MS      Online   \n",
       "2023-04-13    Alimentos       Arroz         Norte     PA      Online   \n",
       "2023-04-13  Eletrônicos  Smartphone  Centro-Oeste     GO    Telefone   \n",
       "2023-04-13  Eletrônicos  Smartphone           Sul     SC      Online   \n",
       "\n",
       "            valor_venda  quantidade  avaliacao  \n",
       "data                                            \n",
       "2023-04-13      2988.28           3          3  \n",
       "2023-04-13      4283.90           8          2  \n",
       "2023-04-13       209.34           3          2  \n",
       "2023-04-13      3712.56           9          2  "
      ]
     },
     "metadata": {},
     "output_type": "display_data"
    }
   ],
   "source": [
    "# Acessando dados através do índice\n",
    "# (Importante: assumindo que 'data' ainda é o índice)\n",
    "print(\"Vendas em uma data específica:\")\n",
    "try:\n",
    "    data_exemplo = df_indexado.index[0]  # Pegando a primeira data como exemplo\n",
    "    print(f\"Vendas em {data_exemplo}:\")\n",
    "    display(df_indexado.loc[data_exemplo])\n",
    "except:\n",
    "    print(\"Certifique-se de que o DataFrame está indexado por 'data'\")"
   ]
  },
  {
   "cell_type": "markdown",
   "id": "71b8b374-0892-4972-becf-d8a590cbe720",
   "metadata": {},
   "source": [
    "#### Exercício 3: Ordenação e Indexação\n",
    "Agora, pratique a ordenação e indexação com os seguintes exercícios:"
   ]
  },
  {
   "cell_type": "markdown",
   "id": "d028c95f-3d26-4faa-a662-41bbf060688c",
   "metadata": {},
   "source": [
    "##### 3.1 Ordene o DataFrame por 'avaliacao' em ordem decrescente e mostre as 10 primeiras linhas"
   ]
  },
  {
   "cell_type": "code",
   "execution_count": 40,
   "id": "bc6f6d0e-f8ec-4534-88a9-c655c8b1d970",
   "metadata": {},
   "outputs": [
    {
     "name": "stdout",
     "output_type": "stream",
     "text": [
      "10 primeiras linhas ordenadas por 'avaliação': \n"
     ]
    },
    {
     "data": {
      "text/html": [
       "<div>\n",
       "<style scoped>\n",
       "    .dataframe tbody tr th:only-of-type {\n",
       "        vertical-align: middle;\n",
       "    }\n",
       "\n",
       "    .dataframe tbody tr th {\n",
       "        vertical-align: top;\n",
       "    }\n",
       "\n",
       "    .dataframe thead th {\n",
       "        text-align: right;\n",
       "    }\n",
       "</style>\n",
       "<table border=\"1\" class=\"dataframe\">\n",
       "  <thead>\n",
       "    <tr style=\"text-align: right;\">\n",
       "      <th></th>\n",
       "      <th>data</th>\n",
       "      <th>categoria</th>\n",
       "      <th>produto</th>\n",
       "      <th>regiao</th>\n",
       "      <th>estado</th>\n",
       "      <th>canal_venda</th>\n",
       "      <th>valor_venda</th>\n",
       "      <th>quantidade</th>\n",
       "      <th>avaliacao</th>\n",
       "    </tr>\n",
       "  </thead>\n",
       "  <tbody>\n",
       "    <tr>\n",
       "      <th>993</th>\n",
       "      <td>2023-05-08 00:00:00</td>\n",
       "      <td>Roupas</td>\n",
       "      <td>Camiseta</td>\n",
       "      <td>Centro-Oeste</td>\n",
       "      <td>MT</td>\n",
       "      <td>Loja Física</td>\n",
       "      <td>1177.27</td>\n",
       "      <td>4</td>\n",
       "      <td>5</td>\n",
       "    </tr>\n",
       "    <tr>\n",
       "      <th>974</th>\n",
       "      <td>2023-03-23 00:00:00</td>\n",
       "      <td>Alimentos</td>\n",
       "      <td>Arroz</td>\n",
       "      <td>Nordeste</td>\n",
       "      <td>MA</td>\n",
       "      <td>Online</td>\n",
       "      <td>2820.19</td>\n",
       "      <td>9</td>\n",
       "      <td>5</td>\n",
       "    </tr>\n",
       "    <tr>\n",
       "      <th>972</th>\n",
       "      <td>2023-05-14 00:00:00</td>\n",
       "      <td>Alimentos</td>\n",
       "      <td>Café</td>\n",
       "      <td>Norte</td>\n",
       "      <td>RO</td>\n",
       "      <td>Online</td>\n",
       "      <td>4445.39</td>\n",
       "      <td>6</td>\n",
       "      <td>5</td>\n",
       "    </tr>\n",
       "    <tr>\n",
       "      <th>965</th>\n",
       "      <td>2023-10-13 00:00:00</td>\n",
       "      <td>Eletrônicos</td>\n",
       "      <td>Fones de ouvido</td>\n",
       "      <td>Sul</td>\n",
       "      <td>RS</td>\n",
       "      <td>Telefone</td>\n",
       "      <td>4154.87</td>\n",
       "      <td>7</td>\n",
       "      <td>5</td>\n",
       "    </tr>\n",
       "    <tr>\n",
       "      <th>32</th>\n",
       "      <td>2023-02-20 00:00:00</td>\n",
       "      <td>Alimentos</td>\n",
       "      <td>Óleo</td>\n",
       "      <td>Nordeste</td>\n",
       "      <td>PB</td>\n",
       "      <td>Loja Física</td>\n",
       "      <td>3229.07</td>\n",
       "      <td>1</td>\n",
       "      <td>5</td>\n",
       "    </tr>\n",
       "    <tr>\n",
       "      <th>31</th>\n",
       "      <td>2023-05-15 00:00:00</td>\n",
       "      <td>Alimentos</td>\n",
       "      <td>Arroz</td>\n",
       "      <td>Norte</td>\n",
       "      <td>RR</td>\n",
       "      <td>Aplicativo</td>\n",
       "      <td>1844.90</td>\n",
       "      <td>7</td>\n",
       "      <td>5</td>\n",
       "    </tr>\n",
       "    <tr>\n",
       "      <th>26</th>\n",
       "      <td>2023-05-24 00:00:00</td>\n",
       "      <td>Roupas</td>\n",
       "      <td>Camiseta</td>\n",
       "      <td>Sudeste</td>\n",
       "      <td>ES</td>\n",
       "      <td>Online</td>\n",
       "      <td>1216.84</td>\n",
       "      <td>5</td>\n",
       "      <td>5</td>\n",
       "    </tr>\n",
       "    <tr>\n",
       "      <th>20</th>\n",
       "      <td>2023-04-23 00:00:00</td>\n",
       "      <td>Beleza</td>\n",
       "      <td>Shampoo</td>\n",
       "      <td>Norte</td>\n",
       "      <td>RO</td>\n",
       "      <td>Online</td>\n",
       "      <td>4883.31</td>\n",
       "      <td>6</td>\n",
       "      <td>5</td>\n",
       "    </tr>\n",
       "    <tr>\n",
       "      <th>957</th>\n",
       "      <td>2023-01-22 00:00:00</td>\n",
       "      <td>Eletrônicos</td>\n",
       "      <td>Smartphone</td>\n",
       "      <td>Sul</td>\n",
       "      <td>RS</td>\n",
       "      <td>Loja Física</td>\n",
       "      <td>1012.38</td>\n",
       "      <td>8</td>\n",
       "      <td>5</td>\n",
       "    </tr>\n",
       "    <tr>\n",
       "      <th>948</th>\n",
       "      <td>2023-12-23 00:00:00</td>\n",
       "      <td>Casa</td>\n",
       "      <td>Sofá</td>\n",
       "      <td>Sudeste</td>\n",
       "      <td>MG</td>\n",
       "      <td>Loja Física</td>\n",
       "      <td>139.22</td>\n",
       "      <td>1</td>\n",
       "      <td>5</td>\n",
       "    </tr>\n",
       "  </tbody>\n",
       "</table>\n",
       "</div>"
      ],
      "text/plain": [
       "                    data    categoria          produto        regiao estado  \\\n",
       "993  2023-05-08 00:00:00       Roupas         Camiseta  Centro-Oeste     MT   \n",
       "974  2023-03-23 00:00:00    Alimentos            Arroz      Nordeste     MA   \n",
       "972  2023-05-14 00:00:00    Alimentos             Café         Norte     RO   \n",
       "965  2023-10-13 00:00:00  Eletrônicos  Fones de ouvido           Sul     RS   \n",
       "32   2023-02-20 00:00:00    Alimentos             Óleo      Nordeste     PB   \n",
       "31   2023-05-15 00:00:00    Alimentos            Arroz         Norte     RR   \n",
       "26   2023-05-24 00:00:00       Roupas         Camiseta       Sudeste     ES   \n",
       "20   2023-04-23 00:00:00       Beleza          Shampoo         Norte     RO   \n",
       "957  2023-01-22 00:00:00  Eletrônicos       Smartphone           Sul     RS   \n",
       "948  2023-12-23 00:00:00         Casa             Sofá       Sudeste     MG   \n",
       "\n",
       "     canal_venda  valor_venda  quantidade  avaliacao  \n",
       "993  Loja Física      1177.27           4          5  \n",
       "974       Online      2820.19           9          5  \n",
       "972       Online      4445.39           6          5  \n",
       "965     Telefone      4154.87           7          5  \n",
       "32   Loja Física      3229.07           1          5  \n",
       "31    Aplicativo      1844.90           7          5  \n",
       "26        Online      1216.84           5          5  \n",
       "20        Online      4883.31           6          5  \n",
       "957  Loja Física      1012.38           8          5  \n",
       "948  Loja Física       139.22           1          5  "
      ]
     },
     "execution_count": 40,
     "metadata": {},
     "output_type": "execute_result"
    }
   ],
   "source": [
    "# SEU CÓDIGO AQUI\n",
    "df_ordenado_avaliacao = df_vendas.sort_values('avaliacao', ascending=False)\n",
    "\n",
    "print(\"10 primeiras linhas ordenadas por 'avaliação': \")\n",
    "df_ordenado_avaliacao.head(10)"
   ]
  },
  {
   "cell_type": "markdown",
   "id": "589ebe89-c22b-4960-8653-d756740a01a9",
   "metadata": {},
   "source": [
    "##### 3.2 Ordene o DataFrame primeiro por 'regiao' (A-Z) e depois por 'valor_venda' (maior para menor)"
   ]
  },
  {
   "cell_type": "code",
   "execution_count": 41,
   "id": "37ae0b5f-f2d7-4690-bb53-64ffd6171a1a",
   "metadata": {},
   "outputs": [
    {
     "name": "stdout",
     "output_type": "stream",
     "text": [
      "Ordenado por 'regiao' e depois por valor (decrescente): \n"
     ]
    },
    {
     "data": {
      "text/html": [
       "<div>\n",
       "<style scoped>\n",
       "    .dataframe tbody tr th:only-of-type {\n",
       "        vertical-align: middle;\n",
       "    }\n",
       "\n",
       "    .dataframe tbody tr th {\n",
       "        vertical-align: top;\n",
       "    }\n",
       "\n",
       "    .dataframe thead th {\n",
       "        text-align: right;\n",
       "    }\n",
       "</style>\n",
       "<table border=\"1\" class=\"dataframe\">\n",
       "  <thead>\n",
       "    <tr style=\"text-align: right;\">\n",
       "      <th></th>\n",
       "      <th>data</th>\n",
       "      <th>categoria</th>\n",
       "      <th>produto</th>\n",
       "      <th>regiao</th>\n",
       "      <th>estado</th>\n",
       "      <th>canal_venda</th>\n",
       "      <th>valor_venda</th>\n",
       "      <th>quantidade</th>\n",
       "      <th>avaliacao</th>\n",
       "    </tr>\n",
       "  </thead>\n",
       "  <tbody>\n",
       "    <tr>\n",
       "      <th>673</th>\n",
       "      <td>2023-11-24 00:00:00</td>\n",
       "      <td>Alimentos</td>\n",
       "      <td>Açúcar</td>\n",
       "      <td>Centro-Oeste</td>\n",
       "      <td>MT</td>\n",
       "      <td>Online</td>\n",
       "      <td>4932.95</td>\n",
       "      <td>8</td>\n",
       "      <td>4</td>\n",
       "    </tr>\n",
       "    <tr>\n",
       "      <th>735</th>\n",
       "      <td>2023-05-25 00:00:00</td>\n",
       "      <td>Alimentos</td>\n",
       "      <td>Feijão</td>\n",
       "      <td>Centro-Oeste</td>\n",
       "      <td>GO</td>\n",
       "      <td>Telefone</td>\n",
       "      <td>4862.58</td>\n",
       "      <td>8</td>\n",
       "      <td>5</td>\n",
       "    </tr>\n",
       "    <tr>\n",
       "      <th>1</th>\n",
       "      <td>2023-03-29 00:00:00</td>\n",
       "      <td>Beleza</td>\n",
       "      <td>Perfume</td>\n",
       "      <td>Centro-Oeste</td>\n",
       "      <td>GO</td>\n",
       "      <td>Online</td>\n",
       "      <td>4849.85</td>\n",
       "      <td>6</td>\n",
       "      <td>2</td>\n",
       "    </tr>\n",
       "    <tr>\n",
       "      <th>568</th>\n",
       "      <td>2023-11-19 00:00:00</td>\n",
       "      <td>Roupas</td>\n",
       "      <td>Vestido</td>\n",
       "      <td>Centro-Oeste</td>\n",
       "      <td>DF</td>\n",
       "      <td>Telefone</td>\n",
       "      <td>4829.08</td>\n",
       "      <td>4</td>\n",
       "      <td>1</td>\n",
       "    </tr>\n",
       "    <tr>\n",
       "      <th>788</th>\n",
       "      <td>2023-12-23 00:00:00</td>\n",
       "      <td>Roupas</td>\n",
       "      <td>Vestido</td>\n",
       "      <td>Centro-Oeste</td>\n",
       "      <td>GO</td>\n",
       "      <td>Loja Física</td>\n",
       "      <td>4767.00</td>\n",
       "      <td>3</td>\n",
       "      <td>5</td>\n",
       "    </tr>\n",
       "  </tbody>\n",
       "</table>\n",
       "</div>"
      ],
      "text/plain": [
       "                    data  categoria  produto        regiao estado  \\\n",
       "673  2023-11-24 00:00:00  Alimentos   Açúcar  Centro-Oeste     MT   \n",
       "735  2023-05-25 00:00:00  Alimentos   Feijão  Centro-Oeste     GO   \n",
       "1    2023-03-29 00:00:00     Beleza  Perfume  Centro-Oeste     GO   \n",
       "568  2023-11-19 00:00:00     Roupas  Vestido  Centro-Oeste     DF   \n",
       "788  2023-12-23 00:00:00     Roupas  Vestido  Centro-Oeste     GO   \n",
       "\n",
       "     canal_venda  valor_venda  quantidade  avaliacao  \n",
       "673       Online      4932.95           8          4  \n",
       "735     Telefone      4862.58           8          5  \n",
       "1         Online      4849.85           6          2  \n",
       "568     Telefone      4829.08           4          1  \n",
       "788  Loja Física      4767.00           3          5  "
      ]
     },
     "execution_count": 41,
     "metadata": {},
     "output_type": "execute_result"
    }
   ],
   "source": [
    "# SEU CÓDIGO AQUI\n",
    "df_ordenado_double = df_vendas.sort_values(['regiao', 'valor_venda'],\n",
    "                                           ascending=[True, False])\n",
    "\n",
    "print(\"Ordenado por 'regiao' e depois por valor (decrescente): \")\n",
    "df_ordenado_double.head()"
   ]
  },
  {
   "cell_type": "markdown",
   "id": "7ba4a3f8-9eec-41a5-8a90-d492f3e2e9de",
   "metadata": {},
   "source": [
    "##### 3.3 Defina a coluna 'produto' como índice do DataFrame e mostre as 5 primeiras linhas"
   ]
  },
  {
   "cell_type": "code",
   "execution_count": 42,
   "id": "b794edaa-1370-46e1-b29e-1527b5181ba4",
   "metadata": {},
   "outputs": [
    {
     "name": "stdout",
     "output_type": "stream",
     "text": [
      "DataFrame com 'produto' como índice: \n"
     ]
    },
    {
     "data": {
      "text/html": [
       "<div>\n",
       "<style scoped>\n",
       "    .dataframe tbody tr th:only-of-type {\n",
       "        vertical-align: middle;\n",
       "    }\n",
       "\n",
       "    .dataframe tbody tr th {\n",
       "        vertical-align: top;\n",
       "    }\n",
       "\n",
       "    .dataframe thead th {\n",
       "        text-align: right;\n",
       "    }\n",
       "</style>\n",
       "<table border=\"1\" class=\"dataframe\">\n",
       "  <thead>\n",
       "    <tr style=\"text-align: right;\">\n",
       "      <th></th>\n",
       "      <th>data</th>\n",
       "      <th>categoria</th>\n",
       "      <th>regiao</th>\n",
       "      <th>estado</th>\n",
       "      <th>canal_venda</th>\n",
       "      <th>valor_venda</th>\n",
       "      <th>quantidade</th>\n",
       "      <th>avaliacao</th>\n",
       "    </tr>\n",
       "    <tr>\n",
       "      <th>produto</th>\n",
       "      <th></th>\n",
       "      <th></th>\n",
       "      <th></th>\n",
       "      <th></th>\n",
       "      <th></th>\n",
       "      <th></th>\n",
       "      <th></th>\n",
       "      <th></th>\n",
       "    </tr>\n",
       "  </thead>\n",
       "  <tbody>\n",
       "    <tr>\n",
       "      <th>Armário</th>\n",
       "      <td>2023-04-13 00:00:00</td>\n",
       "      <td>Casa</td>\n",
       "      <td>Centro-Oeste</td>\n",
       "      <td>MS</td>\n",
       "      <td>Online</td>\n",
       "      <td>2988.28</td>\n",
       "      <td>3</td>\n",
       "      <td>3</td>\n",
       "    </tr>\n",
       "    <tr>\n",
       "      <th>Perfume</th>\n",
       "      <td>2023-03-29 00:00:00</td>\n",
       "      <td>Beleza</td>\n",
       "      <td>Centro-Oeste</td>\n",
       "      <td>GO</td>\n",
       "      <td>Online</td>\n",
       "      <td>4849.85</td>\n",
       "      <td>6</td>\n",
       "      <td>2</td>\n",
       "    </tr>\n",
       "    <tr>\n",
       "      <th>Armário</th>\n",
       "      <td>2023-07-11 00:00:00</td>\n",
       "      <td>Casa</td>\n",
       "      <td>Norte</td>\n",
       "      <td>RR</td>\n",
       "      <td>Loja Física</td>\n",
       "      <td>2628.53</td>\n",
       "      <td>9</td>\n",
       "      <td>1</td>\n",
       "    </tr>\n",
       "    <tr>\n",
       "      <th>Sapato</th>\n",
       "      <td>2023-02-28 00:00:00</td>\n",
       "      <td>Roupas</td>\n",
       "      <td>Sudeste</td>\n",
       "      <td>ES</td>\n",
       "      <td>Aplicativo</td>\n",
       "      <td>2285.79</td>\n",
       "      <td>3</td>\n",
       "      <td>4</td>\n",
       "    </tr>\n",
       "    <tr>\n",
       "      <th>Sofá</th>\n",
       "      <td>2023-02-24 00:00:00</td>\n",
       "      <td>Casa</td>\n",
       "      <td>Centro-Oeste</td>\n",
       "      <td>DF</td>\n",
       "      <td>Aplicativo</td>\n",
       "      <td>3404.73</td>\n",
       "      <td>9</td>\n",
       "      <td>2</td>\n",
       "    </tr>\n",
       "  </tbody>\n",
       "</table>\n",
       "</div>"
      ],
      "text/plain": [
       "                        data categoria        regiao estado  canal_venda  \\\n",
       "produto                                                                    \n",
       "Armário  2023-04-13 00:00:00      Casa  Centro-Oeste     MS       Online   \n",
       "Perfume  2023-03-29 00:00:00    Beleza  Centro-Oeste     GO       Online   \n",
       "Armário  2023-07-11 00:00:00      Casa         Norte     RR  Loja Física   \n",
       "Sapato   2023-02-28 00:00:00    Roupas       Sudeste     ES   Aplicativo   \n",
       "Sofá     2023-02-24 00:00:00      Casa  Centro-Oeste     DF   Aplicativo   \n",
       "\n",
       "         valor_venda  quantidade  avaliacao  \n",
       "produto                                      \n",
       "Armário      2988.28           3          3  \n",
       "Perfume      4849.85           6          2  \n",
       "Armário      2628.53           9          1  \n",
       "Sapato       2285.79           3          4  \n",
       "Sofá         3404.73           9          2  "
      ]
     },
     "execution_count": 42,
     "metadata": {},
     "output_type": "execute_result"
    }
   ],
   "source": [
    "# SEU CÓDIGO AQUI\n",
    "df_produto_desejado = df_vendas.set_index('produto')\n",
    "\n",
    "print(\"DataFrame com 'produto' como índice: \")\n",
    "df_produto_desejado.head()"
   ]
  },
  {
   "cell_type": "markdown",
   "id": "73b00c56-e6e6-406c-99c3-fabf84f76293",
   "metadata": {},
   "source": [
    "##### 3.4 Com o DataFrame indexado por 'produto' na questão anterior, acesse os dados do produto 'Smartphone' (se existir)\n",
    "\n",
    "Dica: use o .loc"
   ]
  },
  {
   "cell_type": "code",
   "execution_count": 43,
   "id": "fcf3a450-c0a5-47ff-80de-08ef526e3ac6",
   "metadata": {},
   "outputs": [
    {
     "name": "stdout",
     "output_type": "stream",
     "text": [
      "Vendas de um produto específico: \n"
     ]
    },
    {
     "data": {
      "text/html": [
       "<div>\n",
       "<style scoped>\n",
       "    .dataframe tbody tr th:only-of-type {\n",
       "        vertical-align: middle;\n",
       "    }\n",
       "\n",
       "    .dataframe tbody tr th {\n",
       "        vertical-align: top;\n",
       "    }\n",
       "\n",
       "    .dataframe thead th {\n",
       "        text-align: right;\n",
       "    }\n",
       "</style>\n",
       "<table border=\"1\" class=\"dataframe\">\n",
       "  <thead>\n",
       "    <tr style=\"text-align: right;\">\n",
       "      <th></th>\n",
       "      <th>data</th>\n",
       "      <th>categoria</th>\n",
       "      <th>regiao</th>\n",
       "      <th>estado</th>\n",
       "      <th>canal_venda</th>\n",
       "      <th>valor_venda</th>\n",
       "      <th>quantidade</th>\n",
       "      <th>avaliacao</th>\n",
       "    </tr>\n",
       "    <tr>\n",
       "      <th>produto</th>\n",
       "      <th></th>\n",
       "      <th></th>\n",
       "      <th></th>\n",
       "      <th></th>\n",
       "      <th></th>\n",
       "      <th></th>\n",
       "      <th></th>\n",
       "      <th></th>\n",
       "    </tr>\n",
       "  </thead>\n",
       "  <tbody>\n",
       "    <tr>\n",
       "      <th>Smartphone</th>\n",
       "      <td>2023-08-19 00:00:00</td>\n",
       "      <td>Eletrônicos</td>\n",
       "      <td>Norte</td>\n",
       "      <td>RO</td>\n",
       "      <td>Loja Física</td>\n",
       "      <td>12.60</td>\n",
       "      <td>9</td>\n",
       "      <td>3</td>\n",
       "    </tr>\n",
       "    <tr>\n",
       "      <th>Smartphone</th>\n",
       "      <td>2023-08-12 00:00:00</td>\n",
       "      <td>Eletrônicos</td>\n",
       "      <td>Centro-Oeste</td>\n",
       "      <td>GO</td>\n",
       "      <td>Loja Física</td>\n",
       "      <td>2659.36</td>\n",
       "      <td>6</td>\n",
       "      <td>4</td>\n",
       "    </tr>\n",
       "    <tr>\n",
       "      <th>Smartphone</th>\n",
       "      <td>2023-11-19 00:00:00</td>\n",
       "      <td>Eletrônicos</td>\n",
       "      <td>Nordeste</td>\n",
       "      <td>CE</td>\n",
       "      <td>Telefone</td>\n",
       "      <td>1377.07</td>\n",
       "      <td>2</td>\n",
       "      <td>5</td>\n",
       "    </tr>\n",
       "    <tr>\n",
       "      <th>Smartphone</th>\n",
       "      <td>2023-02-07 00:00:00</td>\n",
       "      <td>Eletrônicos</td>\n",
       "      <td>Sul</td>\n",
       "      <td>PR</td>\n",
       "      <td>Aplicativo</td>\n",
       "      <td>3722.29</td>\n",
       "      <td>4</td>\n",
       "      <td>2</td>\n",
       "    </tr>\n",
       "    <tr>\n",
       "      <th>Smartphone</th>\n",
       "      <td>2023-08-25 00:00:00</td>\n",
       "      <td>Eletrônicos</td>\n",
       "      <td>Centro-Oeste</td>\n",
       "      <td>GO</td>\n",
       "      <td>Telefone</td>\n",
       "      <td>670.06</td>\n",
       "      <td>2</td>\n",
       "      <td>5</td>\n",
       "    </tr>\n",
       "  </tbody>\n",
       "</table>\n",
       "</div>"
      ],
      "text/plain": [
       "                           data    categoria        regiao estado  \\\n",
       "produto                                                             \n",
       "Smartphone  2023-08-19 00:00:00  Eletrônicos         Norte     RO   \n",
       "Smartphone  2023-08-12 00:00:00  Eletrônicos  Centro-Oeste     GO   \n",
       "Smartphone  2023-11-19 00:00:00  Eletrônicos      Nordeste     CE   \n",
       "Smartphone  2023-02-07 00:00:00  Eletrônicos           Sul     PR   \n",
       "Smartphone  2023-08-25 00:00:00  Eletrônicos  Centro-Oeste     GO   \n",
       "\n",
       "            canal_venda  valor_venda  quantidade  avaliacao  \n",
       "produto                                                      \n",
       "Smartphone  Loja Física        12.60           9          3  \n",
       "Smartphone  Loja Física      2659.36           6          4  \n",
       "Smartphone     Telefone      1377.07           2          5  \n",
       "Smartphone   Aplicativo      3722.29           4          2  \n",
       "Smartphone     Telefone       670.06           2          5  "
      ]
     },
     "metadata": {},
     "output_type": "display_data"
    }
   ],
   "source": [
    "# SEU CÓDIGO AQUI\n",
    "print(\"Vendas de um produto específico: \")\n",
    "try:    \n",
    "    display(df_produto_desejado.loc['Smartphone'].head())\n",
    "except:\n",
    "    print(\"Certifique-se de que o DataFrame está indexado por 'produto'\")"
   ]
  },
  {
   "cell_type": "markdown",
   "id": "3b0400cb-9a2f-42da-b21c-ad843b4b777a",
   "metadata": {},
   "source": [
    "##### 3.5 Resete o índice para retornar à forma original e mostre as 5 primeiras linhas"
   ]
  },
  {
   "cell_type": "code",
   "execution_count": 44,
   "id": "866dc8e7-66d2-4b6c-96e8-bd6b275775a3",
   "metadata": {},
   "outputs": [
    {
     "name": "stdout",
     "output_type": "stream",
     "text": [
      "DataFrame após o reset de índice: \n"
     ]
    },
    {
     "data": {
      "text/html": [
       "<div>\n",
       "<style scoped>\n",
       "    .dataframe tbody tr th:only-of-type {\n",
       "        vertical-align: middle;\n",
       "    }\n",
       "\n",
       "    .dataframe tbody tr th {\n",
       "        vertical-align: top;\n",
       "    }\n",
       "\n",
       "    .dataframe thead th {\n",
       "        text-align: right;\n",
       "    }\n",
       "</style>\n",
       "<table border=\"1\" class=\"dataframe\">\n",
       "  <thead>\n",
       "    <tr style=\"text-align: right;\">\n",
       "      <th></th>\n",
       "      <th>produto</th>\n",
       "      <th>data</th>\n",
       "      <th>categoria</th>\n",
       "      <th>regiao</th>\n",
       "      <th>estado</th>\n",
       "      <th>canal_venda</th>\n",
       "      <th>valor_venda</th>\n",
       "      <th>quantidade</th>\n",
       "      <th>avaliacao</th>\n",
       "    </tr>\n",
       "  </thead>\n",
       "  <tbody>\n",
       "    <tr>\n",
       "      <th>0</th>\n",
       "      <td>Armário</td>\n",
       "      <td>2023-04-13 00:00:00</td>\n",
       "      <td>Casa</td>\n",
       "      <td>Centro-Oeste</td>\n",
       "      <td>MS</td>\n",
       "      <td>Online</td>\n",
       "      <td>2988.28</td>\n",
       "      <td>3</td>\n",
       "      <td>3</td>\n",
       "    </tr>\n",
       "    <tr>\n",
       "      <th>1</th>\n",
       "      <td>Perfume</td>\n",
       "      <td>2023-03-29 00:00:00</td>\n",
       "      <td>Beleza</td>\n",
       "      <td>Centro-Oeste</td>\n",
       "      <td>GO</td>\n",
       "      <td>Online</td>\n",
       "      <td>4849.85</td>\n",
       "      <td>6</td>\n",
       "      <td>2</td>\n",
       "    </tr>\n",
       "    <tr>\n",
       "      <th>2</th>\n",
       "      <td>Armário</td>\n",
       "      <td>2023-07-11 00:00:00</td>\n",
       "      <td>Casa</td>\n",
       "      <td>Norte</td>\n",
       "      <td>RR</td>\n",
       "      <td>Loja Física</td>\n",
       "      <td>2628.53</td>\n",
       "      <td>9</td>\n",
       "      <td>1</td>\n",
       "    </tr>\n",
       "    <tr>\n",
       "      <th>3</th>\n",
       "      <td>Sapato</td>\n",
       "      <td>2023-02-28 00:00:00</td>\n",
       "      <td>Roupas</td>\n",
       "      <td>Sudeste</td>\n",
       "      <td>ES</td>\n",
       "      <td>Aplicativo</td>\n",
       "      <td>2285.79</td>\n",
       "      <td>3</td>\n",
       "      <td>4</td>\n",
       "    </tr>\n",
       "    <tr>\n",
       "      <th>4</th>\n",
       "      <td>Sofá</td>\n",
       "      <td>2023-02-24 00:00:00</td>\n",
       "      <td>Casa</td>\n",
       "      <td>Centro-Oeste</td>\n",
       "      <td>DF</td>\n",
       "      <td>Aplicativo</td>\n",
       "      <td>3404.73</td>\n",
       "      <td>9</td>\n",
       "      <td>2</td>\n",
       "    </tr>\n",
       "  </tbody>\n",
       "</table>\n",
       "</div>"
      ],
      "text/plain": [
       "   produto                 data categoria        regiao estado  canal_venda  \\\n",
       "0  Armário  2023-04-13 00:00:00      Casa  Centro-Oeste     MS       Online   \n",
       "1  Perfume  2023-03-29 00:00:00    Beleza  Centro-Oeste     GO       Online   \n",
       "2  Armário  2023-07-11 00:00:00      Casa         Norte     RR  Loja Física   \n",
       "3   Sapato  2023-02-28 00:00:00    Roupas       Sudeste     ES   Aplicativo   \n",
       "4     Sofá  2023-02-24 00:00:00      Casa  Centro-Oeste     DF   Aplicativo   \n",
       "\n",
       "   valor_venda  quantidade  avaliacao  \n",
       "0      2988.28           3          3  \n",
       "1      4849.85           6          2  \n",
       "2      2628.53           9          1  \n",
       "3      2285.79           3          4  \n",
       "4      3404.73           9          2  "
      ]
     },
     "execution_count": 44,
     "metadata": {},
     "output_type": "execute_result"
    }
   ],
   "source": [
    "# SEU CÓDIGO AQUI\n",
    "df_reset = df_produto_desejado.reset_index()\n",
    "\n",
    "print(\"DataFrame após o reset de índice: \")\n",
    "df_reset.head()"
   ]
  },
  {
   "cell_type": "markdown",
   "id": "f76795bb-f6b2-4134-866d-cac17c32d2ea",
   "metadata": {},
   "source": [
    "---"
   ]
  },
  {
   "cell_type": "markdown",
   "id": "cf4889b0-9196-4622-b85f-c0af473cb83d",
   "metadata": {},
   "source": [
    "## 4. Métodos Estatísticos e Agregações Básicas\n",
    "\n",
    "O Pandas oferece diversos métodos para calcular estatísticas e resumir informações.\n",
    "\n",
    "### 4.1 Estatísticas Básicas"
   ]
  },
  {
   "cell_type": "code",
   "execution_count": 45,
   "id": "25d67f15-650d-4d59-b9ad-f3532fd63f1d",
   "metadata": {},
   "outputs": [
    {
     "name": "stdout",
     "output_type": "stream",
     "text": [
      "Valor médio de venda: R$2436.61\n"
     ]
    }
   ],
   "source": [
    "# Calculando a média (mean) de uma coluna\n",
    "media_valor = df_vendas['valor_venda'].mean()\n",
    "print(f\"Valor médio de venda: R${media_valor:.2f}\")"
   ]
  },
  {
   "cell_type": "code",
   "execution_count": 46,
   "id": "6ac1b8e1-71bb-44d2-bfe3-d94e22503042",
   "metadata": {},
   "outputs": [
    {
     "name": "stdout",
     "output_type": "stream",
     "text": [
      "Valor total de vendas: R$2436613.69\n"
     ]
    }
   ],
   "source": [
    "# Calculando a soma (sum) de uma coluna\n",
    "total_vendas = df_vendas['valor_venda'].sum()\n",
    "print(f\"Valor total de vendas: R${total_vendas:.2f}\")"
   ]
  },
  {
   "cell_type": "code",
   "execution_count": 47,
   "id": "76b0a1db-bd42-4a05-97ff-fa4dca8a1300",
   "metadata": {},
   "outputs": [
    {
     "name": "stdout",
     "output_type": "stream",
     "text": [
      "Menor valor de venda: R$11.13\n",
      "Maior valor de venda: R$4997.31\n"
     ]
    }
   ],
   "source": [
    "# Calculando o mínimo (min) e máximo (max)\n",
    "min_valor = df_vendas['valor_venda'].min()\n",
    "max_valor = df_vendas['valor_venda'].max()\n",
    "\n",
    "print(f\"Menor valor de venda: R${min_valor:.2f}\")\n",
    "print(f\"Maior valor de venda: R${max_valor:.2f}\")"
   ]
  },
  {
   "cell_type": "code",
   "execution_count": 48,
   "id": "6954771c-d2f4-4a66-ac9c-5458afb0ef40",
   "metadata": {},
   "outputs": [
    {
     "name": "stdout",
     "output_type": "stream",
     "text": [
      "Valor mediano de venda: R$2418.67\n"
     ]
    }
   ],
   "source": [
    "# Calculando a mediana (median / 50º percentil)\n",
    "mediana_valor = df_vendas['valor_venda'].median()\n",
    "print(f\"Valor mediano de venda: R${mediana_valor:.2f}\")"
   ]
  },
  {
   "cell_type": "code",
   "execution_count": 49,
   "id": "acbbea16-2c60-46ca-8f75-f4c574cdfdb7",
   "metadata": {},
   "outputs": [
    {
     "name": "stdout",
     "output_type": "stream",
     "text": [
      "25º percentil do valor de venda: R$1168.71\n",
      "75º percentil do valor de venda: R$3702.18\n"
     ]
    }
   ],
   "source": [
    "# Calculando outros percentis\n",
    "percentil_25 = df_vendas['valor_venda'].quantile(0.25)\n",
    "percentil_75 = df_vendas['valor_venda'].quantile(0.75)\n",
    "\n",
    "print(f\"25º percentil do valor de venda: R${percentil_25:.2f}\")\n",
    "print(f\"75º percentil do valor de venda: R${percentil_75:.2f}\")"
   ]
  },
  {
   "cell_type": "code",
   "execution_count": 50,
   "id": "dd1c59ff-75b7-47d0-b556-45cc3f25b676",
   "metadata": {},
   "outputs": [
    {
     "name": "stdout",
     "output_type": "stream",
     "text": [
      "Desvio padrão do valor de venda: R$1459.10\n",
      "Variância do valor de venda: R$2128968.75\n"
     ]
    }
   ],
   "source": [
    "# Calculando o desvio padrão (std) e variância (var)\n",
    "desvio_padrao = df_vendas['valor_venda'].std()\n",
    "variancia = df_vendas['valor_venda'].var()\n",
    "\n",
    "print(f\"Desvio padrão do valor de venda: R${desvio_padrao:.2f}\")\n",
    "print(f\"Variância do valor de venda: R${variancia:.2f}\")"
   ]
  },
  {
   "cell_type": "markdown",
   "id": "00886d8e-a1c0-4138-b83c-255c421393b4",
   "metadata": {},
   "source": [
    "### 4.2 Agregações por Categoria"
   ]
  },
  {
   "cell_type": "code",
   "execution_count": 51,
   "id": "f0e6c6a9-8da0-4094-a2dd-950037962002",
   "metadata": {},
   "outputs": [
    {
     "name": "stdout",
     "output_type": "stream",
     "text": [
      "Valor médio de venda por categoria:\n"
     ]
    },
    {
     "data": {
      "text/plain": [
       "categoria\n",
       "Alimentos      2571.821274\n",
       "Beleza         2312.624976\n",
       "Casa           2531.609840\n",
       "Eletrônicos    2408.354450\n",
       "Roupas         2360.553050\n",
       "Name: valor_venda, dtype: float64"
      ]
     },
     "execution_count": 51,
     "metadata": {},
     "output_type": "execute_result"
    }
   ],
   "source": [
    "# Calculando a média por categoria\n",
    "media_por_categoria = df_vendas.groupby('categoria')['valor_venda'].mean()\n",
    "\n",
    "print(\"Valor médio de venda por categoria:\")\n",
    "media_por_categoria"
   ]
  },
  {
   "cell_type": "code",
   "execution_count": 52,
   "id": "ede967c3-e018-4189-9b5c-dd20e0688d9c",
   "metadata": {},
   "outputs": [
    {
     "name": "stdout",
     "output_type": "stream",
     "text": [
      "Estatísticas por categoria:\n"
     ]
    },
    {
     "data": {
      "text/html": [
       "<div>\n",
       "<style scoped>\n",
       "    .dataframe tbody tr th:only-of-type {\n",
       "        vertical-align: middle;\n",
       "    }\n",
       "\n",
       "    .dataframe tbody tr th {\n",
       "        vertical-align: top;\n",
       "    }\n",
       "\n",
       "    .dataframe thead th {\n",
       "        text-align: right;\n",
       "    }\n",
       "</style>\n",
       "<table border=\"1\" class=\"dataframe\">\n",
       "  <thead>\n",
       "    <tr style=\"text-align: right;\">\n",
       "      <th></th>\n",
       "      <th>count</th>\n",
       "      <th>mean</th>\n",
       "      <th>min</th>\n",
       "      <th>max</th>\n",
       "    </tr>\n",
       "    <tr>\n",
       "      <th>categoria</th>\n",
       "      <th></th>\n",
       "      <th></th>\n",
       "      <th></th>\n",
       "      <th></th>\n",
       "    </tr>\n",
       "  </thead>\n",
       "  <tbody>\n",
       "    <tr>\n",
       "      <th>Alimentos</th>\n",
       "      <td>212</td>\n",
       "      <td>2571.821274</td>\n",
       "      <td>63.95</td>\n",
       "      <td>4997.31</td>\n",
       "    </tr>\n",
       "    <tr>\n",
       "      <th>Beleza</th>\n",
       "      <td>209</td>\n",
       "      <td>2312.624976</td>\n",
       "      <td>29.05</td>\n",
       "      <td>4989.69</td>\n",
       "    </tr>\n",
       "    <tr>\n",
       "      <th>Casa</th>\n",
       "      <td>188</td>\n",
       "      <td>2531.609840</td>\n",
       "      <td>20.50</td>\n",
       "      <td>4983.22</td>\n",
       "    </tr>\n",
       "    <tr>\n",
       "      <th>Eletrônicos</th>\n",
       "      <td>191</td>\n",
       "      <td>2408.354450</td>\n",
       "      <td>11.13</td>\n",
       "      <td>4924.38</td>\n",
       "    </tr>\n",
       "    <tr>\n",
       "      <th>Roupas</th>\n",
       "      <td>200</td>\n",
       "      <td>2360.553050</td>\n",
       "      <td>29.06</td>\n",
       "      <td>4969.30</td>\n",
       "    </tr>\n",
       "  </tbody>\n",
       "</table>\n",
       "</div>"
      ],
      "text/plain": [
       "             count         mean    min      max\n",
       "categoria                                      \n",
       "Alimentos      212  2571.821274  63.95  4997.31\n",
       "Beleza         209  2312.624976  29.05  4989.69\n",
       "Casa           188  2531.609840  20.50  4983.22\n",
       "Eletrônicos    191  2408.354450  11.13  4924.38\n",
       "Roupas         200  2360.553050  29.06  4969.30"
      ]
     },
     "execution_count": 52,
     "metadata": {},
     "output_type": "execute_result"
    }
   ],
   "source": [
    "# Calculando múltiplas estatísticas por categoria\n",
    "stats_por_categoria = df_vendas.groupby('categoria')['valor_venda'].agg(['count', 'mean', 'min', 'max'])\n",
    "\n",
    "print(\"Estatísticas por categoria:\")\n",
    "stats_por_categoria"
   ]
  },
  {
   "cell_type": "code",
   "execution_count": 53,
   "id": "115b1213-1c19-415b-a8e6-26fa695ab470",
   "metadata": {},
   "outputs": [
    {
     "name": "stdout",
     "output_type": "stream",
     "text": [
      "Estatísticas por categoria (colunas renomeadas):\n"
     ]
    },
    {
     "data": {
      "text/html": [
       "<div>\n",
       "<style scoped>\n",
       "    .dataframe tbody tr th:only-of-type {\n",
       "        vertical-align: middle;\n",
       "    }\n",
       "\n",
       "    .dataframe tbody tr th {\n",
       "        vertical-align: top;\n",
       "    }\n",
       "\n",
       "    .dataframe thead th {\n",
       "        text-align: right;\n",
       "    }\n",
       "</style>\n",
       "<table border=\"1\" class=\"dataframe\">\n",
       "  <thead>\n",
       "    <tr style=\"text-align: right;\">\n",
       "      <th></th>\n",
       "      <th>Contagem</th>\n",
       "      <th>Média</th>\n",
       "      <th>Mínimo</th>\n",
       "      <th>Máximo</th>\n",
       "    </tr>\n",
       "    <tr>\n",
       "      <th>categoria</th>\n",
       "      <th></th>\n",
       "      <th></th>\n",
       "      <th></th>\n",
       "      <th></th>\n",
       "    </tr>\n",
       "  </thead>\n",
       "  <tbody>\n",
       "    <tr>\n",
       "      <th>Alimentos</th>\n",
       "      <td>212</td>\n",
       "      <td>2571.821274</td>\n",
       "      <td>63.95</td>\n",
       "      <td>4997.31</td>\n",
       "    </tr>\n",
       "    <tr>\n",
       "      <th>Beleza</th>\n",
       "      <td>209</td>\n",
       "      <td>2312.624976</td>\n",
       "      <td>29.05</td>\n",
       "      <td>4989.69</td>\n",
       "    </tr>\n",
       "    <tr>\n",
       "      <th>Casa</th>\n",
       "      <td>188</td>\n",
       "      <td>2531.609840</td>\n",
       "      <td>20.50</td>\n",
       "      <td>4983.22</td>\n",
       "    </tr>\n",
       "    <tr>\n",
       "      <th>Eletrônicos</th>\n",
       "      <td>191</td>\n",
       "      <td>2408.354450</td>\n",
       "      <td>11.13</td>\n",
       "      <td>4924.38</td>\n",
       "    </tr>\n",
       "    <tr>\n",
       "      <th>Roupas</th>\n",
       "      <td>200</td>\n",
       "      <td>2360.553050</td>\n",
       "      <td>29.06</td>\n",
       "      <td>4969.30</td>\n",
       "    </tr>\n",
       "  </tbody>\n",
       "</table>\n",
       "</div>"
      ],
      "text/plain": [
       "             Contagem        Média  Mínimo   Máximo\n",
       "categoria                                          \n",
       "Alimentos         212  2571.821274   63.95  4997.31\n",
       "Beleza            209  2312.624976   29.05  4989.69\n",
       "Casa              188  2531.609840   20.50  4983.22\n",
       "Eletrônicos       191  2408.354450   11.13  4924.38\n",
       "Roupas            200  2360.553050   29.06  4969.30"
      ]
     },
     "execution_count": 53,
     "metadata": {},
     "output_type": "execute_result"
    }
   ],
   "source": [
    "# Renomeando as colunas para melhor legibilidade\n",
    "stats_por_categoria.columns = ['Contagem', 'Média', 'Mínimo', 'Máximo']\n",
    "\n",
    "print(\"Estatísticas por categoria (colunas renomeadas):\")\n",
    "stats_por_categoria"
   ]
  },
  {
   "cell_type": "markdown",
   "id": "54c0a473-0391-4023-9822-b0e2d625431c",
   "metadata": {},
   "source": [
    "#### Exercício 4: Estatísticas e Agregações\n",
    "Agora, pratique o cálculo de estatísticas com os seguintes exercícios:"
   ]
  },
  {
   "cell_type": "markdown",
   "id": "5078e4fe-f99f-4e06-b656-00f8e5c7124a",
   "metadata": {},
   "source": [
    "##### 4.1 Calcule a média da coluna 'quantidade'"
   ]
  },
  {
   "cell_type": "code",
   "execution_count": 54,
   "id": "cc689efd-1698-4c59-9a64-7a5917afaf99",
   "metadata": {},
   "outputs": [
    {
     "name": "stdout",
     "output_type": "stream",
     "text": [
      "Valor médio da coluna 'quantidade': R$5.02\n"
     ]
    }
   ],
   "source": [
    "# SEU CÓDIGO AQUI\n",
    "media_valor = df_vendas['quantidade'].mean()\n",
    "\n",
    "print(f\"Valor médio da coluna 'quantidade': R${media_valor:.2f}\")\n"
   ]
  },
  {
   "cell_type": "markdown",
   "id": "503018ba-7d65-4f09-bba4-41a488d6032c",
   "metadata": {},
   "source": [
    "##### 4.2 Calcule a soma total da coluna 'valor_venda' para ter o faturamento total"
   ]
  },
  {
   "cell_type": "code",
   "execution_count": 55,
   "id": "c627160c-65ed-4b00-ae04-475b11599a9e",
   "metadata": {},
   "outputs": [
    {
     "name": "stdout",
     "output_type": "stream",
     "text": [
      "Soma total da coluna 'valor_venda': R$2436613.69\n"
     ]
    }
   ],
   "source": [
    "# SEU CÓDIGO AQUI\n",
    "total_vendas = df_vendas['valor_venda'].sum()\n",
    "print(f\"Soma total da coluna 'valor_venda': R${total_vendas:.2f}\")"
   ]
  },
  {
   "cell_type": "markdown",
   "id": "c2223df7-0194-4b78-9488-e5d5426d6633",
   "metadata": {},
   "source": [
    "##### 4.3 Encontre o valor máximo de 'avaliacao' de cada categoria de produto"
   ]
  },
  {
   "cell_type": "code",
   "execution_count": 56,
   "id": "e63c555f-87bd-4dce-adf5-f0f76ffc005d",
   "metadata": {},
   "outputs": [
    {
     "name": "stdout",
     "output_type": "stream",
     "text": [
      "Valor máximo de 'avaliacao' de cada categoria: \n"
     ]
    },
    {
     "data": {
      "text/plain": [
       "categoria\n",
       "Alimentos      5\n",
       "Beleza         5\n",
       "Casa           5\n",
       "Eletrônicos    5\n",
       "Roupas         5\n",
       "Name: avaliacao, dtype: int64"
      ]
     },
     "execution_count": 56,
     "metadata": {},
     "output_type": "execute_result"
    }
   ],
   "source": [
    "# SEU CÓDIGO AQUI\n",
    "valor_max = df_vendas.groupby('categoria')['avaliacao'].max()\n",
    "\n",
    "print(\"Valor máximo de 'avaliacao' de cada categoria: \")\n",
    "valor_max"
   ]
  },
  {
   "cell_type": "markdown",
   "id": "d11401cb-ec84-46d0-a5d6-e885aca9d614",
   "metadata": {},
   "source": [
    "##### 4.4 Calcule o valor médio de venda por região e ordene do maior para o menor"
   ]
  },
  {
   "cell_type": "code",
   "execution_count": 57,
   "id": "6ee127c8-ac52-4fd5-8823-a1c74242fcfc",
   "metadata": {},
   "outputs": [
    {
     "name": "stdout",
     "output_type": "stream",
     "text": [
      "Valor médio de venda por região (ordem decrescente): \n"
     ]
    },
    {
     "data": {
      "text/plain": [
       "regiao\n",
       "Nordeste        2602.017703\n",
       "Sudeste         2513.618673\n",
       "Sul             2451.354055\n",
       "Norte           2308.803050\n",
       "Centro-Oeste    2283.248820\n",
       "Name: valor_venda, dtype: float64"
      ]
     },
     "execution_count": 57,
     "metadata": {},
     "output_type": "execute_result"
    }
   ],
   "source": [
    "# SEU CÓDIGO AQUI\n",
    "media_por_regiao = df_vendas.groupby('regiao')['valor_venda'].mean().sort_values(ascending=False)\n",
    "\n",
    "print(\"Valor médio de venda por região (ordem decrescente): \")\n",
    "media_por_regiao"
   ]
  },
  {
   "cell_type": "markdown",
   "id": "a0a0b9a1-93ee-47f2-9e07-68c99cbe7c42",
   "metadata": {},
   "source": [
    "##### 4.5 Calcule a contagem, média, mínimo e máximo de 'valor_venda' para cada canal_venda"
   ]
  },
  {
   "cell_type": "code",
   "execution_count": 58,
   "id": "f9d9351a-021d-4529-8567-45806ff32355",
   "metadata": {},
   "outputs": [
    {
     "name": "stdout",
     "output_type": "stream",
     "text": [
      "Estatística por canal de venda:\n"
     ]
    },
    {
     "data": {
      "text/html": [
       "<div>\n",
       "<style scoped>\n",
       "    .dataframe tbody tr th:only-of-type {\n",
       "        vertical-align: middle;\n",
       "    }\n",
       "\n",
       "    .dataframe tbody tr th {\n",
       "        vertical-align: top;\n",
       "    }\n",
       "\n",
       "    .dataframe thead th {\n",
       "        text-align: right;\n",
       "    }\n",
       "</style>\n",
       "<table border=\"1\" class=\"dataframe\">\n",
       "  <thead>\n",
       "    <tr style=\"text-align: right;\">\n",
       "      <th></th>\n",
       "      <th>count</th>\n",
       "      <th>mean</th>\n",
       "      <th>min</th>\n",
       "      <th>max</th>\n",
       "    </tr>\n",
       "    <tr>\n",
       "      <th>canal_venda</th>\n",
       "      <th></th>\n",
       "      <th></th>\n",
       "      <th></th>\n",
       "      <th></th>\n",
       "    </tr>\n",
       "  </thead>\n",
       "  <tbody>\n",
       "    <tr>\n",
       "      <th>Aplicativo</th>\n",
       "      <td>235</td>\n",
       "      <td>2499.720170</td>\n",
       "      <td>20.50</td>\n",
       "      <td>4997.31</td>\n",
       "    </tr>\n",
       "    <tr>\n",
       "      <th>Loja Física</th>\n",
       "      <td>267</td>\n",
       "      <td>2385.648689</td>\n",
       "      <td>11.13</td>\n",
       "      <td>4951.14</td>\n",
       "    </tr>\n",
       "    <tr>\n",
       "      <th>Online</th>\n",
       "      <td>247</td>\n",
       "      <td>2538.749069</td>\n",
       "      <td>48.24</td>\n",
       "      <td>4983.22</td>\n",
       "    </tr>\n",
       "    <tr>\n",
       "      <th>Telefone</th>\n",
       "      <td>251</td>\n",
       "      <td>2331.235976</td>\n",
       "      <td>20.07</td>\n",
       "      <td>4918.00</td>\n",
       "    </tr>\n",
       "  </tbody>\n",
       "</table>\n",
       "</div>"
      ],
      "text/plain": [
       "             count         mean    min      max\n",
       "canal_venda                                    \n",
       "Aplicativo     235  2499.720170  20.50  4997.31\n",
       "Loja Física    267  2385.648689  11.13  4951.14\n",
       "Online         247  2538.749069  48.24  4983.22\n",
       "Telefone       251  2331.235976  20.07  4918.00"
      ]
     },
     "execution_count": 58,
     "metadata": {},
     "output_type": "execute_result"
    }
   ],
   "source": [
    "# SEU CÓDIGO AQUI\n",
    "stats_por_canal = df_vendas.groupby('canal_venda')['valor_venda'].agg(['count', 'mean', 'min', 'max'])\n",
    "\n",
    "print(\"Estatística por canal de venda:\")\n",
    "stats_por_canal"
   ]
  },
  {
   "cell_type": "markdown",
   "id": "35cdf4d1-89b8-44c2-9972-764bc5815503",
   "metadata": {},
   "source": [
    "---"
   ]
  },
  {
   "cell_type": "markdown",
   "id": "66c707c9-4747-4faf-af55-bd1190e7a7de",
   "metadata": {},
   "source": [
    "## 5. Agrupamento de Dados (GroupBy)\n",
    "\n",
    "### 5.1 O Conceito de GroupBy\n",
    "\n",
    "O método `groupby()` é uma das ferramentas mais poderosas do Pandas. Ele permite dividir os dados em grupos com base em uma ou mais colunas e aplicar funções para calcular estatísticas para cada grupo.\n",
    "\n",
    "O processo de GroupBy geralmente segue três etapas:\n",
    "1. **Split**: Dividir os dados em grupos\n",
    "2. **Apply**: Aplicar uma função a cada grupo\n",
    "3. **Combine**: Combinar os resultados em uma estrutura de dados"
   ]
  },
  {
   "cell_type": "code",
   "execution_count": 59,
   "id": "45d3ffcf-45cb-4a90-ab7d-2d21fd093fb8",
   "metadata": {},
   "outputs": [
    {
     "name": "stdout",
     "output_type": "stream",
     "text": [
      "Valor médio de venda por categoria:\n"
     ]
    },
    {
     "data": {
      "text/plain": [
       "categoria\n",
       "Alimentos      2571.821274\n",
       "Beleza         2312.624976\n",
       "Casa           2531.609840\n",
       "Eletrônicos    2408.354450\n",
       "Roupas         2360.553050\n",
       "Name: valor_venda, dtype: float64"
      ]
     },
     "execution_count": 59,
     "metadata": {},
     "output_type": "execute_result"
    }
   ],
   "source": [
    "# Exemplo básico: agrupando por categoria e calculando a média de valor_venda\n",
    "media_por_categoria = df_vendas.groupby('categoria')['valor_venda'].mean()\n",
    "print(\"Valor médio de venda por categoria:\")\n",
    "media_por_categoria"
   ]
  },
  {
   "cell_type": "code",
   "execution_count": 60,
   "id": "4da8fce5-ba88-4acc-819b-777cc78088df",
   "metadata": {},
   "outputs": [
    {
     "name": "stdout",
     "output_type": "stream",
     "text": [
      "Tipo de dados: <class 'pandas.core.series.Series'>\n"
     ]
    }
   ],
   "source": [
    "# Visualizando o tipo de dados retornado\n",
    "print(f\"Tipo de dados: {type(media_por_categoria)}\")"
   ]
  },
  {
   "cell_type": "markdown",
   "id": "120b3a7e-23c8-4fcb-9c84-80488d32b4de",
   "metadata": {},
   "source": [
    "### 5.2 Agregações com GroupBy\n",
    "\n",
    "Podemos aplicar diferentes funções de agregação aos grupos:"
   ]
  },
  {
   "cell_type": "code",
   "execution_count": 61,
   "id": "8b27a2d1-28ed-4cc1-8e2b-27c73a715446",
   "metadata": {},
   "outputs": [
    {
     "name": "stdout",
     "output_type": "stream",
     "text": [
      "Número de vendas por região:\n"
     ]
    },
    {
     "data": {
      "text/plain": [
       "regiao\n",
       "Centro-Oeste    178\n",
       "Nordeste        209\n",
       "Norte           200\n",
       "Sudeste         196\n",
       "Sul             217\n",
       "Name: valor_venda, dtype: int64"
      ]
     },
     "execution_count": 61,
     "metadata": {},
     "output_type": "execute_result"
    }
   ],
   "source": [
    "# Contagem de vendas por região\n",
    "contagem_por_regiao = df_vendas.groupby('regiao')['valor_venda'].count()\n",
    "\n",
    "print(\"Número de vendas por região:\")\n",
    "contagem_por_regiao"
   ]
  },
  {
   "cell_type": "code",
   "execution_count": 62,
   "id": "a5dfb104-a543-48b1-9e77-131296d46bbd",
   "metadata": {},
   "outputs": [
    {
     "name": "stdout",
     "output_type": "stream",
     "text": [
      "Valor total de vendas por região:\n"
     ]
    },
    {
     "data": {
      "text/plain": [
       "regiao\n",
       "Centro-Oeste    406418.29\n",
       "Nordeste        543821.70\n",
       "Norte           461760.61\n",
       "Sudeste         492669.26\n",
       "Sul             531943.83\n",
       "Name: valor_venda, dtype: float64"
      ]
     },
     "execution_count": 62,
     "metadata": {},
     "output_type": "execute_result"
    }
   ],
   "source": [
    "# Soma do valor de vendas por região\n",
    "soma_por_regiao = df_vendas.groupby('regiao')['valor_venda'].sum()\n",
    "\n",
    "print(\"Valor total de vendas por região:\")\n",
    "soma_por_regiao"
   ]
  },
  {
   "cell_type": "code",
   "execution_count": 63,
   "id": "fe6009c9-d428-416f-bf54-14f82b20023e",
   "metadata": {},
   "outputs": [
    {
     "name": "stdout",
     "output_type": "stream",
     "text": [
      "Estatísticas completas por região:\n"
     ]
    },
    {
     "data": {
      "text/html": [
       "<div>\n",
       "<style scoped>\n",
       "    .dataframe tbody tr th:only-of-type {\n",
       "        vertical-align: middle;\n",
       "    }\n",
       "\n",
       "    .dataframe tbody tr th {\n",
       "        vertical-align: top;\n",
       "    }\n",
       "\n",
       "    .dataframe thead th {\n",
       "        text-align: right;\n",
       "    }\n",
       "</style>\n",
       "<table border=\"1\" class=\"dataframe\">\n",
       "  <thead>\n",
       "    <tr style=\"text-align: right;\">\n",
       "      <th></th>\n",
       "      <th>count</th>\n",
       "      <th>sum</th>\n",
       "      <th>mean</th>\n",
       "      <th>min</th>\n",
       "      <th>max</th>\n",
       "    </tr>\n",
       "    <tr>\n",
       "      <th>regiao</th>\n",
       "      <th></th>\n",
       "      <th></th>\n",
       "      <th></th>\n",
       "      <th></th>\n",
       "      <th></th>\n",
       "    </tr>\n",
       "  </thead>\n",
       "  <tbody>\n",
       "    <tr>\n",
       "      <th>Centro-Oeste</th>\n",
       "      <td>178</td>\n",
       "      <td>406418.29</td>\n",
       "      <td>2283.248820</td>\n",
       "      <td>47.24</td>\n",
       "      <td>4932.95</td>\n",
       "    </tr>\n",
       "    <tr>\n",
       "      <th>Nordeste</th>\n",
       "      <td>209</td>\n",
       "      <td>543821.70</td>\n",
       "      <td>2602.017703</td>\n",
       "      <td>11.13</td>\n",
       "      <td>4989.69</td>\n",
       "    </tr>\n",
       "    <tr>\n",
       "      <th>Norte</th>\n",
       "      <td>200</td>\n",
       "      <td>461760.61</td>\n",
       "      <td>2308.803050</td>\n",
       "      <td>12.60</td>\n",
       "      <td>4883.31</td>\n",
       "    </tr>\n",
       "    <tr>\n",
       "      <th>Sudeste</th>\n",
       "      <td>196</td>\n",
       "      <td>492669.26</td>\n",
       "      <td>2513.618673</td>\n",
       "      <td>20.07</td>\n",
       "      <td>4997.31</td>\n",
       "    </tr>\n",
       "    <tr>\n",
       "      <th>Sul</th>\n",
       "      <td>217</td>\n",
       "      <td>531943.83</td>\n",
       "      <td>2451.354055</td>\n",
       "      <td>20.50</td>\n",
       "      <td>4983.22</td>\n",
       "    </tr>\n",
       "  </tbody>\n",
       "</table>\n",
       "</div>"
      ],
      "text/plain": [
       "              count        sum         mean    min      max\n",
       "regiao                                                     \n",
       "Centro-Oeste    178  406418.29  2283.248820  47.24  4932.95\n",
       "Nordeste        209  543821.70  2602.017703  11.13  4989.69\n",
       "Norte           200  461760.61  2308.803050  12.60  4883.31\n",
       "Sudeste         196  492669.26  2513.618673  20.07  4997.31\n",
       "Sul             217  531943.83  2451.354055  20.50  4983.22"
      ]
     },
     "execution_count": 63,
     "metadata": {},
     "output_type": "execute_result"
    }
   ],
   "source": [
    "# Calculando múltiplas estatísticas simultaneamente\n",
    "stats_por_regiao = df_vendas.groupby('regiao')['valor_venda'].agg(['count', 'sum', 'mean', 'min', 'max'])\n",
    "\n",
    "print(\"Estatísticas completas por região:\")\n",
    "stats_por_regiao"
   ]
  },
  {
   "cell_type": "markdown",
   "id": "65fd6fbd-d67d-4053-a5c6-66bf28d3b027",
   "metadata": {},
   "source": [
    "### 5.3 GroupBy com Múltiplas Colunas\n",
    "\n",
    "Podemos agrupar por mais de uma coluna para análises mais detalhadas:"
   ]
  },
  {
   "cell_type": "code",
   "execution_count": 64,
   "id": "98230e1a-1f27-4a58-a304-1fce940011ef",
   "metadata": {},
   "outputs": [
    {
     "name": "stdout",
     "output_type": "stream",
     "text": [
      "Total de vendas por região e categoria:\n"
     ]
    },
    {
     "data": {
      "text/plain": [
       "regiao        categoria  \n",
       "Centro-Oeste  Alimentos       90812.84\n",
       "              Beleza          92219.34\n",
       "              Casa            70218.56\n",
       "              Eletrônicos     72089.70\n",
       "              Roupas          81077.85\n",
       "Nordeste      Alimentos      130182.92\n",
       "              Beleza         119797.06\n",
       "              Casa           115095.24\n",
       "              Eletrônicos    100512.59\n",
       "              Roupas          78233.89\n",
       "Norte         Alimentos      109166.60\n",
       "              Beleza          98961.74\n",
       "              Casa            83276.47\n",
       "              Eletrônicos     82667.65\n",
       "              Roupas          87688.15\n",
       "Sudeste       Alimentos       97509.99\n",
       "              Beleza          80905.73\n",
       "              Casa            97513.35\n",
       "              Eletrônicos     92666.98\n",
       "              Roupas         124073.21\n",
       "Sul           Alimentos      117553.76\n",
       "              Beleza          91454.75\n",
       "              Casa           109839.03\n",
       "              Eletrônicos    112058.78\n",
       "              Roupas         101037.51\n",
       "Name: valor_venda, dtype: float64"
      ]
     },
     "execution_count": 64,
     "metadata": {},
     "output_type": "execute_result"
    }
   ],
   "source": [
    "# Agrupando por região e categoria\n",
    "vendas_regiao_categoria = df_vendas.groupby(['regiao', 'categoria'])['valor_venda'].sum()\n",
    "\n",
    "print(\"Total de vendas por região e categoria:\")\n",
    "vendas_regiao_categoria"
   ]
  },
  {
   "cell_type": "code",
   "execution_count": 65,
   "id": "cd2c8966-3a53-4cfa-b6cb-1f95b7e938d2",
   "metadata": {},
   "outputs": [
    {
     "name": "stdout",
     "output_type": "stream",
     "text": [
      "Tabela pivô de vendas por região e categoria:\n"
     ]
    },
    {
     "data": {
      "text/html": [
       "<div>\n",
       "<style scoped>\n",
       "    .dataframe tbody tr th:only-of-type {\n",
       "        vertical-align: middle;\n",
       "    }\n",
       "\n",
       "    .dataframe tbody tr th {\n",
       "        vertical-align: top;\n",
       "    }\n",
       "\n",
       "    .dataframe thead th {\n",
       "        text-align: right;\n",
       "    }\n",
       "</style>\n",
       "<table border=\"1\" class=\"dataframe\">\n",
       "  <thead>\n",
       "    <tr style=\"text-align: right;\">\n",
       "      <th>categoria</th>\n",
       "      <th>Alimentos</th>\n",
       "      <th>Beleza</th>\n",
       "      <th>Casa</th>\n",
       "      <th>Eletrônicos</th>\n",
       "      <th>Roupas</th>\n",
       "    </tr>\n",
       "    <tr>\n",
       "      <th>regiao</th>\n",
       "      <th></th>\n",
       "      <th></th>\n",
       "      <th></th>\n",
       "      <th></th>\n",
       "      <th></th>\n",
       "    </tr>\n",
       "  </thead>\n",
       "  <tbody>\n",
       "    <tr>\n",
       "      <th>Centro-Oeste</th>\n",
       "      <td>90812.84</td>\n",
       "      <td>92219.34</td>\n",
       "      <td>70218.56</td>\n",
       "      <td>72089.70</td>\n",
       "      <td>81077.85</td>\n",
       "    </tr>\n",
       "    <tr>\n",
       "      <th>Nordeste</th>\n",
       "      <td>130182.92</td>\n",
       "      <td>119797.06</td>\n",
       "      <td>115095.24</td>\n",
       "      <td>100512.59</td>\n",
       "      <td>78233.89</td>\n",
       "    </tr>\n",
       "    <tr>\n",
       "      <th>Norte</th>\n",
       "      <td>109166.60</td>\n",
       "      <td>98961.74</td>\n",
       "      <td>83276.47</td>\n",
       "      <td>82667.65</td>\n",
       "      <td>87688.15</td>\n",
       "    </tr>\n",
       "    <tr>\n",
       "      <th>Sudeste</th>\n",
       "      <td>97509.99</td>\n",
       "      <td>80905.73</td>\n",
       "      <td>97513.35</td>\n",
       "      <td>92666.98</td>\n",
       "      <td>124073.21</td>\n",
       "    </tr>\n",
       "    <tr>\n",
       "      <th>Sul</th>\n",
       "      <td>117553.76</td>\n",
       "      <td>91454.75</td>\n",
       "      <td>109839.03</td>\n",
       "      <td>112058.78</td>\n",
       "      <td>101037.51</td>\n",
       "    </tr>\n",
       "  </tbody>\n",
       "</table>\n",
       "</div>"
      ],
      "text/plain": [
       "categoria     Alimentos     Beleza       Casa  Eletrônicos     Roupas\n",
       "regiao                                                               \n",
       "Centro-Oeste   90812.84   92219.34   70218.56     72089.70   81077.85\n",
       "Nordeste      130182.92  119797.06  115095.24    100512.59   78233.89\n",
       "Norte         109166.60   98961.74   83276.47     82667.65   87688.15\n",
       "Sudeste        97509.99   80905.73   97513.35     92666.98  124073.21\n",
       "Sul           117553.76   91454.75  109839.03    112058.78  101037.51"
      ]
     },
     "execution_count": 65,
     "metadata": {},
     "output_type": "execute_result"
    }
   ],
   "source": [
    "# Convertendo para um formato mais legível (tabela pivô)\n",
    "vendas_pivot = vendas_regiao_categoria.unstack()\n",
    "\n",
    "print(\"Tabela pivô de vendas por região e categoria:\")\n",
    "vendas_pivot"
   ]
  },
  {
   "cell_type": "markdown",
   "id": "a2b64143-a0a6-4124-b67a-2464b82fbc1f",
   "metadata": {},
   "source": [
    "### 5.4 Aplicando Diferentes Agregações a Diferentes Colunas"
   ]
  },
  {
   "cell_type": "code",
   "execution_count": 66,
   "id": "d7ae0f32-a403-44db-b43a-031d12884008",
   "metadata": {},
   "outputs": [
    {
     "name": "stdout",
     "output_type": "stream",
     "text": [
      "Agregações múltiplas por categoria:\n"
     ]
    },
    {
     "data": {
      "text/html": [
       "<div>\n",
       "<style scoped>\n",
       "    .dataframe tbody tr th:only-of-type {\n",
       "        vertical-align: middle;\n",
       "    }\n",
       "\n",
       "    .dataframe tbody tr th {\n",
       "        vertical-align: top;\n",
       "    }\n",
       "\n",
       "    .dataframe thead tr th {\n",
       "        text-align: left;\n",
       "    }\n",
       "\n",
       "    .dataframe thead tr:last-of-type th {\n",
       "        text-align: right;\n",
       "    }\n",
       "</style>\n",
       "<table border=\"1\" class=\"dataframe\">\n",
       "  <thead>\n",
       "    <tr>\n",
       "      <th></th>\n",
       "      <th colspan=\"2\" halign=\"left\">valor_venda</th>\n",
       "      <th colspan=\"2\" halign=\"left\">quantidade</th>\n",
       "      <th>avaliacao</th>\n",
       "    </tr>\n",
       "    <tr>\n",
       "      <th></th>\n",
       "      <th>sum</th>\n",
       "      <th>mean</th>\n",
       "      <th>sum</th>\n",
       "      <th>mean</th>\n",
       "      <th>mean</th>\n",
       "    </tr>\n",
       "    <tr>\n",
       "      <th>categoria</th>\n",
       "      <th></th>\n",
       "      <th></th>\n",
       "      <th></th>\n",
       "      <th></th>\n",
       "      <th></th>\n",
       "    </tr>\n",
       "  </thead>\n",
       "  <tbody>\n",
       "    <tr>\n",
       "      <th>Alimentos</th>\n",
       "      <td>545226.11</td>\n",
       "      <td>2571.821274</td>\n",
       "      <td>1082</td>\n",
       "      <td>5.103774</td>\n",
       "      <td>2.990566</td>\n",
       "    </tr>\n",
       "    <tr>\n",
       "      <th>Beleza</th>\n",
       "      <td>483338.62</td>\n",
       "      <td>2312.624976</td>\n",
       "      <td>1018</td>\n",
       "      <td>4.870813</td>\n",
       "      <td>3.062201</td>\n",
       "    </tr>\n",
       "    <tr>\n",
       "      <th>Casa</th>\n",
       "      <td>475942.65</td>\n",
       "      <td>2531.609840</td>\n",
       "      <td>942</td>\n",
       "      <td>5.010638</td>\n",
       "      <td>3.053191</td>\n",
       "    </tr>\n",
       "    <tr>\n",
       "      <th>Eletrônicos</th>\n",
       "      <td>459995.70</td>\n",
       "      <td>2408.354450</td>\n",
       "      <td>985</td>\n",
       "      <td>5.157068</td>\n",
       "      <td>3.162304</td>\n",
       "    </tr>\n",
       "    <tr>\n",
       "      <th>Roupas</th>\n",
       "      <td>472110.61</td>\n",
       "      <td>2360.553050</td>\n",
       "      <td>997</td>\n",
       "      <td>4.985000</td>\n",
       "      <td>3.065000</td>\n",
       "    </tr>\n",
       "  </tbody>\n",
       "</table>\n",
       "</div>"
      ],
      "text/plain": [
       "            valor_venda              quantidade           avaliacao\n",
       "                    sum         mean        sum      mean      mean\n",
       "categoria                                                          \n",
       "Alimentos     545226.11  2571.821274       1082  5.103774  2.990566\n",
       "Beleza        483338.62  2312.624976       1018  4.870813  3.062201\n",
       "Casa          475942.65  2531.609840        942  5.010638  3.053191\n",
       "Eletrônicos   459995.70  2408.354450        985  5.157068  3.162304\n",
       "Roupas        472110.61  2360.553050        997  4.985000  3.065000"
      ]
     },
     "execution_count": 66,
     "metadata": {},
     "output_type": "execute_result"
    }
   ],
   "source": [
    "# Aplicando diferentes funções a diferentes colunas\n",
    "agg_multiplas_colunas = df_vendas.groupby('categoria').agg({\n",
    "    'valor_venda': ['sum', 'mean'],\n",
    "    'quantidade': ['sum', 'mean'],\n",
    "    'avaliacao': 'mean'\n",
    "})\n",
    "\n",
    "print(\"Agregações múltiplas por categoria:\")\n",
    "agg_multiplas_colunas"
   ]
  },
  {
   "cell_type": "code",
   "execution_count": 67,
   "id": "38206f93-22b3-4cd0-bc7f-1404f738cb26",
   "metadata": {},
   "outputs": [
    {
     "name": "stdout",
     "output_type": "stream",
     "text": [
      "Com colunas renomeadas:\n"
     ]
    },
    {
     "data": {
      "text/html": [
       "<div>\n",
       "<style scoped>\n",
       "    .dataframe tbody tr th:only-of-type {\n",
       "        vertical-align: middle;\n",
       "    }\n",
       "\n",
       "    .dataframe tbody tr th {\n",
       "        vertical-align: top;\n",
       "    }\n",
       "\n",
       "    .dataframe thead th {\n",
       "        text-align: right;\n",
       "    }\n",
       "</style>\n",
       "<table border=\"1\" class=\"dataframe\">\n",
       "  <thead>\n",
       "    <tr style=\"text-align: right;\">\n",
       "      <th></th>\n",
       "      <th>Valor Total</th>\n",
       "      <th>Valor Médio</th>\n",
       "      <th>Quantidade Total</th>\n",
       "      <th>Quantidade Média</th>\n",
       "      <th>Avaliação Média</th>\n",
       "    </tr>\n",
       "    <tr>\n",
       "      <th>categoria</th>\n",
       "      <th></th>\n",
       "      <th></th>\n",
       "      <th></th>\n",
       "      <th></th>\n",
       "      <th></th>\n",
       "    </tr>\n",
       "  </thead>\n",
       "  <tbody>\n",
       "    <tr>\n",
       "      <th>Alimentos</th>\n",
       "      <td>545226.11</td>\n",
       "      <td>2571.821274</td>\n",
       "      <td>1082</td>\n",
       "      <td>5.103774</td>\n",
       "      <td>2.990566</td>\n",
       "    </tr>\n",
       "    <tr>\n",
       "      <th>Beleza</th>\n",
       "      <td>483338.62</td>\n",
       "      <td>2312.624976</td>\n",
       "      <td>1018</td>\n",
       "      <td>4.870813</td>\n",
       "      <td>3.062201</td>\n",
       "    </tr>\n",
       "    <tr>\n",
       "      <th>Casa</th>\n",
       "      <td>475942.65</td>\n",
       "      <td>2531.609840</td>\n",
       "      <td>942</td>\n",
       "      <td>5.010638</td>\n",
       "      <td>3.053191</td>\n",
       "    </tr>\n",
       "    <tr>\n",
       "      <th>Eletrônicos</th>\n",
       "      <td>459995.70</td>\n",
       "      <td>2408.354450</td>\n",
       "      <td>985</td>\n",
       "      <td>5.157068</td>\n",
       "      <td>3.162304</td>\n",
       "    </tr>\n",
       "    <tr>\n",
       "      <th>Roupas</th>\n",
       "      <td>472110.61</td>\n",
       "      <td>2360.553050</td>\n",
       "      <td>997</td>\n",
       "      <td>4.985000</td>\n",
       "      <td>3.065000</td>\n",
       "    </tr>\n",
       "  </tbody>\n",
       "</table>\n",
       "</div>"
      ],
      "text/plain": [
       "             Valor Total  Valor Médio  Quantidade Total  Quantidade Média  \\\n",
       "categoria                                                                   \n",
       "Alimentos      545226.11  2571.821274              1082          5.103774   \n",
       "Beleza         483338.62  2312.624976              1018          4.870813   \n",
       "Casa           475942.65  2531.609840               942          5.010638   \n",
       "Eletrônicos    459995.70  2408.354450               985          5.157068   \n",
       "Roupas         472110.61  2360.553050               997          4.985000   \n",
       "\n",
       "             Avaliação Média  \n",
       "categoria                     \n",
       "Alimentos           2.990566  \n",
       "Beleza              3.062201  \n",
       "Casa                3.053191  \n",
       "Eletrônicos         3.162304  \n",
       "Roupas              3.065000  "
      ]
     },
     "execution_count": 67,
     "metadata": {},
     "output_type": "execute_result"
    }
   ],
   "source": [
    "# Achatando os níveis de índice das colunas para facilitar o acesso\n",
    "agg_multiplas_colunas.columns = ['Valor Total', 'Valor Médio', 'Quantidade Total', 'Quantidade Média', 'Avaliação Média']\n",
    "\n",
    "print(\"Com colunas renomeadas:\")\n",
    "agg_multiplas_colunas"
   ]
  },
  {
   "cell_type": "markdown",
   "id": "48b0b134-bea1-4649-9695-e010aee9602a",
   "metadata": {},
   "source": [
    "#### Exercício 5: Agrupamento com GroupBy\n",
    "Agora, pratique o uso do GroupBy com os seguintes exercícios:"
   ]
  },
  {
   "cell_type": "markdown",
   "id": "44ea9f5d-8f8c-440e-a21c-206f0221ca38",
   "metadata": {},
   "source": [
    "##### 5.1 Agrupe os dados por 'canal_venda' e calcule o valor total de vendas para cada canal"
   ]
  },
  {
   "cell_type": "code",
   "execution_count": 68,
   "id": "22811861-df15-4982-a502-68908461dd94",
   "metadata": {},
   "outputs": [
    {
     "name": "stdout",
     "output_type": "stream",
     "text": [
      "Valor total de vendas para cada canal:\n"
     ]
    },
    {
     "data": {
      "text/plain": [
       "canal_venda\n",
       "Aplicativo     587434.24\n",
       "Loja Física    636968.20\n",
       "Online         627071.02\n",
       "Telefone       585140.23\n",
       "Name: valor_venda, dtype: float64"
      ]
     },
     "execution_count": 68,
     "metadata": {},
     "output_type": "execute_result"
    }
   ],
   "source": [
    "# SEU CÓDIGO AQUI\n",
    "valor_total = df_vendas.groupby('canal_venda')['valor_venda'].sum()\n",
    "\n",
    "print(\"Valor total de vendas para cada canal:\")\n",
    "valor_total"
   ]
  },
  {
   "cell_type": "markdown",
   "id": "177bdfaf-73c9-498a-a6ac-bfaca8e936c2",
   "metadata": {},
   "source": [
    "##### 5.2 Agrupe por 'estado' e calcule a quantidade média de itens vendidos por estado"
   ]
  },
  {
   "cell_type": "code",
   "execution_count": 69,
   "id": "831905fa-bb6a-43d8-9196-3644dcf47efd",
   "metadata": {},
   "outputs": [
    {
     "name": "stdout",
     "output_type": "stream",
     "text": [
      "Valor médio de itens vendidos por estado: \n"
     ]
    },
    {
     "data": {
      "text/plain": [
       "estado\n",
       "AC    2363.205161\n",
       "AM    2060.922895\n",
       "BA    2740.685778\n",
       "CE    2743.043182\n",
       "DF    2348.196111\n",
       "ES    2661.552549\n",
       "GO    2498.400185\n",
       "MA    2630.381667\n",
       "MG    2472.661860\n",
       "MS    1630.810000\n",
       "MT    2414.025128\n",
       "PA    2626.401628\n",
       "PB    2261.612826\n",
       "PE    2665.210000\n",
       "PR    2323.401757\n",
       "RJ    2334.670517\n",
       "RO    2399.777561\n",
       "RR    2103.404894\n",
       "RS    2470.689041\n",
       "SC    2566.454286\n",
       "SP    2618.062045\n",
       "Name: valor_venda, dtype: float64"
      ]
     },
     "execution_count": 69,
     "metadata": {},
     "output_type": "execute_result"
    }
   ],
   "source": [
    "# SEU CÓDIGO AQUI\n",
    "media_por_estado = df_vendas.groupby('estado')['valor_venda'].mean()\n",
    "\n",
    "print(\"Valor médio de itens vendidos por estado: \")\n",
    "media_por_estado"
   ]
  },
  {
   "cell_type": "markdown",
   "id": "380e259b-51fc-4f2e-976f-2ca7635bb307",
   "metadata": {},
   "source": [
    "##### 5.3 Agrupe por 'categoria' e calcule a avaliação média para cada categoria de produto"
   ]
  },
  {
   "cell_type": "code",
   "execution_count": 70,
   "id": "92360056-7ed3-4bff-8599-b475e214c1d0",
   "metadata": {},
   "outputs": [
    {
     "name": "stdout",
     "output_type": "stream",
     "text": [
      "Avaliação média para cada categoria de produto: \n"
     ]
    },
    {
     "data": {
      "text/plain": [
       "categoria\n",
       "Alimentos      2.990566\n",
       "Beleza         3.062201\n",
       "Casa           3.053191\n",
       "Eletrônicos    3.162304\n",
       "Roupas         3.065000\n",
       "Name: avaliacao, dtype: float64"
      ]
     },
     "execution_count": 70,
     "metadata": {},
     "output_type": "execute_result"
    }
   ],
   "source": [
    "# SEU CÓDIGO AQUI\n",
    "media_por_categoria = df_vendas.groupby('categoria')['avaliacao'].mean()\n",
    "\n",
    "print(\"Avaliação média para cada categoria de produto: \")\n",
    "media_por_categoria"
   ]
  },
  {
   "cell_type": "markdown",
   "id": "8a8e2e63-f732-4588-8b0a-3d3125b5cb00",
   "metadata": {},
   "source": [
    "##### 5.4 Agrupe por 'regiao' e 'canal_venda' e calcule o total de vendas para cada combinação"
   ]
  },
  {
   "cell_type": "code",
   "execution_count": 71,
   "id": "b98593a1-1977-43bb-a590-14c5f458b289",
   "metadata": {},
   "outputs": [
    {
     "name": "stdout",
     "output_type": "stream",
     "text": [
      "Total de vendas para cada combinação: \n"
     ]
    },
    {
     "data": {
      "text/plain": [
       "regiao        canal_venda\n",
       "Centro-Oeste  Aplicativo     114421.65\n",
       "              Loja Física    105426.70\n",
       "              Online         107763.59\n",
       "              Telefone        78806.35\n",
       "Nordeste      Aplicativo     159391.96\n",
       "              Loja Física    155485.78\n",
       "              Online         130857.25\n",
       "              Telefone        98086.71\n",
       "Norte         Aplicativo      98152.59\n",
       "              Loja Física    107881.93\n",
       "              Online         122469.64\n",
       "              Telefone       133256.45\n",
       "Sudeste       Aplicativo     105115.91\n",
       "              Loja Física    134630.37\n",
       "              Online         120598.66\n",
       "              Telefone       132324.32\n",
       "Sul           Aplicativo     110352.13\n",
       "              Loja Física    133543.42\n",
       "              Online         145381.88\n",
       "              Telefone       142666.40\n",
       "Name: valor_venda, dtype: float64"
      ]
     },
     "execution_count": 71,
     "metadata": {},
     "output_type": "execute_result"
    }
   ],
   "source": [
    "# SEU CÓDIGO AQUI\n",
    "total_vendas = df_vendas.groupby(['regiao', 'canal_venda'])['valor_venda'].sum()\n",
    "\n",
    "print(\"Total de vendas para cada combinação: \")\n",
    "total_vendas"
   ]
  },
  {
   "cell_type": "markdown",
   "id": "97a2b8b2-e26c-4bd5-b7ed-6c23c4951b75",
   "metadata": {},
   "source": [
    "##### 5.5 Aplique múltiplas agregações (count, sum, mean) à coluna 'valor_venda' após agrupar por 'produto'"
   ]
  },
  {
   "cell_type": "code",
   "execution_count": 72,
   "id": "62470d4f-752e-47a2-895b-fbf98bf410e0",
   "metadata": {},
   "outputs": [
    {
     "name": "stdout",
     "output_type": "stream",
     "text": [
      "Estatísticas completas por produto: \n"
     ]
    },
    {
     "data": {
      "text/html": [
       "<div>\n",
       "<style scoped>\n",
       "    .dataframe tbody tr th:only-of-type {\n",
       "        vertical-align: middle;\n",
       "    }\n",
       "\n",
       "    .dataframe tbody tr th {\n",
       "        vertical-align: top;\n",
       "    }\n",
       "\n",
       "    .dataframe thead th {\n",
       "        text-align: right;\n",
       "    }\n",
       "</style>\n",
       "<table border=\"1\" class=\"dataframe\">\n",
       "  <thead>\n",
       "    <tr style=\"text-align: right;\">\n",
       "      <th></th>\n",
       "      <th>count</th>\n",
       "      <th>sum</th>\n",
       "      <th>mean</th>\n",
       "    </tr>\n",
       "    <tr>\n",
       "      <th>produto</th>\n",
       "      <th></th>\n",
       "      <th></th>\n",
       "      <th></th>\n",
       "    </tr>\n",
       "  </thead>\n",
       "  <tbody>\n",
       "    <tr>\n",
       "      <th>Armário</th>\n",
       "      <td>44</td>\n",
       "      <td>110007.06</td>\n",
       "      <td>2500.160455</td>\n",
       "    </tr>\n",
       "    <tr>\n",
       "      <th>Arroz</th>\n",
       "      <td>46</td>\n",
       "      <td>105117.57</td>\n",
       "      <td>2285.164565</td>\n",
       "    </tr>\n",
       "    <tr>\n",
       "      <th>Açúcar</th>\n",
       "      <td>40</td>\n",
       "      <td>99462.01</td>\n",
       "      <td>2486.550250</td>\n",
       "    </tr>\n",
       "    <tr>\n",
       "      <th>Cadeira</th>\n",
       "      <td>40</td>\n",
       "      <td>103709.83</td>\n",
       "      <td>2592.745750</td>\n",
       "    </tr>\n",
       "    <tr>\n",
       "      <th>Café</th>\n",
       "      <td>52</td>\n",
       "      <td>145339.55</td>\n",
       "      <td>2794.991346</td>\n",
       "    </tr>\n",
       "    <tr>\n",
       "      <th>Calça</th>\n",
       "      <td>43</td>\n",
       "      <td>100482.06</td>\n",
       "      <td>2336.792093</td>\n",
       "    </tr>\n",
       "    <tr>\n",
       "      <th>Cama</th>\n",
       "      <td>33</td>\n",
       "      <td>76526.43</td>\n",
       "      <td>2318.982727</td>\n",
       "    </tr>\n",
       "    <tr>\n",
       "      <th>Camiseta</th>\n",
       "      <td>33</td>\n",
       "      <td>69252.09</td>\n",
       "      <td>2098.548182</td>\n",
       "    </tr>\n",
       "    <tr>\n",
       "      <th>Condicionador</th>\n",
       "      <td>46</td>\n",
       "      <td>99769.92</td>\n",
       "      <td>2168.911304</td>\n",
       "    </tr>\n",
       "    <tr>\n",
       "      <th>Feijão</th>\n",
       "      <td>27</td>\n",
       "      <td>64588.62</td>\n",
       "      <td>2392.171111</td>\n",
       "    </tr>\n",
       "    <tr>\n",
       "      <th>Fones de ouvido</th>\n",
       "      <td>41</td>\n",
       "      <td>115608.41</td>\n",
       "      <td>2819.717317</td>\n",
       "    </tr>\n",
       "    <tr>\n",
       "      <th>Hidratante</th>\n",
       "      <td>42</td>\n",
       "      <td>99850.41</td>\n",
       "      <td>2377.390714</td>\n",
       "    </tr>\n",
       "    <tr>\n",
       "      <th>Jaqueta</th>\n",
       "      <td>34</td>\n",
       "      <td>80279.44</td>\n",
       "      <td>2361.160000</td>\n",
       "    </tr>\n",
       "    <tr>\n",
       "      <th>Laptop</th>\n",
       "      <td>40</td>\n",
       "      <td>98114.14</td>\n",
       "      <td>2452.853500</td>\n",
       "    </tr>\n",
       "    <tr>\n",
       "      <th>Mesa</th>\n",
       "      <td>42</td>\n",
       "      <td>106928.37</td>\n",
       "      <td>2545.913571</td>\n",
       "    </tr>\n",
       "    <tr>\n",
       "      <th>Perfume</th>\n",
       "      <td>39</td>\n",
       "      <td>90570.58</td>\n",
       "      <td>2322.322564</td>\n",
       "    </tr>\n",
       "    <tr>\n",
       "      <th>Sabonete</th>\n",
       "      <td>38</td>\n",
       "      <td>79819.67</td>\n",
       "      <td>2100.517632</td>\n",
       "    </tr>\n",
       "    <tr>\n",
       "      <th>Sapato</th>\n",
       "      <td>38</td>\n",
       "      <td>92853.74</td>\n",
       "      <td>2443.519474</td>\n",
       "    </tr>\n",
       "    <tr>\n",
       "      <th>Shampoo</th>\n",
       "      <td>44</td>\n",
       "      <td>113328.04</td>\n",
       "      <td>2575.637273</td>\n",
       "    </tr>\n",
       "    <tr>\n",
       "      <th>Smart TV</th>\n",
       "      <td>37</td>\n",
       "      <td>82359.28</td>\n",
       "      <td>2225.926486</td>\n",
       "    </tr>\n",
       "    <tr>\n",
       "      <th>Smartphone</th>\n",
       "      <td>36</td>\n",
       "      <td>88931.70</td>\n",
       "      <td>2470.325000</td>\n",
       "    </tr>\n",
       "    <tr>\n",
       "      <th>Sofá</th>\n",
       "      <td>29</td>\n",
       "      <td>78770.96</td>\n",
       "      <td>2716.240000</td>\n",
       "    </tr>\n",
       "    <tr>\n",
       "      <th>Tablet</th>\n",
       "      <td>37</td>\n",
       "      <td>74982.17</td>\n",
       "      <td>2026.545135</td>\n",
       "    </tr>\n",
       "    <tr>\n",
       "      <th>Vestido</th>\n",
       "      <td>52</td>\n",
       "      <td>129243.28</td>\n",
       "      <td>2485.447692</td>\n",
       "    </tr>\n",
       "    <tr>\n",
       "      <th>Óleo</th>\n",
       "      <td>47</td>\n",
       "      <td>130718.36</td>\n",
       "      <td>2781.241702</td>\n",
       "    </tr>\n",
       "  </tbody>\n",
       "</table>\n",
       "</div>"
      ],
      "text/plain": [
       "                 count        sum         mean\n",
       "produto                                       \n",
       "Armário             44  110007.06  2500.160455\n",
       "Arroz               46  105117.57  2285.164565\n",
       "Açúcar              40   99462.01  2486.550250\n",
       "Cadeira             40  103709.83  2592.745750\n",
       "Café                52  145339.55  2794.991346\n",
       "Calça               43  100482.06  2336.792093\n",
       "Cama                33   76526.43  2318.982727\n",
       "Camiseta            33   69252.09  2098.548182\n",
       "Condicionador       46   99769.92  2168.911304\n",
       "Feijão              27   64588.62  2392.171111\n",
       "Fones de ouvido     41  115608.41  2819.717317\n",
       "Hidratante          42   99850.41  2377.390714\n",
       "Jaqueta             34   80279.44  2361.160000\n",
       "Laptop              40   98114.14  2452.853500\n",
       "Mesa                42  106928.37  2545.913571\n",
       "Perfume             39   90570.58  2322.322564\n",
       "Sabonete            38   79819.67  2100.517632\n",
       "Sapato              38   92853.74  2443.519474\n",
       "Shampoo             44  113328.04  2575.637273\n",
       "Smart TV            37   82359.28  2225.926486\n",
       "Smartphone          36   88931.70  2470.325000\n",
       "Sofá                29   78770.96  2716.240000\n",
       "Tablet              37   74982.17  2026.545135\n",
       "Vestido             52  129243.28  2485.447692\n",
       "Óleo                47  130718.36  2781.241702"
      ]
     },
     "execution_count": 72,
     "metadata": {},
     "output_type": "execute_result"
    }
   ],
   "source": [
    "# SEU CÓDIGO AQUI\n",
    "stats_por_valor = df_vendas.groupby('produto')['valor_venda'].agg(['count', 'sum', 'mean'])\n",
    "\n",
    "print(\"Estatísticas completas por produto: \")\n",
    "stats_por_valor"
   ]
  },
  {
   "cell_type": "markdown",
   "id": "193c3712-4af0-4d9a-85b9-4ccf210f662e",
   "metadata": {},
   "source": [
    "---"
   ]
  },
  {
   "cell_type": "markdown",
   "id": "72ef1877-c598-42a3-9de9-20e4fa0e3b06",
   "metadata": {},
   "source": [
    "## 6. Manipulação de Dados e Criação de Colunas\n",
    "\n",
    "### 6.1 Manipulando Tipos de Dados"
   ]
  },
  {
   "cell_type": "code",
   "execution_count": 73,
   "id": "6e506605-d708-4f78-bf1f-2f69323008c4",
   "metadata": {},
   "outputs": [
    {
     "name": "stdout",
     "output_type": "stream",
     "text": [
      "Tipo de dado da coluna 'data': object\n"
     ]
    }
   ],
   "source": [
    "# Verificando o tipo de dado da coluna 'data'\n",
    "print(f\"Tipo de dado da coluna 'data': {df_vendas['data'].dtype}\")"
   ]
  },
  {
   "cell_type": "code",
   "execution_count": 74,
   "id": "a8ed8ff7-e03e-47bd-8a66-369e9dc8903a",
   "metadata": {},
   "outputs": [
    {
     "name": "stdout",
     "output_type": "stream",
     "text": [
      "Novo tipo de dado da coluna 'data': datetime64[ns]\n"
     ]
    }
   ],
   "source": [
    "# Convertendo a coluna 'data' para datetime\n",
    "df_vendas['data'] = pd.to_datetime(df_vendas['data'])\n",
    "print(f\"Novo tipo de dado da coluna 'data': {df_vendas['data'].dtype}\")"
   ]
  },
  {
   "cell_type": "code",
   "execution_count": 75,
   "id": "a70da34f-f35b-467e-8cf4-8058c872aa51",
   "metadata": {},
   "outputs": [
    {
     "name": "stdout",
     "output_type": "stream",
     "text": [
      "Primeiras linhas com as novas colunas de data:\n"
     ]
    },
    {
     "data": {
      "text/html": [
       "<div>\n",
       "<style scoped>\n",
       "    .dataframe tbody tr th:only-of-type {\n",
       "        vertical-align: middle;\n",
       "    }\n",
       "\n",
       "    .dataframe tbody tr th {\n",
       "        vertical-align: top;\n",
       "    }\n",
       "\n",
       "    .dataframe thead th {\n",
       "        text-align: right;\n",
       "    }\n",
       "</style>\n",
       "<table border=\"1\" class=\"dataframe\">\n",
       "  <thead>\n",
       "    <tr style=\"text-align: right;\">\n",
       "      <th></th>\n",
       "      <th>data</th>\n",
       "      <th>ano</th>\n",
       "      <th>mes</th>\n",
       "      <th>dia</th>\n",
       "      <th>dia_semana</th>\n",
       "    </tr>\n",
       "  </thead>\n",
       "  <tbody>\n",
       "    <tr>\n",
       "      <th>0</th>\n",
       "      <td>2023-04-13</td>\n",
       "      <td>2023</td>\n",
       "      <td>4</td>\n",
       "      <td>13</td>\n",
       "      <td>Thursday</td>\n",
       "    </tr>\n",
       "    <tr>\n",
       "      <th>1</th>\n",
       "      <td>2023-03-29</td>\n",
       "      <td>2023</td>\n",
       "      <td>3</td>\n",
       "      <td>29</td>\n",
       "      <td>Wednesday</td>\n",
       "    </tr>\n",
       "    <tr>\n",
       "      <th>2</th>\n",
       "      <td>2023-07-11</td>\n",
       "      <td>2023</td>\n",
       "      <td>7</td>\n",
       "      <td>11</td>\n",
       "      <td>Tuesday</td>\n",
       "    </tr>\n",
       "    <tr>\n",
       "      <th>3</th>\n",
       "      <td>2023-02-28</td>\n",
       "      <td>2023</td>\n",
       "      <td>2</td>\n",
       "      <td>28</td>\n",
       "      <td>Tuesday</td>\n",
       "    </tr>\n",
       "    <tr>\n",
       "      <th>4</th>\n",
       "      <td>2023-02-24</td>\n",
       "      <td>2023</td>\n",
       "      <td>2</td>\n",
       "      <td>24</td>\n",
       "      <td>Friday</td>\n",
       "    </tr>\n",
       "  </tbody>\n",
       "</table>\n",
       "</div>"
      ],
      "text/plain": [
       "        data   ano  mes  dia dia_semana\n",
       "0 2023-04-13  2023    4   13   Thursday\n",
       "1 2023-03-29  2023    3   29  Wednesday\n",
       "2 2023-07-11  2023    7   11    Tuesday\n",
       "3 2023-02-28  2023    2   28    Tuesday\n",
       "4 2023-02-24  2023    2   24     Friday"
      ]
     },
     "execution_count": 75,
     "metadata": {},
     "output_type": "execute_result"
    }
   ],
   "source": [
    "# Extraindo componentes da data\n",
    "df_vendas['ano'] = df_vendas['data'].dt.year\n",
    "df_vendas['mes'] = df_vendas['data'].dt.month\n",
    "df_vendas['dia'] = df_vendas['data'].dt.day\n",
    "df_vendas['dia_semana'] = df_vendas['data'].dt.day_name()\n",
    "\n",
    "# Visualizando as novas colunas\n",
    "print(\"Primeiras linhas com as novas colunas de data:\")\n",
    "df_vendas[['data', 'ano', 'mes', 'dia', 'dia_semana']].head()"
   ]
  },
  {
   "cell_type": "markdown",
   "id": "558fc1b9-9b3a-4111-a467-5c708aae344a",
   "metadata": {},
   "source": [
    "### 6.2 Criando Novas Colunas com Operações Aritméticas"
   ]
  },
  {
   "cell_type": "code",
   "execution_count": 76,
   "id": "c3085c87-d833-4a5f-8f46-0415a6ab1aab",
   "metadata": {},
   "outputs": [
    {
     "name": "stdout",
     "output_type": "stream",
     "text": [
      "Primeiras linhas com as novas colunas calculadas:\n"
     ]
    },
    {
     "data": {
      "text/html": [
       "<div>\n",
       "<style scoped>\n",
       "    .dataframe tbody tr th:only-of-type {\n",
       "        vertical-align: middle;\n",
       "    }\n",
       "\n",
       "    .dataframe tbody tr th {\n",
       "        vertical-align: top;\n",
       "    }\n",
       "\n",
       "    .dataframe thead th {\n",
       "        text-align: right;\n",
       "    }\n",
       "</style>\n",
       "<table border=\"1\" class=\"dataframe\">\n",
       "  <thead>\n",
       "    <tr style=\"text-align: right;\">\n",
       "      <th></th>\n",
       "      <th>valor_venda</th>\n",
       "      <th>quantidade</th>\n",
       "      <th>valor_total</th>\n",
       "      <th>desconto</th>\n",
       "      <th>valor_com_desconto</th>\n",
       "    </tr>\n",
       "  </thead>\n",
       "  <tbody>\n",
       "    <tr>\n",
       "      <th>0</th>\n",
       "      <td>2988.28</td>\n",
       "      <td>3</td>\n",
       "      <td>8964.84</td>\n",
       "      <td>298.828</td>\n",
       "      <td>2689.452</td>\n",
       "    </tr>\n",
       "    <tr>\n",
       "      <th>1</th>\n",
       "      <td>4849.85</td>\n",
       "      <td>6</td>\n",
       "      <td>29099.10</td>\n",
       "      <td>484.985</td>\n",
       "      <td>4364.865</td>\n",
       "    </tr>\n",
       "    <tr>\n",
       "      <th>2</th>\n",
       "      <td>2628.53</td>\n",
       "      <td>9</td>\n",
       "      <td>23656.77</td>\n",
       "      <td>262.853</td>\n",
       "      <td>2365.677</td>\n",
       "    </tr>\n",
       "    <tr>\n",
       "      <th>3</th>\n",
       "      <td>2285.79</td>\n",
       "      <td>3</td>\n",
       "      <td>6857.37</td>\n",
       "      <td>228.579</td>\n",
       "      <td>2057.211</td>\n",
       "    </tr>\n",
       "    <tr>\n",
       "      <th>4</th>\n",
       "      <td>3404.73</td>\n",
       "      <td>9</td>\n",
       "      <td>30642.57</td>\n",
       "      <td>340.473</td>\n",
       "      <td>3064.257</td>\n",
       "    </tr>\n",
       "  </tbody>\n",
       "</table>\n",
       "</div>"
      ],
      "text/plain": [
       "   valor_venda  quantidade  valor_total  desconto  valor_com_desconto\n",
       "0      2988.28           3      8964.84   298.828            2689.452\n",
       "1      4849.85           6     29099.10   484.985            4364.865\n",
       "2      2628.53           9     23656.77   262.853            2365.677\n",
       "3      2285.79           3      6857.37   228.579            2057.211\n",
       "4      3404.73           9     30642.57   340.473            3064.257"
      ]
     },
     "execution_count": 76,
     "metadata": {},
     "output_type": "execute_result"
    }
   ],
   "source": [
    "# Criando uma coluna de valor total (valor_venda * quantidade)\n",
    "df_vendas['valor_total'] = df_vendas['valor_venda'] * df_vendas['quantidade']\n",
    "\n",
    "# Criando uma coluna de desconto (10% do valor_venda)\n",
    "df_vendas['desconto'] = df_vendas['valor_venda'] * 0.1\n",
    "\n",
    "# Criando uma coluna de valor com desconto\n",
    "df_vendas['valor_com_desconto'] = df_vendas['valor_venda'] - df_vendas['desconto']\n",
    "\n",
    "# Visualizando as novas colunas\n",
    "print(\"Primeiras linhas com as novas colunas calculadas:\")\n",
    "df_vendas[['valor_venda', 'quantidade', 'valor_total', 'desconto', 'valor_com_desconto']].head()"
   ]
  },
  {
   "cell_type": "markdown",
   "id": "4bb2267f-db00-477d-ae0c-685c86ea4f32",
   "metadata": {},
   "source": [
    "### 6.3 Criando Colunas Categóricas com apply() e funções personalizadas"
   ]
  },
  {
   "cell_type": "code",
   "execution_count": 77,
   "id": "38b97fbf-5239-437b-aff4-f7b56f73c708",
   "metadata": {},
   "outputs": [
    {
     "data": {
      "text/html": [
       "<div>\n",
       "<style scoped>\n",
       "    .dataframe tbody tr th:only-of-type {\n",
       "        vertical-align: middle;\n",
       "    }\n",
       "\n",
       "    .dataframe tbody tr th {\n",
       "        vertical-align: top;\n",
       "    }\n",
       "\n",
       "    .dataframe thead th {\n",
       "        text-align: right;\n",
       "    }\n",
       "</style>\n",
       "<table border=\"1\" class=\"dataframe\">\n",
       "  <thead>\n",
       "    <tr style=\"text-align: right;\">\n",
       "      <th></th>\n",
       "      <th>valor_venda</th>\n",
       "      <th>faixa_preco</th>\n",
       "    </tr>\n",
       "  </thead>\n",
       "  <tbody>\n",
       "    <tr>\n",
       "      <th>0</th>\n",
       "      <td>2988.28</td>\n",
       "      <td>Alto</td>\n",
       "    </tr>\n",
       "    <tr>\n",
       "      <th>1</th>\n",
       "      <td>4849.85</td>\n",
       "      <td>Alto</td>\n",
       "    </tr>\n",
       "    <tr>\n",
       "      <th>2</th>\n",
       "      <td>2628.53</td>\n",
       "      <td>Alto</td>\n",
       "    </tr>\n",
       "    <tr>\n",
       "      <th>3</th>\n",
       "      <td>2285.79</td>\n",
       "      <td>Alto</td>\n",
       "    </tr>\n",
       "    <tr>\n",
       "      <th>4</th>\n",
       "      <td>3404.73</td>\n",
       "      <td>Alto</td>\n",
       "    </tr>\n",
       "  </tbody>\n",
       "</table>\n",
       "</div>"
      ],
      "text/plain": [
       "   valor_venda faixa_preco\n",
       "0      2988.28        Alto\n",
       "1      4849.85        Alto\n",
       "2      2628.53        Alto\n",
       "3      2285.79        Alto\n",
       "4      3404.73        Alto"
      ]
     },
     "execution_count": 77,
     "metadata": {},
     "output_type": "execute_result"
    }
   ],
   "source": [
    "# Definindo uma função para categorizar o valor da venda\n",
    "def categorizar_valor(valor):\n",
    "    if valor < 100:\n",
    "        return 'Baixo'\n",
    "    elif valor < 1000:\n",
    "        return 'Médio'\n",
    "    else:\n",
    "        return 'Alto'\n",
    "\n",
    "# Aplicando a função à coluna 'valor_venda' para criar a coluna 'faixa_preco'\n",
    "df_vendas['faixa_preco'] = df_vendas['valor_venda'].apply(categorizar_valor)\n",
    "df_vendas[['valor_venda', 'faixa_preco']].head()"
   ]
  },
  {
   "cell_type": "code",
   "execution_count": 78,
   "id": "b5145769-5610-49e7-a8df-c995e59d1fcd",
   "metadata": {},
   "outputs": [
    {
     "data": {
      "text/html": [
       "<div>\n",
       "<style scoped>\n",
       "    .dataframe tbody tr th:only-of-type {\n",
       "        vertical-align: middle;\n",
       "    }\n",
       "\n",
       "    .dataframe tbody tr th {\n",
       "        vertical-align: top;\n",
       "    }\n",
       "\n",
       "    .dataframe thead th {\n",
       "        text-align: right;\n",
       "    }\n",
       "</style>\n",
       "<table border=\"1\" class=\"dataframe\">\n",
       "  <thead>\n",
       "    <tr style=\"text-align: right;\">\n",
       "      <th></th>\n",
       "      <th>quantidade</th>\n",
       "      <th>tamanho_pedido</th>\n",
       "    </tr>\n",
       "  </thead>\n",
       "  <tbody>\n",
       "    <tr>\n",
       "      <th>0</th>\n",
       "      <td>3</td>\n",
       "      <td>Médio</td>\n",
       "    </tr>\n",
       "    <tr>\n",
       "      <th>1</th>\n",
       "      <td>6</td>\n",
       "      <td>Grande</td>\n",
       "    </tr>\n",
       "    <tr>\n",
       "      <th>2</th>\n",
       "      <td>9</td>\n",
       "      <td>Grande</td>\n",
       "    </tr>\n",
       "    <tr>\n",
       "      <th>3</th>\n",
       "      <td>3</td>\n",
       "      <td>Médio</td>\n",
       "    </tr>\n",
       "    <tr>\n",
       "      <th>4</th>\n",
       "      <td>9</td>\n",
       "      <td>Grande</td>\n",
       "    </tr>\n",
       "  </tbody>\n",
       "</table>\n",
       "</div>"
      ],
      "text/plain": [
       "   quantidade tamanho_pedido\n",
       "0           3          Médio\n",
       "1           6         Grande\n",
       "2           9         Grande\n",
       "3           3          Médio\n",
       "4           9         Grande"
      ]
     },
     "execution_count": 78,
     "metadata": {},
     "output_type": "execute_result"
    }
   ],
   "source": [
    "# Definindo uma função para categorizar a quantidade\n",
    "def categorizar_quantidade(qtd):\n",
    "    if qtd <= 2:\n",
    "        return 'Pequeno'\n",
    "    elif qtd <= 5:\n",
    "        return 'Médio'\n",
    "    else:\n",
    "        return 'Grande'\n",
    "\n",
    "# Aplicando a função à coluna 'quantidade'\n",
    "df_vendas['tamanho_pedido'] = df_vendas['quantidade'].apply(categorizar_quantidade)\n",
    "df_vendas[['quantidade', 'tamanho_pedido']].head()"
   ]
  },
  {
   "cell_type": "code",
   "execution_count": 79,
   "id": "6e5103ed-bbc5-415b-915f-6fac031d34b0",
   "metadata": {},
   "outputs": [
    {
     "name": "stdout",
     "output_type": "stream",
     "text": [
      "Primeiras linhas com as novas colunas categóricas:\n"
     ]
    },
    {
     "data": {
      "text/html": [
       "<div>\n",
       "<style scoped>\n",
       "    .dataframe tbody tr th:only-of-type {\n",
       "        vertical-align: middle;\n",
       "    }\n",
       "\n",
       "    .dataframe tbody tr th {\n",
       "        vertical-align: top;\n",
       "    }\n",
       "\n",
       "    .dataframe thead th {\n",
       "        text-align: right;\n",
       "    }\n",
       "</style>\n",
       "<table border=\"1\" class=\"dataframe\">\n",
       "  <thead>\n",
       "    <tr style=\"text-align: right;\">\n",
       "      <th></th>\n",
       "      <th>valor_venda</th>\n",
       "      <th>faixa_preco</th>\n",
       "      <th>quantidade</th>\n",
       "      <th>tamanho_pedido</th>\n",
       "    </tr>\n",
       "  </thead>\n",
       "  <tbody>\n",
       "    <tr>\n",
       "      <th>0</th>\n",
       "      <td>2988.28</td>\n",
       "      <td>Alto</td>\n",
       "      <td>3</td>\n",
       "      <td>Médio</td>\n",
       "    </tr>\n",
       "    <tr>\n",
       "      <th>1</th>\n",
       "      <td>4849.85</td>\n",
       "      <td>Alto</td>\n",
       "      <td>6</td>\n",
       "      <td>Grande</td>\n",
       "    </tr>\n",
       "    <tr>\n",
       "      <th>2</th>\n",
       "      <td>2628.53</td>\n",
       "      <td>Alto</td>\n",
       "      <td>9</td>\n",
       "      <td>Grande</td>\n",
       "    </tr>\n",
       "    <tr>\n",
       "      <th>3</th>\n",
       "      <td>2285.79</td>\n",
       "      <td>Alto</td>\n",
       "      <td>3</td>\n",
       "      <td>Médio</td>\n",
       "    </tr>\n",
       "    <tr>\n",
       "      <th>4</th>\n",
       "      <td>3404.73</td>\n",
       "      <td>Alto</td>\n",
       "      <td>9</td>\n",
       "      <td>Grande</td>\n",
       "    </tr>\n",
       "  </tbody>\n",
       "</table>\n",
       "</div>"
      ],
      "text/plain": [
       "   valor_venda faixa_preco  quantidade tamanho_pedido\n",
       "0      2988.28        Alto           3          Médio\n",
       "1      4849.85        Alto           6         Grande\n",
       "2      2628.53        Alto           9         Grande\n",
       "3      2285.79        Alto           3          Médio\n",
       "4      3404.73        Alto           9         Grande"
      ]
     },
     "execution_count": 79,
     "metadata": {},
     "output_type": "execute_result"
    }
   ],
   "source": [
    "# Visualizando as novas colunas categóricas\n",
    "print(\"Primeiras linhas com as novas colunas categóricas:\")\n",
    "df_vendas[['valor_venda', 'faixa_preco', 'quantidade', 'tamanho_pedido']].head()"
   ]
  },
  {
   "cell_type": "code",
   "execution_count": 80,
   "id": "68ec92ea-fa45-4296-baff-c06af3a585f0",
   "metadata": {},
   "outputs": [
    {
     "name": "stdout",
     "output_type": "stream",
     "text": [
      "Contagem por faixa de preço:\n"
     ]
    },
    {
     "data": {
      "text/plain": [
       "faixa_preco\n",
       "Alto     785\n",
       "Médio    191\n",
       "Baixo     24\n",
       "Name: count, dtype: int64"
      ]
     },
     "execution_count": 80,
     "metadata": {},
     "output_type": "execute_result"
    }
   ],
   "source": [
    "# Verificando a contagem de cada categoria\n",
    "print(\"Contagem por faixa de preço:\")\n",
    "df_vendas['faixa_preco'].value_counts()"
   ]
  },
  {
   "cell_type": "code",
   "execution_count": 81,
   "id": "88f08c50-ae48-425e-a550-b23ed963a863",
   "metadata": {},
   "outputs": [
    {
     "name": "stdout",
     "output_type": "stream",
     "text": [
      "Contagem por tamanho de pedido:\n"
     ]
    },
    {
     "data": {
      "text/plain": [
       "tamanho_pedido\n",
       "Grande     467\n",
       "Médio      306\n",
       "Pequeno    227\n",
       "Name: count, dtype: int64"
      ]
     },
     "execution_count": 81,
     "metadata": {},
     "output_type": "execute_result"
    }
   ],
   "source": [
    "print(\"Contagem por tamanho de pedido:\")\n",
    "df_vendas['tamanho_pedido'].value_counts()"
   ]
  },
  {
   "cell_type": "markdown",
   "id": "89d21dee-850c-4337-8f29-c5506633d3be",
   "metadata": {},
   "source": [
    "#### Exercício 6: Manipulação de Dados e Criação de Colunas\n",
    "Agora, pratique a manipulação de dados e criação de colunas:"
   ]
  },
  {
   "cell_type": "markdown",
   "id": "30ea35b0-7c29-4edb-b600-c0de6a4c8b20",
   "metadata": {},
   "source": [
    "##### 6.1 Crie uma coluna 'trimestre' baseada no mês da venda (1: Jan-Mar, 2: Abr-Jun, etc.)\n",
    "Dica: você pode usar a função math.ceil(mes/3) ou uma função personalizada"
   ]
  },
  {
   "cell_type": "code",
   "execution_count": 82,
   "id": "d6368826-0f52-46dc-b75c-06cad3e407a6",
   "metadata": {},
   "outputs": [
    {
     "name": "stdout",
     "output_type": "stream",
     "text": [
      "Primeiras linhas com a nova coluna 'trimestre':\n"
     ]
    },
    {
     "data": {
      "text/html": [
       "<div>\n",
       "<style scoped>\n",
       "    .dataframe tbody tr th:only-of-type {\n",
       "        vertical-align: middle;\n",
       "    }\n",
       "\n",
       "    .dataframe tbody tr th {\n",
       "        vertical-align: top;\n",
       "    }\n",
       "\n",
       "    .dataframe thead th {\n",
       "        text-align: right;\n",
       "    }\n",
       "</style>\n",
       "<table border=\"1\" class=\"dataframe\">\n",
       "  <thead>\n",
       "    <tr style=\"text-align: right;\">\n",
       "      <th></th>\n",
       "      <th>data</th>\n",
       "      <th>trimestre</th>\n",
       "    </tr>\n",
       "  </thead>\n",
       "  <tbody>\n",
       "    <tr>\n",
       "      <th>0</th>\n",
       "      <td>2023-04-13</td>\n",
       "      <td>2</td>\n",
       "    </tr>\n",
       "    <tr>\n",
       "      <th>1</th>\n",
       "      <td>2023-03-29</td>\n",
       "      <td>1</td>\n",
       "    </tr>\n",
       "    <tr>\n",
       "      <th>2</th>\n",
       "      <td>2023-07-11</td>\n",
       "      <td>3</td>\n",
       "    </tr>\n",
       "    <tr>\n",
       "      <th>3</th>\n",
       "      <td>2023-02-28</td>\n",
       "      <td>1</td>\n",
       "    </tr>\n",
       "    <tr>\n",
       "      <th>4</th>\n",
       "      <td>2023-02-24</td>\n",
       "      <td>1</td>\n",
       "    </tr>\n",
       "  </tbody>\n",
       "</table>\n",
       "</div>"
      ],
      "text/plain": [
       "        data  trimestre\n",
       "0 2023-04-13          2\n",
       "1 2023-03-29          1\n",
       "2 2023-07-11          3\n",
       "3 2023-02-28          1\n",
       "4 2023-02-24          1"
      ]
     },
     "execution_count": 82,
     "metadata": {},
     "output_type": "execute_result"
    }
   ],
   "source": [
    "# SEU CÓDIGO AQUI\n",
    "df_vendas['trimestre'] = (df_vendas['data'].dt.month - 1) // 3 + 1\n",
    "\n",
    "print(\"Primeiras linhas com a nova coluna 'trimestre':\")\n",
    "df_vendas[['data', 'trimestre']].head()\n"
   ]
  },
  {
   "cell_type": "markdown",
   "id": "3dc14ded-0778-4c04-94f8-f606cdb32e31",
   "metadata": {},
   "source": [
    "##### 6.2 Crie uma coluna 'dia_util' que indique se a venda ocorreu em um dia útil (segunda a sexta) ou fim de semana (sábado e domingo)\n",
    "Dica: use o atributo .dt.dayofweek (0-4 para dias da semana, 5-6 para fim de semana)"
   ]
  },
  {
   "cell_type": "code",
   "execution_count": 83,
   "id": "fb486775-f343-4fc3-99e5-b36da28f5f71",
   "metadata": {},
   "outputs": [
    {
     "name": "stdout",
     "output_type": "stream",
     "text": [
      "Primeras 10 linhas com a nova coluna:\n"
     ]
    },
    {
     "data": {
      "text/html": [
       "<div>\n",
       "<style scoped>\n",
       "    .dataframe tbody tr th:only-of-type {\n",
       "        vertical-align: middle;\n",
       "    }\n",
       "\n",
       "    .dataframe tbody tr th {\n",
       "        vertical-align: top;\n",
       "    }\n",
       "\n",
       "    .dataframe thead th {\n",
       "        text-align: right;\n",
       "    }\n",
       "</style>\n",
       "<table border=\"1\" class=\"dataframe\">\n",
       "  <thead>\n",
       "    <tr style=\"text-align: right;\">\n",
       "      <th></th>\n",
       "      <th>valor_venda</th>\n",
       "      <th>dia_util</th>\n",
       "    </tr>\n",
       "  </thead>\n",
       "  <tbody>\n",
       "    <tr>\n",
       "      <th>0</th>\n",
       "      <td>2988.28</td>\n",
       "      <td>Dia útil</td>\n",
       "    </tr>\n",
       "    <tr>\n",
       "      <th>1</th>\n",
       "      <td>4849.85</td>\n",
       "      <td>Dia útil</td>\n",
       "    </tr>\n",
       "    <tr>\n",
       "      <th>2</th>\n",
       "      <td>2628.53</td>\n",
       "      <td>Dia útil</td>\n",
       "    </tr>\n",
       "    <tr>\n",
       "      <th>3</th>\n",
       "      <td>2285.79</td>\n",
       "      <td>Dia útil</td>\n",
       "    </tr>\n",
       "    <tr>\n",
       "      <th>4</th>\n",
       "      <td>3404.73</td>\n",
       "      <td>Dia útil</td>\n",
       "    </tr>\n",
       "    <tr>\n",
       "      <th>5</th>\n",
       "      <td>497.38</td>\n",
       "      <td>Dia útil</td>\n",
       "    </tr>\n",
       "    <tr>\n",
       "      <th>6</th>\n",
       "      <td>3779.25</td>\n",
       "      <td>Dia útil</td>\n",
       "    </tr>\n",
       "    <tr>\n",
       "      <th>7</th>\n",
       "      <td>1981.80</td>\n",
       "      <td>Final de semana</td>\n",
       "    </tr>\n",
       "    <tr>\n",
       "      <th>8</th>\n",
       "      <td>1790.20</td>\n",
       "      <td>Final de semana</td>\n",
       "    </tr>\n",
       "    <tr>\n",
       "      <th>9</th>\n",
       "      <td>1980.46</td>\n",
       "      <td>Final de semana</td>\n",
       "    </tr>\n",
       "  </tbody>\n",
       "</table>\n",
       "</div>"
      ],
      "text/plain": [
       "   valor_venda         dia_util\n",
       "0      2988.28         Dia útil\n",
       "1      4849.85         Dia útil\n",
       "2      2628.53         Dia útil\n",
       "3      2285.79         Dia útil\n",
       "4      3404.73         Dia útil\n",
       "5       497.38         Dia útil\n",
       "6      3779.25         Dia útil\n",
       "7      1981.80  Final de semana\n",
       "8      1790.20  Final de semana\n",
       "9      1980.46  Final de semana"
      ]
     },
     "execution_count": 83,
     "metadata": {},
     "output_type": "execute_result"
    }
   ],
   "source": [
    "# SEU CÓDIGO AQUI\n",
    "def classificar_dia(x):\n",
    "    if x < 5:\n",
    "        return 'Dia útil'\n",
    "    else:\n",
    "        return 'Final de semana'\n",
    "\n",
    "df_vendas['dia_util'] = df_vendas['data'].dt.dayofweek.apply(classificar_dia)\n",
    "\n",
    "print(\"Primeras 10 linhas com a nova coluna:\")\n",
    "df_vendas[['valor_venda', 'dia_util']].head(10)"
   ]
  },
  {
   "cell_type": "markdown",
   "id": "a13386b7-f845-43ac-9ba6-6efa0a4d554a",
   "metadata": {},
   "source": [
    "##### 6.3 Crie uma coluna 'margem_lucro' que é 30% do valor_venda"
   ]
  },
  {
   "cell_type": "code",
   "execution_count": 84,
   "id": "1399b914-841b-4af2-bdef-6e8e4516e447",
   "metadata": {},
   "outputs": [
    {
     "name": "stdout",
     "output_type": "stream",
     "text": [
      "Primeras linhas com a margem de lucro de 30% das vendas:\n"
     ]
    },
    {
     "data": {
      "text/html": [
       "<div>\n",
       "<style scoped>\n",
       "    .dataframe tbody tr th:only-of-type {\n",
       "        vertical-align: middle;\n",
       "    }\n",
       "\n",
       "    .dataframe tbody tr th {\n",
       "        vertical-align: top;\n",
       "    }\n",
       "\n",
       "    .dataframe thead th {\n",
       "        text-align: right;\n",
       "    }\n",
       "</style>\n",
       "<table border=\"1\" class=\"dataframe\">\n",
       "  <thead>\n",
       "    <tr style=\"text-align: right;\">\n",
       "      <th></th>\n",
       "      <th>valor_venda</th>\n",
       "      <th>margem_lucro</th>\n",
       "    </tr>\n",
       "  </thead>\n",
       "  <tbody>\n",
       "    <tr>\n",
       "      <th>0</th>\n",
       "      <td>2988.28</td>\n",
       "      <td>896.484</td>\n",
       "    </tr>\n",
       "    <tr>\n",
       "      <th>1</th>\n",
       "      <td>4849.85</td>\n",
       "      <td>1454.955</td>\n",
       "    </tr>\n",
       "    <tr>\n",
       "      <th>2</th>\n",
       "      <td>2628.53</td>\n",
       "      <td>788.559</td>\n",
       "    </tr>\n",
       "    <tr>\n",
       "      <th>3</th>\n",
       "      <td>2285.79</td>\n",
       "      <td>685.737</td>\n",
       "    </tr>\n",
       "    <tr>\n",
       "      <th>4</th>\n",
       "      <td>3404.73</td>\n",
       "      <td>1021.419</td>\n",
       "    </tr>\n",
       "  </tbody>\n",
       "</table>\n",
       "</div>"
      ],
      "text/plain": [
       "   valor_venda  margem_lucro\n",
       "0      2988.28       896.484\n",
       "1      4849.85      1454.955\n",
       "2      2628.53       788.559\n",
       "3      2285.79       685.737\n",
       "4      3404.73      1021.419"
      ]
     },
     "execution_count": 84,
     "metadata": {},
     "output_type": "execute_result"
    }
   ],
   "source": [
    "# SEU CÓDIGO AQUI\n",
    "df_vendas['margem_lucro'] = df_vendas['valor_venda'] * 0.3\n",
    "\n",
    "print(\"Primeras linhas com a margem de lucro de 30% das vendas:\")\n",
    "df_vendas[['valor_venda', 'margem_lucro']].head()"
   ]
  },
  {
   "cell_type": "markdown",
   "id": "e7652bf4-336e-407c-a54a-4894bda3f7b8",
   "metadata": {},
   "source": [
    "##### 6.4 Crie uma coluna categórica 'nivel_avaliacao' baseada na avaliação: 'Ruim' (1-2), 'Regular' (3), 'Bom' (4), 'Excelente' (5)"
   ]
  },
  {
   "cell_type": "code",
   "execution_count": 85,
   "id": "3647eaa0-4461-4043-a00d-7c73efea87e8",
   "metadata": {},
   "outputs": [
    {
     "name": "stdout",
     "output_type": "stream",
     "text": [
      "Primeiras linhas com a nova coluna de avaliação:\n"
     ]
    },
    {
     "data": {
      "text/html": [
       "<div>\n",
       "<style scoped>\n",
       "    .dataframe tbody tr th:only-of-type {\n",
       "        vertical-align: middle;\n",
       "    }\n",
       "\n",
       "    .dataframe tbody tr th {\n",
       "        vertical-align: top;\n",
       "    }\n",
       "\n",
       "    .dataframe thead th {\n",
       "        text-align: right;\n",
       "    }\n",
       "</style>\n",
       "<table border=\"1\" class=\"dataframe\">\n",
       "  <thead>\n",
       "    <tr style=\"text-align: right;\">\n",
       "      <th></th>\n",
       "      <th>avaliacao</th>\n",
       "      <th>nivel_avaliacao</th>\n",
       "    </tr>\n",
       "  </thead>\n",
       "  <tbody>\n",
       "    <tr>\n",
       "      <th>0</th>\n",
       "      <td>3</td>\n",
       "      <td>Regular</td>\n",
       "    </tr>\n",
       "    <tr>\n",
       "      <th>1</th>\n",
       "      <td>2</td>\n",
       "      <td>Ruim</td>\n",
       "    </tr>\n",
       "    <tr>\n",
       "      <th>2</th>\n",
       "      <td>1</td>\n",
       "      <td>Ruim</td>\n",
       "    </tr>\n",
       "    <tr>\n",
       "      <th>3</th>\n",
       "      <td>4</td>\n",
       "      <td>Bom</td>\n",
       "    </tr>\n",
       "    <tr>\n",
       "      <th>4</th>\n",
       "      <td>2</td>\n",
       "      <td>Ruim</td>\n",
       "    </tr>\n",
       "    <tr>\n",
       "      <th>5</th>\n",
       "      <td>4</td>\n",
       "      <td>Bom</td>\n",
       "    </tr>\n",
       "    <tr>\n",
       "      <th>6</th>\n",
       "      <td>2</td>\n",
       "      <td>Ruim</td>\n",
       "    </tr>\n",
       "    <tr>\n",
       "      <th>7</th>\n",
       "      <td>4</td>\n",
       "      <td>Bom</td>\n",
       "    </tr>\n",
       "    <tr>\n",
       "      <th>8</th>\n",
       "      <td>5</td>\n",
       "      <td>Excelente</td>\n",
       "    </tr>\n",
       "    <tr>\n",
       "      <th>9</th>\n",
       "      <td>3</td>\n",
       "      <td>Regular</td>\n",
       "    </tr>\n",
       "    <tr>\n",
       "      <th>10</th>\n",
       "      <td>4</td>\n",
       "      <td>Bom</td>\n",
       "    </tr>\n",
       "    <tr>\n",
       "      <th>11</th>\n",
       "      <td>5</td>\n",
       "      <td>Excelente</td>\n",
       "    </tr>\n",
       "    <tr>\n",
       "      <th>12</th>\n",
       "      <td>1</td>\n",
       "      <td>Ruim</td>\n",
       "    </tr>\n",
       "    <tr>\n",
       "      <th>13</th>\n",
       "      <td>1</td>\n",
       "      <td>Ruim</td>\n",
       "    </tr>\n",
       "    <tr>\n",
       "      <th>14</th>\n",
       "      <td>5</td>\n",
       "      <td>Excelente</td>\n",
       "    </tr>\n",
       "    <tr>\n",
       "      <th>15</th>\n",
       "      <td>5</td>\n",
       "      <td>Excelente</td>\n",
       "    </tr>\n",
       "    <tr>\n",
       "      <th>16</th>\n",
       "      <td>4</td>\n",
       "      <td>Bom</td>\n",
       "    </tr>\n",
       "    <tr>\n",
       "      <th>17</th>\n",
       "      <td>3</td>\n",
       "      <td>Regular</td>\n",
       "    </tr>\n",
       "    <tr>\n",
       "      <th>18</th>\n",
       "      <td>3</td>\n",
       "      <td>Regular</td>\n",
       "    </tr>\n",
       "    <tr>\n",
       "      <th>19</th>\n",
       "      <td>2</td>\n",
       "      <td>Ruim</td>\n",
       "    </tr>\n",
       "  </tbody>\n",
       "</table>\n",
       "</div>"
      ],
      "text/plain": [
       "    avaliacao nivel_avaliacao\n",
       "0           3         Regular\n",
       "1           2            Ruim\n",
       "2           1            Ruim\n",
       "3           4             Bom\n",
       "4           2            Ruim\n",
       "5           4             Bom\n",
       "6           2            Ruim\n",
       "7           4             Bom\n",
       "8           5       Excelente\n",
       "9           3         Regular\n",
       "10          4             Bom\n",
       "11          5       Excelente\n",
       "12          1            Ruim\n",
       "13          1            Ruim\n",
       "14          5       Excelente\n",
       "15          5       Excelente\n",
       "16          4             Bom\n",
       "17          3         Regular\n",
       "18          3         Regular\n",
       "19          2            Ruim"
      ]
     },
     "execution_count": 85,
     "metadata": {},
     "output_type": "execute_result"
    }
   ],
   "source": [
    "# SEU CÓDIGO AQUI\n",
    "def classificar_avaliacao(x):\n",
    "    if x < 3:\n",
    "        return 'Ruim'\n",
    "    elif x == 3:\n",
    "        return 'Regular'\n",
    "    elif x == 4:\n",
    "        return 'Bom'\n",
    "    else:\n",
    "        return 'Excelente'\n",
    "    \n",
    "df_vendas['nivel_avaliacao'] = df_vendas['avaliacao'].apply(classificar_avaliacao)\n",
    "\n",
    "print(\"Primeiras linhas com a nova coluna de avaliação:\")\n",
    "df_vendas[['avaliacao', 'nivel_avaliacao']].head(20)"
   ]
  },
  {
   "cell_type": "markdown",
   "id": "93691517-0708-4d83-a844-38d70ee751e9",
   "metadata": {},
   "source": [
    "##### 6.5 Crie uma coluna 'acima_media' que tenha valor True se o valor_venda for superior à média de todas as vendas e False caso contrário"
   ]
  },
  {
   "cell_type": "code",
   "execution_count": 86,
   "id": "b1aa4fc9-ee2d-4832-a012-7656c0f76942",
   "metadata": {},
   "outputs": [
    {
     "name": "stdout",
     "output_type": "stream",
     "text": [
      "Primeiras linhas com a nova coluna:\n"
     ]
    },
    {
     "data": {
      "text/html": [
       "<div>\n",
       "<style scoped>\n",
       "    .dataframe tbody tr th:only-of-type {\n",
       "        vertical-align: middle;\n",
       "    }\n",
       "\n",
       "    .dataframe tbody tr th {\n",
       "        vertical-align: top;\n",
       "    }\n",
       "\n",
       "    .dataframe thead th {\n",
       "        text-align: right;\n",
       "    }\n",
       "</style>\n",
       "<table border=\"1\" class=\"dataframe\">\n",
       "  <thead>\n",
       "    <tr style=\"text-align: right;\">\n",
       "      <th></th>\n",
       "      <th>valor_venda</th>\n",
       "      <th>acima_media</th>\n",
       "    </tr>\n",
       "  </thead>\n",
       "  <tbody>\n",
       "    <tr>\n",
       "      <th>0</th>\n",
       "      <td>2988.28</td>\n",
       "      <td>True</td>\n",
       "    </tr>\n",
       "    <tr>\n",
       "      <th>1</th>\n",
       "      <td>4849.85</td>\n",
       "      <td>True</td>\n",
       "    </tr>\n",
       "    <tr>\n",
       "      <th>2</th>\n",
       "      <td>2628.53</td>\n",
       "      <td>True</td>\n",
       "    </tr>\n",
       "    <tr>\n",
       "      <th>3</th>\n",
       "      <td>2285.79</td>\n",
       "      <td>False</td>\n",
       "    </tr>\n",
       "    <tr>\n",
       "      <th>4</th>\n",
       "      <td>3404.73</td>\n",
       "      <td>True</td>\n",
       "    </tr>\n",
       "  </tbody>\n",
       "</table>\n",
       "</div>"
      ],
      "text/plain": [
       "   valor_venda  acima_media\n",
       "0      2988.28         True\n",
       "1      4849.85         True\n",
       "2      2628.53         True\n",
       "3      2285.79        False\n",
       "4      3404.73         True"
      ]
     },
     "execution_count": 86,
     "metadata": {},
     "output_type": "execute_result"
    }
   ],
   "source": [
    "# SEU CÓDIGO AQUI\n",
    "media_vendas = df_vendas['valor_venda'].mean()\n",
    "\n",
    "df_vendas['acima_media'] = df_vendas['valor_venda'] > media_vendas\n",
    "\n",
    "print(\"Primeiras linhas com a nova coluna:\")\n",
    "df_vendas[['valor_venda', 'acima_media']].head()"
   ]
  },
  {
   "cell_type": "markdown",
   "id": "34bb547f-79e7-4f0f-ad4a-e5f2131cd954",
   "metadata": {},
   "source": [
    "---"
   ]
  },
  {
   "cell_type": "markdown",
   "id": "457f3bf3",
   "metadata": {},
   "source": [
    "# 7. Visualização de Dados com Pandas\n",
    "A visualização é uma parte fundamental da análise de dados. O Pandas oferece uma integração com Matplotlib que facilita a criação de diversos tipos de gráficos através do método `.plot()`.\n",
    "\n",
    "### 7.1 Gráficos de Linha\n",
    "Os gráficos de linha são ótimos para mostrar mudanças ao longo do tempo ou tendências."
   ]
  },
  {
   "cell_type": "code",
   "execution_count": 87,
   "id": "edd03e1a",
   "metadata": {},
   "outputs": [
    {
     "data": {
      "image/png": "[encoded data removed]",
      "text/plain": [
       "<Figure size 640x480 with 1 Axes>"
      ]
     },
     "metadata": {},
     "output_type": "display_data"
    }
   ],
   "source": [
    "# Agrupando vendas por mês\n",
    "vendas_mensais = df_vendas.groupby('mes')['valor_total'].sum()\n",
    "\n",
    "# Criando um simples gráfico de linha\n",
    "vendas_mensais.plot(kind='line') # O parâmetro 'kind' especifica qual tipo de gráfico queremos, nesse caso, linha (line)\n",
    "plt.title('Valor Total de Vendas por Mês') # Título do gráfico\n",
    "plt.xlabel('Mês') # Rótulo do eixo x\n",
    "plt.ylabel('Valor Total (R$)') # Rótulo do eixo y\n",
    "plt.show()"
   ]
  },
  {
   "cell_type": "markdown",
   "id": "21eaba1d",
   "metadata": {},
   "source": [
    "### 7.2 Gráficos de Barras\n",
    "Os gráficos de barras são ótimos para comparar valores entre diferentes categorias."
   ]
  },
  {
   "cell_type": "code",
   "execution_count": 88,
   "id": "d9d51589",
   "metadata": {},
   "outputs": [
    {
     "data": {
      "image/png": "[encoded data removed]",
      "text/plain": [
       "<Figure size 640x480 with 1 Axes>"
      ]
     },
     "metadata": {},
     "output_type": "display_data"
    }
   ],
   "source": [
    "# Valor total de vendas por categoria\n",
    "vendas_por_categoria = df_vendas.groupby('categoria')['valor_total'].sum()\n",
    "\n",
    "# Criando um gráfico de barras simples\n",
    "vendas_por_categoria.plot(kind='bar')\n",
    "plt.title('Valor Total de Vendas por Categoria')\n",
    "plt.xlabel('Categoria')\n",
    "plt.ylabel('Valor Total (R$)')\n",
    "plt.show()"
   ]
  },
  {
   "cell_type": "markdown",
   "id": "348978a4",
   "metadata": {},
   "source": [
    "### 7.3 Histogramas\n",
    "Histogramas mostram a distribuição dos seus dados, dividindo os valores em intervalos (bins)."
   ]
  },
  {
   "cell_type": "code",
   "execution_count": 89,
   "id": "1c1d9419",
   "metadata": {},
   "outputs": [
    {
     "data": {
      "image/png": "[encoded data removed]",
      "text/plain": [
       "<Figure size 640x480 with 1 Axes>"
      ]
     },
     "metadata": {},
     "output_type": "display_data"
    }
   ],
   "source": [
    "# Histograma dos valores de venda\n",
    "df_vendas['valor_venda'].plot(kind='hist', bins=20)\n",
    "plt.title('Distribuição dos Valores de Venda')\n",
    "plt.xlabel('Valor (R$)')\n",
    "plt.ylabel('Frequência')\n",
    "plt.show()"
   ]
  },
  {
   "cell_type": "markdown",
   "id": "25c617d5",
   "metadata": {},
   "source": [
    "### 7.4 Personalizando Gráficos\n",
    "Você pode personalizar seus gráficos adicionando cores, marcadores e outros elementos."
   ]
  },
  {
   "cell_type": "code",
   "execution_count": 90,
   "id": "462ecef1",
   "metadata": {},
   "outputs": [
    {
     "data": {
      "image/png": "[encoded data removed]",
      "text/plain": [
       "<Figure size 1000x500 with 1 Axes>"
      ]
     },
     "metadata": {},
     "output_type": "display_data"
    }
   ],
   "source": [
    "# Personalizando um gráfico de linha\n",
    "vendas_mensais.plot(\n",
    "    kind='line',\n",
    "    figsize=(10, 5),   # Tamanho da figura\n",
    "    color='green',     # Cor da linha\n",
    "    marker='o',        # Marcador nos pontos\n",
    "    linestyle='--',    # Estilo da linha\n",
    "    linewidth=2        # Espessura da linha\n",
    ")\n",
    "plt.title('Valor Total de Vendas por Mês')\n",
    "plt.xlabel('Mês')\n",
    "plt.ylabel('Valor Total (R$)')\n",
    "plt.grid(True)\n",
    "plt.show()"
   ]
  },
  {
   "cell_type": "markdown",
   "id": "3b6431e2",
   "metadata": {},
   "source": [
    "#### Exercício 7: Visualização de Dados\n",
    "Agora é sua vez de praticar a criação de gráficos com Pandas:\n",
    "\n",
    "##### 7.1 Crie um gráfico de barras mostrando o número de vendas por canal_venda"
   ]
  },
  {
   "cell_type": "code",
   "execution_count": 91,
   "id": "8faaa925",
   "metadata": {},
   "outputs": [
    {
     "data": {
      "image/png": "[encoded data removed]",
      "text/plain": [
       "<Figure size 640x480 with 1 Axes>"
      ]
     },
     "metadata": {},
     "output_type": "display_data"
    },
    {
     "data": {
      "text/html": [
       "<div>\n",
       "<style scoped>\n",
       "    .dataframe tbody tr th:only-of-type {\n",
       "        vertical-align: middle;\n",
       "    }\n",
       "\n",
       "    .dataframe tbody tr th {\n",
       "        vertical-align: top;\n",
       "    }\n",
       "\n",
       "    .dataframe thead th {\n",
       "        text-align: right;\n",
       "    }\n",
       "</style>\n",
       "<table border=\"1\" class=\"dataframe\">\n",
       "  <thead>\n",
       "    <tr style=\"text-align: right;\">\n",
       "      <th></th>\n",
       "      <th>data</th>\n",
       "      <th>categoria</th>\n",
       "      <th>produto</th>\n",
       "      <th>regiao</th>\n",
       "      <th>estado</th>\n",
       "      <th>canal_venda</th>\n",
       "      <th>valor_venda</th>\n",
       "      <th>quantidade</th>\n",
       "      <th>avaliacao</th>\n",
       "      <th>ano</th>\n",
       "      <th>...</th>\n",
       "      <th>valor_total</th>\n",
       "      <th>desconto</th>\n",
       "      <th>valor_com_desconto</th>\n",
       "      <th>faixa_preco</th>\n",
       "      <th>tamanho_pedido</th>\n",
       "      <th>trimestre</th>\n",
       "      <th>dia_util</th>\n",
       "      <th>margem_lucro</th>\n",
       "      <th>nivel_avaliacao</th>\n",
       "      <th>acima_media</th>\n",
       "    </tr>\n",
       "  </thead>\n",
       "  <tbody>\n",
       "    <tr>\n",
       "      <th>0</th>\n",
       "      <td>2023-04-13</td>\n",
       "      <td>Casa</td>\n",
       "      <td>Armário</td>\n",
       "      <td>Centro-Oeste</td>\n",
       "      <td>MS</td>\n",
       "      <td>Online</td>\n",
       "      <td>2988.28</td>\n",
       "      <td>3</td>\n",
       "      <td>3</td>\n",
       "      <td>2023</td>\n",
       "      <td>...</td>\n",
       "      <td>8964.84</td>\n",
       "      <td>298.828</td>\n",
       "      <td>2689.452</td>\n",
       "      <td>Alto</td>\n",
       "      <td>Médio</td>\n",
       "      <td>2</td>\n",
       "      <td>Dia útil</td>\n",
       "      <td>896.484</td>\n",
       "      <td>Regular</td>\n",
       "      <td>True</td>\n",
       "    </tr>\n",
       "    <tr>\n",
       "      <th>1</th>\n",
       "      <td>2023-03-29</td>\n",
       "      <td>Beleza</td>\n",
       "      <td>Perfume</td>\n",
       "      <td>Centro-Oeste</td>\n",
       "      <td>GO</td>\n",
       "      <td>Online</td>\n",
       "      <td>4849.85</td>\n",
       "      <td>6</td>\n",
       "      <td>2</td>\n",
       "      <td>2023</td>\n",
       "      <td>...</td>\n",
       "      <td>29099.10</td>\n",
       "      <td>484.985</td>\n",
       "      <td>4364.865</td>\n",
       "      <td>Alto</td>\n",
       "      <td>Grande</td>\n",
       "      <td>1</td>\n",
       "      <td>Dia útil</td>\n",
       "      <td>1454.955</td>\n",
       "      <td>Ruim</td>\n",
       "      <td>True</td>\n",
       "    </tr>\n",
       "    <tr>\n",
       "      <th>2</th>\n",
       "      <td>2023-07-11</td>\n",
       "      <td>Casa</td>\n",
       "      <td>Armário</td>\n",
       "      <td>Norte</td>\n",
       "      <td>RR</td>\n",
       "      <td>Loja Física</td>\n",
       "      <td>2628.53</td>\n",
       "      <td>9</td>\n",
       "      <td>1</td>\n",
       "      <td>2023</td>\n",
       "      <td>...</td>\n",
       "      <td>23656.77</td>\n",
       "      <td>262.853</td>\n",
       "      <td>2365.677</td>\n",
       "      <td>Alto</td>\n",
       "      <td>Grande</td>\n",
       "      <td>3</td>\n",
       "      <td>Dia útil</td>\n",
       "      <td>788.559</td>\n",
       "      <td>Ruim</td>\n",
       "      <td>True</td>\n",
       "    </tr>\n",
       "    <tr>\n",
       "      <th>3</th>\n",
       "      <td>2023-02-28</td>\n",
       "      <td>Roupas</td>\n",
       "      <td>Sapato</td>\n",
       "      <td>Sudeste</td>\n",
       "      <td>ES</td>\n",
       "      <td>Aplicativo</td>\n",
       "      <td>2285.79</td>\n",
       "      <td>3</td>\n",
       "      <td>4</td>\n",
       "      <td>2023</td>\n",
       "      <td>...</td>\n",
       "      <td>6857.37</td>\n",
       "      <td>228.579</td>\n",
       "      <td>2057.211</td>\n",
       "      <td>Alto</td>\n",
       "      <td>Médio</td>\n",
       "      <td>1</td>\n",
       "      <td>Dia útil</td>\n",
       "      <td>685.737</td>\n",
       "      <td>Bom</td>\n",
       "      <td>False</td>\n",
       "    </tr>\n",
       "    <tr>\n",
       "      <th>4</th>\n",
       "      <td>2023-02-24</td>\n",
       "      <td>Casa</td>\n",
       "      <td>Sofá</td>\n",
       "      <td>Centro-Oeste</td>\n",
       "      <td>DF</td>\n",
       "      <td>Aplicativo</td>\n",
       "      <td>3404.73</td>\n",
       "      <td>9</td>\n",
       "      <td>2</td>\n",
       "      <td>2023</td>\n",
       "      <td>...</td>\n",
       "      <td>30642.57</td>\n",
       "      <td>340.473</td>\n",
       "      <td>3064.257</td>\n",
       "      <td>Alto</td>\n",
       "      <td>Grande</td>\n",
       "      <td>1</td>\n",
       "      <td>Dia útil</td>\n",
       "      <td>1021.419</td>\n",
       "      <td>Ruim</td>\n",
       "      <td>True</td>\n",
       "    </tr>\n",
       "  </tbody>\n",
       "</table>\n",
       "<p>5 rows × 23 columns</p>\n",
       "</div>"
      ],
      "text/plain": [
       "        data categoria  produto        regiao estado  canal_venda  \\\n",
       "0 2023-04-13      Casa  Armário  Centro-Oeste     MS       Online   \n",
       "1 2023-03-29    Beleza  Perfume  Centro-Oeste     GO       Online   \n",
       "2 2023-07-11      Casa  Armário         Norte     RR  Loja Física   \n",
       "3 2023-02-28    Roupas   Sapato       Sudeste     ES   Aplicativo   \n",
       "4 2023-02-24      Casa     Sofá  Centro-Oeste     DF   Aplicativo   \n",
       "\n",
       "   valor_venda  quantidade  avaliacao   ano  ...  valor_total  desconto  \\\n",
       "0      2988.28           3          3  2023  ...      8964.84   298.828   \n",
       "1      4849.85           6          2  2023  ...     29099.10   484.985   \n",
       "2      2628.53           9          1  2023  ...     23656.77   262.853   \n",
       "3      2285.79           3          4  2023  ...      6857.37   228.579   \n",
       "4      3404.73           9          2  2023  ...     30642.57   340.473   \n",
       "\n",
       "  valor_com_desconto  faixa_preco  tamanho_pedido  trimestre  dia_util  \\\n",
       "0           2689.452         Alto           Médio          2  Dia útil   \n",
       "1           4364.865         Alto          Grande          1  Dia útil   \n",
       "2           2365.677         Alto          Grande          3  Dia útil   \n",
       "3           2057.211         Alto           Médio          1  Dia útil   \n",
       "4           3064.257         Alto          Grande          1  Dia útil   \n",
       "\n",
       "  margem_lucro  nivel_avaliacao acima_media  \n",
       "0      896.484          Regular        True  \n",
       "1     1454.955             Ruim        True  \n",
       "2      788.559             Ruim        True  \n",
       "3      685.737              Bom       False  \n",
       "4     1021.419             Ruim        True  \n",
       "\n",
       "[5 rows x 23 columns]"
      ]
     },
     "execution_count": 91,
     "metadata": {},
     "output_type": "execute_result"
    }
   ],
   "source": [
    "# SEU CÓDIGO AQUI\n",
    "numero_vendas = df_vendas['canal_venda'].value_counts()\n",
    "\n",
    "numero_vendas.plot(kind='bar')\n",
    "plt.title('Número total de vendas por canal_venda')\n",
    "plt.xlabel('Canal de venda')\n",
    "plt.ylabel('Quantidade de vendas')\n",
    "plt.show()\n",
    "\n",
    "df_vendas.head()"
   ]
  },
  {
   "cell_type": "markdown",
   "id": "9f84b6a2",
   "metadata": {},
   "source": [
    "##### 7.2 Crie um gráfico de linha simples mostrando a média de valor_venda por mês"
   ]
  },
  {
   "cell_type": "code",
   "execution_count": 92,
   "id": "02188938",
   "metadata": {},
   "outputs": [
    {
     "data": {
      "image/png": "[encoded data removed]",
      "text/plain": [
       "<Figure size 640x480 with 1 Axes>"
      ]
     },
     "metadata": {},
     "output_type": "display_data"
    }
   ],
   "source": [
    "# SEU CÓDIGO AQUI\n",
    "media_valores = df_vendas.groupby('mes')['valor_venda'].mean()\n",
    "\n",
    "media_valores.plot(kind='line')\n",
    "plt.title('Média de valores de vendas por mês')\n",
    "plt.xlabel('Mês')\n",
    "plt.ylabel('Valor médio das vendas (R$)')\n",
    "plt.grid(True)\n",
    "plt.show()"
   ]
  },
  {
   "cell_type": "markdown",
   "id": "e115e039",
   "metadata": {},
   "source": [
    "##### 7.3 Crie um histograma da coluna 'avaliacao' e adicione um título"
   ]
  },
  {
   "cell_type": "code",
   "execution_count": 93,
   "id": "72bf7e2a",
   "metadata": {},
   "outputs": [
    {
     "data": {
      "image/png": "[encoded data removed]",
      "text/plain": [
       "<Figure size 640x480 with 1 Axes>"
      ]
     },
     "metadata": {},
     "output_type": "display_data"
    }
   ],
   "source": [
    "# SEU CÓDIGO AQUI\n",
    "df_vendas['avaliacao'].plot(kind='hist', bins=9, color='green')\n",
    "plt.title('Distribuição das Avaliações das Vendas')\n",
    "plt.xlabel('Nível de Avaliação')\n",
    "plt.ylabel('Quantidade de avaliações')\n",
    "plt.show()"
   ]
  },
  {
   "cell_type": "markdown",
   "id": "399157d0",
   "metadata": {},
   "source": [
    "##### 7.4 Crie um gráfico de barras mostrando o total de vendas por região"
   ]
  },
  {
   "cell_type": "code",
   "execution_count": 94,
   "id": "6aacdffa",
   "metadata": {},
   "outputs": [
    {
     "data": {
      "image/png": "[encoded data removed]",
      "text/plain": [
       "<Figure size 640x480 with 1 Axes>"
      ]
     },
     "metadata": {},
     "output_type": "display_data"
    }
   ],
   "source": [
    "# SEU CÓDIGO AQUI\n",
    "total_vendas_regiao = df_vendas.groupby('regiao')['valor_venda'].sum()\n",
    "\n",
    "total_vendas_regiao.plot(kind='bar')\n",
    "plt.title('Total de vendas por Região')\n",
    "plt.xlabel('Região')\n",
    "plt.ylabel('Total vendido (R$)')\n",
    "plt.show()"
   ]
  },
  {
   "cell_type": "markdown",
   "id": "023e0188",
   "metadata": {},
   "source": [
    "---"
   ]
  },
  {
   "cell_type": "markdown",
   "id": "98ce4a7c",
   "metadata": {},
   "source": [
    "# Você Chegou ao Fim!\n",
    "\n",
    "Parabéns por ter chegado até aqui, guerreiro(a) dos dados! \n",
    "(A não ser que você tenha pulado tudo e vindo direto pra cá... hmm, estamos de olho 👀)\n",
    "\n",
    "Esperamos que você tenha conseguido resolver todos os exercícios - ou pelo menos tenha quebrado a cabeça tentando!\n",
    "\n",
    "## 📋 Antes de enviar, dá uma conferida final:\n",
    "- Todas as células estão funcionando? (Por favor, diz que sim 🙏)\n",
    "- Você respondeu todas as questões? (Aquela do meio era difícil, né?)\n",
    "- O código está rodando sem erros? (Ou sem MUITOS erros, pelo menos 😅)\n",
    "\n",
    "## 📤 INSTRUÇÕES DE ENTREGA:\n",
    "- Envie este notebook para: lads.unama@gmail.com\n",
    "- Prazo: Domingo, 18/05/2025, às 23:59\n",
    "\n",
    "Você pode mandar o arquivo direto ou o link do seu GitHub - escolha a opção que te deixa mais zen!\n",
    "\n",
    "Boa sorte e até a próxima fase (pensamento positivo, né?)! 💪\n",
    "\n",
    "— Equipe LADS, que já está ansiosa pra ver a magia que você fez com esses dados"
   ]
  }
 ],
 "metadata": {
  "kernelspec": {
   "display_name": "Python 3",
   "language": "python",
   "name": "python3"
  },
  "language_info": {
   "codemirror_mode": {
    "name": "ipython",
    "version": 3
   },
   "file_extension": ".py",
   "mimetype": "text/x-python",
   "name": "python",
   "nbconvert_exporter": "python",
   "pygments_lexer": "ipython3",
   "version": "3.13.3"
  }
 },
 "nbformat": 4,
 "nbformat_minor": 5
}
